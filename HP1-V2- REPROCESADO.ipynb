{
 "cells": [
  {
   "cell_type": "raw",
   "id": "61c78826",
   "metadata": {
    "slideshow": {
     "slide_type": "fragment"
    }
   },
   "source": [
    "## Proyecto: Cobranzas Microcréditos \n",
    "### Objetivo: Validad la Hipótesis \n",
    "### Autor: Dmarca T21818"
   ]
  },
  {
   "cell_type": "markdown",
   "id": "74365a7d",
   "metadata": {},
   "source": [
    "### CONEXIÓN Y ARMADO DE TABLA"
   ]
  },
  {
   "cell_type": "code",
   "execution_count": 1,
   "id": "01655ad8-918a-471a-80e9-a9b78af851e5",
   "metadata": {
    "ExecuteTime": {
     "end_time": "2022-05-31T15:26:47.224665Z",
     "start_time": "2022-05-31T15:26:47.219667Z"
    },
    "slideshow": {
     "slide_type": "slide"
    }
   },
   "outputs": [],
   "source": [
    "import pandas as pd \n",
    "import numpy as np \n",
    "import pyodbc\n",
    "from datetime import datetime \n",
    "import seaborn as sns\n",
    "\n",
    "import matplotlib.pyplot as plt"
   ]
  },
  {
   "cell_type": "code",
   "execution_count": 2,
   "id": "3969f419",
   "metadata": {
    "ExecuteTime": {
     "end_time": "2022-05-31T15:26:47.624943Z",
     "start_time": "2022-05-31T15:26:47.620954Z"
    }
   },
   "outputs": [],
   "source": [
    "import pickle"
   ]
  },
  {
   "cell_type": "code",
   "execution_count": 3,
   "id": "be421064",
   "metadata": {
    "ExecuteTime": {
     "end_time": "2022-05-31T15:26:50.998955Z",
     "start_time": "2022-05-31T15:26:48.203695Z"
    },
    "slideshow": {
     "slide_type": "subslide"
    }
   },
   "outputs": [],
   "source": [
    "import pingouin as pg"
   ]
  },
  {
   "cell_type": "code",
   "execution_count": 4,
   "id": "916e7f19",
   "metadata": {
    "ExecuteTime": {
     "end_time": "2022-05-31T15:26:51.022188Z",
     "start_time": "2022-05-31T15:26:51.017181Z"
    },
    "slideshow": {
     "slide_type": "fragment"
    }
   },
   "outputs": [],
   "source": [
    "#pip install openpyxl"
   ]
  },
  {
   "cell_type": "code",
   "execution_count": 5,
   "id": "4ce8d420-cac4-4228-b9b4-392af9d56bd5",
   "metadata": {
    "ExecuteTime": {
     "end_time": "2022-05-13T16:47:36.555730Z",
     "start_time": "2022-05-13T16:47:36.451918Z"
    },
    "slideshow": {
     "slide_type": "skip"
    }
   },
   "outputs": [
    {
     "name": "stderr",
     "output_type": "stream",
     "text": [
      "D:\\PythonEnvs\\gmesaenv\\lib\\site-packages\\outdated\\utils.py:18: OutdatedPackageWarning: The package pingouin is out of date. Your version is 0.5.1, the latest is 0.5.2.\n",
      "Set the environment variable OUTDATED_IGNORE=1 to disable these warnings.\n",
      "  **kwargs\n"
     ]
    }
   ],
   "source": [
    "import pyodbc\n",
    "conn = pyodbc.connect('Driver={SQL Server};'\n",
    "                      'Server=BCRRBM00;'\n",
    "                      'Database=BD_IFRS9_estudio;'\n",
    "                      'Trusted_Connection=yes;')\n",
    "conn\n",
    "cursor = conn.cursor()"
   ]
  },
  {
   "cell_type": "code",
   "execution_count": 6,
   "id": "71041df8-a728-4b6d-80e3-89bf2cda2222",
   "metadata": {
    "ExecuteTime": {
     "end_time": "2022-05-13T16:47:36.655904Z",
     "start_time": "2022-05-13T16:47:36.557695Z"
    },
    "slideshow": {
     "slide_type": "notes"
    }
   },
   "outputs": [],
   "source": [
    "q001=( ''' \n",
    "select Matricula, avg_cant_news, Avg_Nro_calls, Avg_Nro_Gest, Avg_Nro_visits, Cant_mes, ANT_MONTH\n",
    "from  [BD_IFRS9_estudio].[mcr].[DESEMBOLSOS_FUNC_MES_2]  \n",
    "WHERE FEC_MES = '202204'\n",
    "''')\n",
    "df1= pd.read_sql(q001,conn)"
   ]
  },
  {
   "cell_type": "code",
   "execution_count": 7,
   "id": "8684f21c",
   "metadata": {
    "ExecuteTime": {
     "end_time": "2022-05-31T15:26:59.932138Z",
     "start_time": "2022-05-31T15:26:57.332470Z"
    },
    "slideshow": {
     "slide_type": "notes"
    }
   },
   "outputs": [],
   "source": [
    "df_ind_func= pd.read_excel(\"D:/Marisa Baldellon/01 PROYECTOS 2022/02 COBRANZAS MICROCREDITOS/HistoricoRV2021_2022_Compartir.xlsx\", header = 1 )"
   ]
  },
  {
   "cell_type": "code",
   "execution_count": 8,
   "id": "806f65c5",
   "metadata": {
    "ExecuteTime": {
     "end_time": "2022-05-31T15:27:05.209417Z",
     "start_time": "2022-05-31T15:27:05.165533Z"
    }
   },
   "outputs": [
    {
     "data": {
      "text/html": [
       "<div>\n",
       "<style scoped>\n",
       "    .dataframe tbody tr th:only-of-type {\n",
       "        vertical-align: middle;\n",
       "    }\n",
       "\n",
       "    .dataframe tbody tr th {\n",
       "        vertical-align: top;\n",
       "    }\n",
       "\n",
       "    .dataframe thead th {\n",
       "        text-align: right;\n",
       "    }\n",
       "</style>\n",
       "<table border=\"1\" class=\"dataframe\">\n",
       "  <thead>\n",
       "    <tr style=\"text-align: right;\">\n",
       "      <th></th>\n",
       "      <th>MES</th>\n",
       "      <th>MATRICULA</th>\n",
       "      <th>OFICINA</th>\n",
       "      <th>Ciudad</th>\n",
       "      <th>Clientes</th>\n",
       "      <th>Cartera</th>\n",
       "      <th>Cliente Act.</th>\n",
       "      <th>Cart Activos</th>\n",
       "      <th>Sdo Mora</th>\n",
       "      <th>% MORA</th>\n",
       "      <th>%Reso 0</th>\n",
       "      <th>&lt;=14</th>\n",
       "      <th>&lt;=42</th>\n",
       "      <th>&gt;42</th>\n",
       "      <th>Total</th>\n",
       "      <th>Des</th>\n",
       "      <th>Mora</th>\n",
       "      <th>Acel</th>\n",
       "      <th>Total.1</th>\n",
       "    </tr>\n",
       "  </thead>\n",
       "  <tbody>\n",
       "    <tr>\n",
       "      <th>0</th>\n",
       "      <td>202203</td>\n",
       "      <td>S50887</td>\n",
       "      <td>OF. MIC. CENTRO LA PAZ</td>\n",
       "      <td>LA PAZ</td>\n",
       "      <td>153</td>\n",
       "      <td>4.739036e+06</td>\n",
       "      <td>142</td>\n",
       "      <td>4.437243e+06</td>\n",
       "      <td>52604.490666</td>\n",
       "      <td>0.0111</td>\n",
       "      <td>0.956762</td>\n",
       "      <td>5.0</td>\n",
       "      <td>1.0</td>\n",
       "      <td>1.0</td>\n",
       "      <td>7.0</td>\n",
       "      <td>0.151579</td>\n",
       "      <td>0.131245</td>\n",
       "      <td>0.0</td>\n",
       "      <td>0.282825</td>\n",
       "    </tr>\n",
       "  </tbody>\n",
       "</table>\n",
       "</div>"
      ],
      "text/plain": [
       "      MES MATRICULA                 OFICINA  Ciudad  Clientes       Cartera  \\\n",
       "0  202203    S50887  OF. MIC. CENTRO LA PAZ  LA PAZ       153  4.739036e+06   \n",
       "\n",
       "   Cliente Act.  Cart Activos      Sdo Mora  % MORA   %Reso 0  <=14  <=42  \\\n",
       "0           142  4.437243e+06  52604.490666  0.0111  0.956762   5.0   1.0   \n",
       "\n",
       "   >42  Total       Des      Mora  Acel   Total.1  \n",
       "0  1.0    7.0  0.151579  0.131245   0.0  0.282825  "
      ]
     },
     "execution_count": 8,
     "metadata": {},
     "output_type": "execute_result"
    }
   ],
   "source": [
    "df_ind_func.head(1)"
   ]
  },
  {
   "cell_type": "code",
   "execution_count": 9,
   "id": "51d9b230",
   "metadata": {
    "ExecuteTime": {
     "end_time": "2022-05-31T15:27:07.558181Z",
     "start_time": "2022-05-31T15:27:07.332657Z"
    }
   },
   "outputs": [
    {
     "data": {
      "text/plain": [
       "(63, 7)"
      ]
     },
     "execution_count": 9,
     "metadata": {},
     "output_type": "execute_result"
    }
   ],
   "source": [
    "df1.shape"
   ]
  },
  {
   "cell_type": "code",
   "execution_count": 10,
   "id": "af073ed8",
   "metadata": {
    "ExecuteTime": {
     "end_time": "2022-05-31T15:27:20.598308Z",
     "start_time": "2022-05-31T15:27:20.588356Z"
    }
   },
   "outputs": [],
   "source": [
    "RENDIMIENTO_FFNN = df_ind_func[df_ind_func.MES >= 202201].groupby([\"MATRICULA\"]).mean()\n",
    "RENDIMIENTO_FFNN.drop(\"MES\",axis = 1, inplace = True)\n",
    "RENDIMIENTO_FFNN.reset_index(inplace=True)"
   ]
  },
  {
   "cell_type": "code",
   "execution_count": 11,
   "id": "b6649268",
   "metadata": {
    "ExecuteTime": {
     "end_time": "2022-05-31T15:27:21.569254Z",
     "start_time": "2022-05-31T15:27:21.564283Z"
    }
   },
   "outputs": [
    {
     "data": {
      "text/plain": [
       "(75, 16)"
      ]
     },
     "execution_count": 11,
     "metadata": {},
     "output_type": "execute_result"
    }
   ],
   "source": [
    "RENDIMIENTO_FFNN.shape"
   ]
  },
  {
   "cell_type": "code",
   "execution_count": 12,
   "id": "01558e23",
   "metadata": {
    "ExecuteTime": {
     "end_time": "2022-05-13T16:47:37.319018Z",
     "start_time": "2022-05-13T16:47:37.246214Z"
    }
   },
   "outputs": [
    {
     "data": {
      "text/plain": [
       "Index(['MATRICULA', 'Clientes', 'Cartera', 'Cliente Act.', 'Cart Activos',\n",
       "       'Sdo Mora', '% MORA', '%Reso 0', '<=14', '<=42', '>42', 'Total', 'Des',\n",
       "       'Mora', 'Acel', 'Total.1'],\n",
       "      dtype='object')"
      ]
     },
     "execution_count": 12,
     "metadata": {},
     "output_type": "execute_result"
    }
   ],
   "source": [
    "RENDIMIENTO_FFNN.columns"
   ]
  },
  {
   "cell_type": "code",
   "execution_count": 13,
   "id": "9011ae5c",
   "metadata": {
    "ExecuteTime": {
     "end_time": "2022-05-31T15:28:32.579205Z",
     "start_time": "2022-05-31T15:28:32.563264Z"
    }
   },
   "outputs": [
    {
     "data": {
      "text/html": [
       "<div>\n",
       "<style scoped>\n",
       "    .dataframe tbody tr th:only-of-type {\n",
       "        vertical-align: middle;\n",
       "    }\n",
       "\n",
       "    .dataframe tbody tr th {\n",
       "        vertical-align: top;\n",
       "    }\n",
       "\n",
       "    .dataframe thead th {\n",
       "        text-align: right;\n",
       "    }\n",
       "</style>\n",
       "<table border=\"1\" class=\"dataframe\">\n",
       "  <thead>\n",
       "    <tr style=\"text-align: right;\">\n",
       "      <th></th>\n",
       "      <th>MATRICULA</th>\n",
       "      <th>Clientes</th>\n",
       "      <th>Cartera</th>\n",
       "      <th>Cliente Act.</th>\n",
       "      <th>Cart Activos</th>\n",
       "      <th>Sdo Mora</th>\n",
       "      <th>% MORA</th>\n",
       "      <th>%Reso 0</th>\n",
       "      <th>&lt;=14</th>\n",
       "      <th>&lt;=42</th>\n",
       "      <th>&gt;42</th>\n",
       "      <th>Total</th>\n",
       "      <th>Des</th>\n",
       "      <th>Mora</th>\n",
       "      <th>Acel</th>\n",
       "      <th>Total.1</th>\n",
       "    </tr>\n",
       "  </thead>\n",
       "  <tbody>\n",
       "    <tr>\n",
       "      <th>16</th>\n",
       "      <td>S68842</td>\n",
       "      <td>161.666667</td>\n",
       "      <td>5.380991e+06</td>\n",
       "      <td>150.333333</td>\n",
       "      <td>5.177590e+06</td>\n",
       "      <td>135998.926504</td>\n",
       "      <td>0.025458</td>\n",
       "      <td>0.951929</td>\n",
       "      <td>4.666667</td>\n",
       "      <td>2.0</td>\n",
       "      <td>2.0</td>\n",
       "      <td>8.666667</td>\n",
       "      <td>0.318389</td>\n",
       "      <td>0.103018</td>\n",
       "      <td>0.118158</td>\n",
       "      <td>0.539565</td>\n",
       "    </tr>\n",
       "  </tbody>\n",
       "</table>\n",
       "</div>"
      ],
      "text/plain": [
       "   MATRICULA    Clientes       Cartera  Cliente Act.  Cart Activos  \\\n",
       "16    S68842  161.666667  5.380991e+06    150.333333  5.177590e+06   \n",
       "\n",
       "         Sdo Mora    % MORA   %Reso 0      <=14  <=42  >42     Total  \\\n",
       "16  135998.926504  0.025458  0.951929  4.666667   2.0  2.0  8.666667   \n",
       "\n",
       "         Des      Mora      Acel   Total.1  \n",
       "16  0.318389  0.103018  0.118158  0.539565  "
      ]
     },
     "execution_count": 13,
     "metadata": {},
     "output_type": "execute_result"
    }
   ],
   "source": [
    "RENDIMIENTO_FFNN[RENDIMIENTO_FFNN.MATRICULA == 'S68842']"
   ]
  },
  {
   "cell_type": "code",
   "execution_count": 14,
   "id": "db64689e",
   "metadata": {
    "ExecuteTime": {
     "end_time": "2022-05-31T15:27:29.998254Z",
     "start_time": "2022-05-31T15:27:29.979305Z"
    }
   },
   "outputs": [
    {
     "data": {
      "text/html": [
       "<div>\n",
       "<style scoped>\n",
       "    .dataframe tbody tr th:only-of-type {\n",
       "        vertical-align: middle;\n",
       "    }\n",
       "\n",
       "    .dataframe tbody tr th {\n",
       "        vertical-align: top;\n",
       "    }\n",
       "\n",
       "    .dataframe thead th {\n",
       "        text-align: right;\n",
       "    }\n",
       "</style>\n",
       "<table border=\"1\" class=\"dataframe\">\n",
       "  <thead>\n",
       "    <tr style=\"text-align: right;\">\n",
       "      <th></th>\n",
       "      <th>MATRICULA</th>\n",
       "      <th>Clientes</th>\n",
       "      <th>Cartera</th>\n",
       "      <th>Cliente Act.</th>\n",
       "      <th>Cart Activos</th>\n",
       "      <th>Sdo Mora</th>\n",
       "      <th>% MORA</th>\n",
       "      <th>%Reso 0</th>\n",
       "      <th>&lt;=14</th>\n",
       "      <th>&lt;=42</th>\n",
       "      <th>&gt;42</th>\n",
       "      <th>Total</th>\n",
       "      <th>Des</th>\n",
       "      <th>Mora</th>\n",
       "      <th>Acel</th>\n",
       "      <th>Total.1</th>\n",
       "    </tr>\n",
       "  </thead>\n",
       "  <tbody>\n",
       "    <tr>\n",
       "      <th>0</th>\n",
       "      <td>S23401</td>\n",
       "      <td>135.333333</td>\n",
       "      <td>5.314183e+06</td>\n",
       "      <td>127.333333</td>\n",
       "      <td>4.983615e+06</td>\n",
       "      <td>620507.947925</td>\n",
       "      <td>0.116290</td>\n",
       "      <td>0.958536</td>\n",
       "      <td>1.666667</td>\n",
       "      <td>2.333333</td>\n",
       "      <td>2.000000</td>\n",
       "      <td>6.000000</td>\n",
       "      <td>0.084504</td>\n",
       "      <td>0.093104</td>\n",
       "      <td>0.000000</td>\n",
       "      <td>0.177608</td>\n",
       "    </tr>\n",
       "    <tr>\n",
       "      <th>1</th>\n",
       "      <td>S24623</td>\n",
       "      <td>160.666667</td>\n",
       "      <td>5.681431e+06</td>\n",
       "      <td>150.333333</td>\n",
       "      <td>5.189746e+06</td>\n",
       "      <td>479592.526513</td>\n",
       "      <td>0.084163</td>\n",
       "      <td>0.944011</td>\n",
       "      <td>2.666667</td>\n",
       "      <td>1.666667</td>\n",
       "      <td>2.666667</td>\n",
       "      <td>7.000000</td>\n",
       "      <td>0.246483</td>\n",
       "      <td>0.044981</td>\n",
       "      <td>0.000000</td>\n",
       "      <td>0.291464</td>\n",
       "    </tr>\n",
       "    <tr>\n",
       "      <th>2</th>\n",
       "      <td>S32188</td>\n",
       "      <td>151.000000</td>\n",
       "      <td>5.490909e+06</td>\n",
       "      <td>139.333333</td>\n",
       "      <td>5.172694e+06</td>\n",
       "      <td>119966.215847</td>\n",
       "      <td>0.021842</td>\n",
       "      <td>0.983972</td>\n",
       "      <td>3.333333</td>\n",
       "      <td>4.333333</td>\n",
       "      <td>0.666667</td>\n",
       "      <td>8.333333</td>\n",
       "      <td>0.257552</td>\n",
       "      <td>0.123840</td>\n",
       "      <td>0.134474</td>\n",
       "      <td>0.515867</td>\n",
       "    </tr>\n",
       "    <tr>\n",
       "      <th>3</th>\n",
       "      <td>S40253</td>\n",
       "      <td>126.666667</td>\n",
       "      <td>5.007495e+06</td>\n",
       "      <td>118.666667</td>\n",
       "      <td>4.750598e+06</td>\n",
       "      <td>41536.663392</td>\n",
       "      <td>0.008155</td>\n",
       "      <td>0.972837</td>\n",
       "      <td>3.333333</td>\n",
       "      <td>1.666667</td>\n",
       "      <td>2.000000</td>\n",
       "      <td>7.000000</td>\n",
       "      <td>0.180771</td>\n",
       "      <td>0.185812</td>\n",
       "      <td>0.038731</td>\n",
       "      <td>0.405314</td>\n",
       "    </tr>\n",
       "    <tr>\n",
       "      <th>4</th>\n",
       "      <td>S49346</td>\n",
       "      <td>138.000000</td>\n",
       "      <td>4.489131e+06</td>\n",
       "      <td>127.666667</td>\n",
       "      <td>4.164849e+06</td>\n",
       "      <td>326752.847115</td>\n",
       "      <td>0.073013</td>\n",
       "      <td>0.990071</td>\n",
       "      <td>3.000000</td>\n",
       "      <td>3.000000</td>\n",
       "      <td>1.333333</td>\n",
       "      <td>7.333333</td>\n",
       "      <td>0.204922</td>\n",
       "      <td>0.132458</td>\n",
       "      <td>0.038731</td>\n",
       "      <td>0.376111</td>\n",
       "    </tr>\n",
       "  </tbody>\n",
       "</table>\n",
       "</div>"
      ],
      "text/plain": [
       "  MATRICULA    Clientes       Cartera  Cliente Act.  Cart Activos  \\\n",
       "0    S23401  135.333333  5.314183e+06    127.333333  4.983615e+06   \n",
       "1    S24623  160.666667  5.681431e+06    150.333333  5.189746e+06   \n",
       "2    S32188  151.000000  5.490909e+06    139.333333  5.172694e+06   \n",
       "3    S40253  126.666667  5.007495e+06    118.666667  4.750598e+06   \n",
       "4    S49346  138.000000  4.489131e+06    127.666667  4.164849e+06   \n",
       "\n",
       "        Sdo Mora    % MORA   %Reso 0      <=14      <=42       >42     Total  \\\n",
       "0  620507.947925  0.116290  0.958536  1.666667  2.333333  2.000000  6.000000   \n",
       "1  479592.526513  0.084163  0.944011  2.666667  1.666667  2.666667  7.000000   \n",
       "2  119966.215847  0.021842  0.983972  3.333333  4.333333  0.666667  8.333333   \n",
       "3   41536.663392  0.008155  0.972837  3.333333  1.666667  2.000000  7.000000   \n",
       "4  326752.847115  0.073013  0.990071  3.000000  3.000000  1.333333  7.333333   \n",
       "\n",
       "        Des      Mora      Acel   Total.1  \n",
       "0  0.084504  0.093104  0.000000  0.177608  \n",
       "1  0.246483  0.044981  0.000000  0.291464  \n",
       "2  0.257552  0.123840  0.134474  0.515867  \n",
       "3  0.180771  0.185812  0.038731  0.405314  \n",
       "4  0.204922  0.132458  0.038731  0.376111  "
      ]
     },
     "execution_count": 14,
     "metadata": {},
     "output_type": "execute_result"
    }
   ],
   "source": [
    "RENDIMIENTO_FFNN.head()"
   ]
  },
  {
   "cell_type": "code",
   "execution_count": 15,
   "id": "394598f9",
   "metadata": {
    "ExecuteTime": {
     "end_time": "2022-05-13T16:47:37.502048Z",
     "start_time": "2022-05-13T16:47:37.425254Z"
    }
   },
   "outputs": [],
   "source": [
    "RENDIMIENTO_FFNN = RENDIMIENTO_FFNN[['MATRICULA', 'Clientes', 'Cartera', 'Cliente Act.',\n",
    "       'Cart Activos', 'Sdo Mora', '% MORA', '%Reso 0', 'Total', 'Des', 'Mora', 'Acel', 'Total.1']]"
   ]
  },
  {
   "cell_type": "code",
   "execution_count": 16,
   "id": "37e64257",
   "metadata": {
    "ExecuteTime": {
     "end_time": "2022-05-13T16:47:37.716412Z",
     "start_time": "2022-05-13T16:47:37.504042Z"
    }
   },
   "outputs": [
    {
     "data": {
      "text/html": [
       "<div>\n",
       "<style scoped>\n",
       "    .dataframe tbody tr th:only-of-type {\n",
       "        vertical-align: middle;\n",
       "    }\n",
       "\n",
       "    .dataframe tbody tr th {\n",
       "        vertical-align: top;\n",
       "    }\n",
       "\n",
       "    .dataframe thead th {\n",
       "        text-align: right;\n",
       "    }\n",
       "</style>\n",
       "<table border=\"1\" class=\"dataframe\">\n",
       "  <thead>\n",
       "    <tr style=\"text-align: right;\">\n",
       "      <th></th>\n",
       "      <th>MATRICULA</th>\n",
       "      <th>Clientes</th>\n",
       "      <th>Cartera</th>\n",
       "      <th>Cliente Act.</th>\n",
       "      <th>Cart Activos</th>\n",
       "      <th>Sdo Mora</th>\n",
       "      <th>% MORA</th>\n",
       "      <th>%Reso 0</th>\n",
       "      <th>Total</th>\n",
       "      <th>Des</th>\n",
       "      <th>Mora</th>\n",
       "      <th>Acel</th>\n",
       "      <th>Total.1</th>\n",
       "      <th>Matricula</th>\n",
       "      <th>avg_cant_news</th>\n",
       "      <th>Avg_Nro_calls</th>\n",
       "      <th>Avg_Nro_Gest</th>\n",
       "      <th>Avg_Nro_visits</th>\n",
       "      <th>Cant_mes</th>\n",
       "      <th>ANT_MONTH</th>\n",
       "    </tr>\n",
       "  </thead>\n",
       "  <tbody>\n",
       "    <tr>\n",
       "      <th>0</th>\n",
       "      <td>S23401</td>\n",
       "      <td>135.333333</td>\n",
       "      <td>5.314183e+06</td>\n",
       "      <td>127.333333</td>\n",
       "      <td>4.983615e+06</td>\n",
       "      <td>620507.947925</td>\n",
       "      <td>0.116290</td>\n",
       "      <td>0.958536</td>\n",
       "      <td>6.0</td>\n",
       "      <td>0.084504</td>\n",
       "      <td>0.093104</td>\n",
       "      <td>0.0</td>\n",
       "      <td>0.177608</td>\n",
       "      <td>S23401</td>\n",
       "      <td>5.0</td>\n",
       "      <td>12.0</td>\n",
       "      <td>13.0</td>\n",
       "      <td>0.0</td>\n",
       "      <td>4</td>\n",
       "      <td>118</td>\n",
       "    </tr>\n",
       "    <tr>\n",
       "      <th>1</th>\n",
       "      <td>S24623</td>\n",
       "      <td>160.666667</td>\n",
       "      <td>5.681431e+06</td>\n",
       "      <td>150.333333</td>\n",
       "      <td>5.189746e+06</td>\n",
       "      <td>479592.526513</td>\n",
       "      <td>0.084163</td>\n",
       "      <td>0.944011</td>\n",
       "      <td>7.0</td>\n",
       "      <td>0.246483</td>\n",
       "      <td>0.044981</td>\n",
       "      <td>0.0</td>\n",
       "      <td>0.291464</td>\n",
       "      <td>S24623</td>\n",
       "      <td>6.0</td>\n",
       "      <td>47.0</td>\n",
       "      <td>64.0</td>\n",
       "      <td>13.0</td>\n",
       "      <td>4</td>\n",
       "      <td>117</td>\n",
       "    </tr>\n",
       "  </tbody>\n",
       "</table>\n",
       "</div>"
      ],
      "text/plain": [
       "  MATRICULA    Clientes       Cartera  Cliente Act.  Cart Activos  \\\n",
       "0    S23401  135.333333  5.314183e+06    127.333333  4.983615e+06   \n",
       "1    S24623  160.666667  5.681431e+06    150.333333  5.189746e+06   \n",
       "\n",
       "        Sdo Mora    % MORA   %Reso 0  Total       Des      Mora  Acel  \\\n",
       "0  620507.947925  0.116290  0.958536    6.0  0.084504  0.093104   0.0   \n",
       "1  479592.526513  0.084163  0.944011    7.0  0.246483  0.044981   0.0   \n",
       "\n",
       "    Total.1 Matricula  avg_cant_news  Avg_Nro_calls  Avg_Nro_Gest  \\\n",
       "0  0.177608    S23401            5.0           12.0          13.0   \n",
       "1  0.291464    S24623            6.0           47.0          64.0   \n",
       "\n",
       "   Avg_Nro_visits  Cant_mes  ANT_MONTH  \n",
       "0             0.0         4        118  \n",
       "1            13.0         4        117  "
      ]
     },
     "execution_count": 16,
     "metadata": {},
     "output_type": "execute_result"
    }
   ],
   "source": [
    "RENDIMIENTO_FFNN_2 = pd.merge(RENDIMIENTO_FFNN,df1,how = 'inner',left_on ='MATRICULA'  ,  right_on= 'Matricula'  )\n",
    "RENDIMIENTO_FFNN_2.head(2)"
   ]
  },
  {
   "cell_type": "code",
   "execution_count": 17,
   "id": "3ab2b21d",
   "metadata": {
    "ExecuteTime": {
     "end_time": "2022-05-13T16:47:37.796191Z",
     "start_time": "2022-05-13T16:47:37.718391Z"
    }
   },
   "outputs": [
    {
     "data": {
      "text/plain": [
       "Index(['MATRICULA', 'Clientes', 'Cartera', 'Cliente Act.', 'Cart Activos',\n",
       "       'Sdo Mora', '% MORA', '%Reso 0', 'Total', 'Des', 'Mora', 'Acel',\n",
       "       'Total.1', 'Matricula', 'avg_cant_news', 'Avg_Nro_calls',\n",
       "       'Avg_Nro_Gest', 'Avg_Nro_visits', 'Cant_mes', 'ANT_MONTH'],\n",
       "      dtype='object')"
      ]
     },
     "execution_count": 17,
     "metadata": {},
     "output_type": "execute_result"
    }
   ],
   "source": [
    "RENDIMIENTO_FFNN_2.columns"
   ]
  },
  {
   "cell_type": "code",
   "execution_count": 18,
   "id": "20f72cd6",
   "metadata": {
    "ExecuteTime": {
     "end_time": "2022-05-13T16:47:37.876049Z",
     "start_time": "2022-05-13T16:47:37.798172Z"
    }
   },
   "outputs": [
    {
     "data": {
      "text/plain": [
       "(62, 20)"
      ]
     },
     "execution_count": 18,
     "metadata": {},
     "output_type": "execute_result"
    }
   ],
   "source": [
    "RENDIMIENTO_FFNN_2.shape"
   ]
  },
  {
   "cell_type": "code",
   "execution_count": 19,
   "id": "c6bbc5f6",
   "metadata": {
    "ExecuteTime": {
     "end_time": "2022-05-13T16:47:37.952815Z",
     "start_time": "2022-05-13T16:47:37.878014Z"
    }
   },
   "outputs": [],
   "source": [
    "#RENDIMIENTO_FFNN_2= RENDIMIENTO_FFNN_2[['MATRICULA', 'Clientes', 'Cartera', 'Cliente Act.', 'Cart Activos',\n",
    "#       'Sdo Mora', '% MORA', '%Reso 0', 'Total', 'Des', 'Mora', 'Acel',\n",
    "#       'Total.1',   'Avg_Nro_calls', 'Avg_Nro_Gest', 'Avg_Nro_visits', 'ANT_MONTH']]\n",
    "RENDIMIENTO_FFNN_2= RENDIMIENTO_FFNN_2[['MATRICULA', \n",
    "#                                        'Cliente Act.', 'Cart Activos',\n",
    "          '% MORA' , \n",
    "                                        'Total',\n",
    "          'Avg_Nro_calls', 'Avg_Nro_visits', 'ANT_MONTH']]"
   ]
  },
  {
   "cell_type": "code",
   "execution_count": 20,
   "id": "a47e905b",
   "metadata": {
    "ExecuteTime": {
     "end_time": "2022-05-13T16:47:38.044083Z",
     "start_time": "2022-05-13T16:47:37.954809Z"
    }
   },
   "outputs": [
    {
     "data": {
      "text/plain": [
       "Index(['MATRICULA', '% MORA', 'Total', 'Avg_Nro_calls', 'Avg_Nro_visits',\n",
       "       'ANT_MONTH'],\n",
       "      dtype='object')"
      ]
     },
     "execution_count": 20,
     "metadata": {},
     "output_type": "execute_result"
    }
   ],
   "source": [
    "RENDIMIENTO_FFNN_2.columns"
   ]
  },
  {
   "cell_type": "code",
   "execution_count": 21,
   "id": "6d36aeae",
   "metadata": {
    "ExecuteTime": {
     "end_time": "2022-05-13T16:47:38.126202Z",
     "start_time": "2022-05-13T16:47:38.046078Z"
    }
   },
   "outputs": [
    {
     "data": {
      "text/plain": [
       "(62, 6)"
      ]
     },
     "execution_count": 21,
     "metadata": {},
     "output_type": "execute_result"
    }
   ],
   "source": [
    "RENDIMIENTO_FFNN_2.shape"
   ]
  },
  {
   "cell_type": "code",
   "execution_count": 22,
   "id": "6fb99423",
   "metadata": {
    "ExecuteTime": {
     "end_time": "2022-05-13T16:47:38.216807Z",
     "start_time": "2022-05-13T16:47:38.128195Z"
    }
   },
   "outputs": [],
   "source": [
    "#RENDIMIENTO_FFNN_3 = RENDIMIENTO_FFNN_2.drop(RENDIMIENTO_FFNN_2[RENDIMIENTO_FFNN_2[\"MATRICULA\"] == 'T18953'].index)"
   ]
  },
  {
   "cell_type": "code",
   "execution_count": 23,
   "id": "33f53bd2",
   "metadata": {
    "ExecuteTime": {
     "end_time": "2022-05-13T16:47:38.292718Z",
     "start_time": "2022-05-13T16:47:38.218773Z"
    }
   },
   "outputs": [],
   "source": [
    "#RENDIMIENTO_FFNN_3.shape"
   ]
  },
  {
   "cell_type": "code",
   "execution_count": 24,
   "id": "2e923e97",
   "metadata": {
    "ExecuteTime": {
     "end_time": "2022-05-13T16:47:38.374991Z",
     "start_time": "2022-05-13T16:47:38.294712Z"
    }
   },
   "outputs": [],
   "source": [
    "RENDIMIENTO_FFNN_4 = RENDIMIENTO_FFNN_2.drop([\"MATRICULA\"], axis= 1)"
   ]
  },
  {
   "cell_type": "code",
   "execution_count": 25,
   "id": "3e9bf528",
   "metadata": {
    "ExecuteTime": {
     "end_time": "2022-05-13T16:47:38.454060Z",
     "start_time": "2022-05-13T16:47:38.376977Z"
    }
   },
   "outputs": [
    {
     "data": {
      "text/plain": [
       "% MORA            0\n",
       "Total             0\n",
       "Avg_Nro_calls     1\n",
       "Avg_Nro_visits    1\n",
       "ANT_MONTH         0\n",
       "dtype: int64"
      ]
     },
     "execution_count": 25,
     "metadata": {},
     "output_type": "execute_result"
    }
   ],
   "source": [
    "RENDIMIENTO_FFNN_4.isnull().sum()"
   ]
  },
  {
   "cell_type": "code",
   "execution_count": 26,
   "id": "659ea4aa",
   "metadata": {
    "ExecuteTime": {
     "end_time": "2022-05-13T16:47:38.610966Z",
     "start_time": "2022-05-13T16:47:38.456029Z"
    }
   },
   "outputs": [
    {
     "data": {
      "text/plain": [
       "(62, 5)"
      ]
     },
     "execution_count": 26,
     "metadata": {},
     "output_type": "execute_result"
    }
   ],
   "source": [
    "RENDIMIENTO_FFNN_4.shape"
   ]
  },
  {
   "cell_type": "code",
   "execution_count": 27,
   "id": "ec75e736",
   "metadata": {},
   "outputs": [],
   "source": [
    "RENDIMIENTO_FFNN_4 = RENDIMIENTO_FFNN_4.fillna(0)"
   ]
  },
  {
   "cell_type": "markdown",
   "id": "54aef880",
   "metadata": {},
   "source": [
    "### CLUSTERIZACIÓN"
   ]
  },
  {
   "cell_type": "code",
   "execution_count": 28,
   "id": "5a754ca7",
   "metadata": {
    "ExecuteTime": {
     "end_time": "2022-05-13T16:47:38.692115Z",
     "start_time": "2022-05-13T16:47:38.613814Z"
    }
   },
   "outputs": [],
   "source": [
    "import matplotlib.pyplot as plt\n",
    "from kneed import KneeLocator\n",
    "from sklearn.datasets import make_blobs\n",
    "from sklearn.cluster import KMeans\n",
    "from sklearn.metrics import silhouette_score\n",
    "from sklearn.preprocessing import StandardScaler"
   ]
  },
  {
   "cell_type": "code",
   "execution_count": 29,
   "id": "a1306858",
   "metadata": {
    "ExecuteTime": {
     "end_time": "2022-05-13T16:47:38.767159Z",
     "start_time": "2022-05-13T16:47:38.694108Z"
    }
   },
   "outputs": [],
   "source": [
    "#pip install kneed"
   ]
  },
  {
   "cell_type": "code",
   "execution_count": 30,
   "id": "89e5d9b3",
   "metadata": {
    "ExecuteTime": {
     "end_time": "2022-05-13T16:47:38.880171Z",
     "start_time": "2022-05-13T16:47:38.769153Z"
    }
   },
   "outputs": [],
   "source": [
    "scaler = StandardScaler()\n",
    "scaled_features = scaler.fit_transform(RENDIMIENTO_FFNN_4)"
   ]
  },
  {
   "cell_type": "code",
   "execution_count": 31,
   "id": "aeb704b1",
   "metadata": {
    "ExecuteTime": {
     "end_time": "2022-05-13T16:47:38.970527Z",
     "start_time": "2022-05-13T16:47:38.887139Z"
    }
   },
   "outputs": [
    {
     "data": {
      "text/plain": [
       "Index(['% MORA', 'Total', 'Avg_Nro_calls', 'Avg_Nro_visits', 'ANT_MONTH'], dtype='object')"
      ]
     },
     "execution_count": 31,
     "metadata": {},
     "output_type": "execute_result"
    }
   ],
   "source": [
    "RENDIMIENTO_FFNN_4.columns"
   ]
  },
  {
   "cell_type": "code",
   "execution_count": 32,
   "id": "fea7b61a",
   "metadata": {
    "ExecuteTime": {
     "end_time": "2022-05-13T16:47:39.058942Z",
     "start_time": "2022-05-13T16:47:38.972522Z"
    }
   },
   "outputs": [],
   "source": [
    "COLUMNS_RENDIMIENTO_FFNN_4 = RENDIMIENTO_FFNN_4.columns"
   ]
  },
  {
   "cell_type": "code",
   "execution_count": 33,
   "id": "d8092b9f",
   "metadata": {
    "ExecuteTime": {
     "end_time": "2022-05-13T16:47:39.157664Z",
     "start_time": "2022-05-13T16:47:39.060908Z"
    }
   },
   "outputs": [
    {
     "name": "stdout",
     "output_type": "stream",
     "text": [
      "Scaled Dataset Using MinMaxScaler\n"
     ]
    },
    {
     "data": {
      "text/html": [
       "<div>\n",
       "<style scoped>\n",
       "    .dataframe tbody tr th:only-of-type {\n",
       "        vertical-align: middle;\n",
       "    }\n",
       "\n",
       "    .dataframe tbody tr th {\n",
       "        vertical-align: top;\n",
       "    }\n",
       "\n",
       "    .dataframe thead th {\n",
       "        text-align: right;\n",
       "    }\n",
       "</style>\n",
       "<table border=\"1\" class=\"dataframe\">\n",
       "  <thead>\n",
       "    <tr style=\"text-align: right;\">\n",
       "      <th></th>\n",
       "      <th>% MORA</th>\n",
       "      <th>Total</th>\n",
       "      <th>Avg_Nro_calls</th>\n",
       "      <th>Avg_Nro_visits</th>\n",
       "      <th>ANT_MONTH</th>\n",
       "    </tr>\n",
       "  </thead>\n",
       "  <tbody>\n",
       "    <tr>\n",
       "      <th>0</th>\n",
       "      <td>1.168311</td>\n",
       "      <td>-0.271132</td>\n",
       "      <td>-0.543961</td>\n",
       "      <td>-0.619740</td>\n",
       "      <td>2.789142</td>\n",
       "    </tr>\n",
       "    <tr>\n",
       "      <th>1</th>\n",
       "      <td>0.526036</td>\n",
       "      <td>0.223285</td>\n",
       "      <td>1.700137</td>\n",
       "      <td>2.371339</td>\n",
       "      <td>2.751508</td>\n",
       "    </tr>\n",
       "    <tr>\n",
       "      <th>2</th>\n",
       "      <td>-0.719879</td>\n",
       "      <td>0.882508</td>\n",
       "      <td>0.546029</td>\n",
       "      <td>0.300592</td>\n",
       "      <td>2.450439</td>\n",
       "    </tr>\n",
       "    <tr>\n",
       "      <th>3</th>\n",
       "      <td>-0.993506</td>\n",
       "      <td>0.223285</td>\n",
       "      <td>-0.736312</td>\n",
       "      <td>-0.619740</td>\n",
       "      <td>0.756923</td>\n",
       "    </tr>\n",
       "    <tr>\n",
       "      <th>4</th>\n",
       "      <td>0.303134</td>\n",
       "      <td>0.388091</td>\n",
       "      <td>-0.223376</td>\n",
       "      <td>-0.619740</td>\n",
       "      <td>1.509596</td>\n",
       "    </tr>\n",
       "  </tbody>\n",
       "</table>\n",
       "</div>"
      ],
      "text/plain": [
       "     % MORA     Total  Avg_Nro_calls  Avg_Nro_visits  ANT_MONTH\n",
       "0  1.168311 -0.271132      -0.543961       -0.619740   2.789142\n",
       "1  0.526036  0.223285       1.700137        2.371339   2.751508\n",
       "2 -0.719879  0.882508       0.546029        0.300592   2.450439\n",
       "3 -0.993506  0.223285      -0.736312       -0.619740   0.756923\n",
       "4  0.303134  0.388091      -0.223376       -0.619740   1.509596"
      ]
     },
     "execution_count": 33,
     "metadata": {},
     "output_type": "execute_result"
    }
   ],
   "source": [
    "df_scaled = pd.DataFrame(scaled_features, columns=COLUMNS_RENDIMIENTO_FFNN_4)\n",
    " \n",
    "print(\"Scaled Dataset Using MinMaxScaler\")\n",
    "df_scaled.head()"
   ]
  },
  {
   "cell_type": "code",
   "execution_count": 34,
   "id": "0e8ab348",
   "metadata": {
    "ExecuteTime": {
     "end_time": "2022-05-13T16:47:39.281370Z",
     "start_time": "2022-05-13T16:47:39.159658Z"
    }
   },
   "outputs": [],
   "source": [
    "kmeans_kwargs = {\n",
    "      \"init\": \"random\",\n",
    "      \"n_init\": 10,\n",
    "      \"max_iter\": 300,\n",
    "      \"random_state\": 42,\n",
    "  }\n",
    "\n",
    " "
   ]
  },
  {
   "cell_type": "code",
   "execution_count": 35,
   "id": "fe92094b",
   "metadata": {
    "ExecuteTime": {
     "end_time": "2022-05-13T16:47:39.743443Z",
     "start_time": "2022-05-13T16:47:39.284298Z"
    }
   },
   "outputs": [],
   "source": [
    "sse = []\n",
    "for k in range(1, 11):\n",
    "        kmeans = KMeans(n_clusters=k, **kmeans_kwargs)\n",
    "        kmeans.fit(df_scaled)\n",
    "        sse.append(kmeans.inertia_)"
   ]
  },
  {
   "cell_type": "code",
   "execution_count": 36,
   "id": "ada18b2f",
   "metadata": {
    "ExecuteTime": {
     "end_time": "2022-05-13T16:47:39.891357Z",
     "start_time": "2022-05-13T16:47:39.745730Z"
    }
   },
   "outputs": [
    {
     "data": {
      "image/png": "[encoded data removed]",
      "text/plain": [
       "<Figure size 432x288 with 1 Axes>"
      ]
     },
     "metadata": {},
     "output_type": "display_data"
    }
   ],
   "source": [
    "plt.style.use(\"fivethirtyeight\")\n",
    "plt.plot(range(1, 11), sse)\n",
    "plt.xticks(range(1, 11))\n",
    "plt.xlabel(\"Number of Clusters\")\n",
    "plt.ylabel(\"SSE\")\n",
    "plt.show()"
   ]
  },
  {
   "cell_type": "code",
   "execution_count": 37,
   "id": "7209bd12",
   "metadata": {
    "ExecuteTime": {
     "end_time": "2022-05-13T16:48:03.609486Z",
     "start_time": "2022-05-13T16:48:03.582532Z"
    }
   },
   "outputs": [],
   "source": [
    "kmeans = KMeans(n_clusters=3, init='k-means++', max_iter=300, n_init=10, random_state=123)\n",
    "pred_y = kmeans.fit_predict(df_scaled)\n"
   ]
  },
  {
   "cell_type": "code",
   "execution_count": 38,
   "id": "6524feb1",
   "metadata": {
    "ExecuteTime": {
     "end_time": "2022-05-13T16:48:04.602696Z",
     "start_time": "2022-05-13T16:48:04.597711Z"
    }
   },
   "outputs": [
    {
     "data": {
      "text/plain": [
       "KMeans(n_clusters=3, random_state=123)"
      ]
     },
     "execution_count": 38,
     "metadata": {},
     "output_type": "execute_result"
    }
   ],
   "source": [
    "kmeans"
   ]
  },
  {
   "cell_type": "code",
   "execution_count": 39,
   "id": "5f039eab",
   "metadata": {
    "ExecuteTime": {
     "end_time": "2022-05-13T16:05:44.139710Z",
     "start_time": "2022-05-13T16:05:44.119764Z"
    }
   },
   "outputs": [
    {
     "data": {
      "text/html": [
       "<div>\n",
       "<style scoped>\n",
       "    .dataframe tbody tr th:only-of-type {\n",
       "        vertical-align: middle;\n",
       "    }\n",
       "\n",
       "    .dataframe tbody tr th {\n",
       "        vertical-align: top;\n",
       "    }\n",
       "\n",
       "    .dataframe thead th {\n",
       "        text-align: right;\n",
       "    }\n",
       "</style>\n",
       "<table border=\"1\" class=\"dataframe\">\n",
       "  <thead>\n",
       "    <tr style=\"text-align: right;\">\n",
       "      <th></th>\n",
       "      <th>% MORA</th>\n",
       "      <th>Total</th>\n",
       "      <th>Avg_Nro_calls</th>\n",
       "      <th>Avg_Nro_visits</th>\n",
       "      <th>ANT_MONTH</th>\n",
       "    </tr>\n",
       "  </thead>\n",
       "  <tbody>\n",
       "    <tr>\n",
       "      <th>0</th>\n",
       "      <td>1.168311</td>\n",
       "      <td>-0.271132</td>\n",
       "      <td>-0.543961</td>\n",
       "      <td>-0.619740</td>\n",
       "      <td>2.789142</td>\n",
       "    </tr>\n",
       "    <tr>\n",
       "      <th>1</th>\n",
       "      <td>0.526036</td>\n",
       "      <td>0.223285</td>\n",
       "      <td>1.700137</td>\n",
       "      <td>2.371339</td>\n",
       "      <td>2.751508</td>\n",
       "    </tr>\n",
       "    <tr>\n",
       "      <th>2</th>\n",
       "      <td>-0.719879</td>\n",
       "      <td>0.882508</td>\n",
       "      <td>0.546029</td>\n",
       "      <td>0.300592</td>\n",
       "      <td>2.450439</td>\n",
       "    </tr>\n",
       "    <tr>\n",
       "      <th>3</th>\n",
       "      <td>-0.993506</td>\n",
       "      <td>0.223285</td>\n",
       "      <td>-0.736312</td>\n",
       "      <td>-0.619740</td>\n",
       "      <td>0.756923</td>\n",
       "    </tr>\n",
       "    <tr>\n",
       "      <th>4</th>\n",
       "      <td>0.303134</td>\n",
       "      <td>0.388091</td>\n",
       "      <td>-0.223376</td>\n",
       "      <td>-0.619740</td>\n",
       "      <td>1.509596</td>\n",
       "    </tr>\n",
       "    <tr>\n",
       "      <th>...</th>\n",
       "      <td>...</td>\n",
       "      <td>...</td>\n",
       "      <td>...</td>\n",
       "      <td>...</td>\n",
       "      <td>...</td>\n",
       "    </tr>\n",
       "    <tr>\n",
       "      <th>57</th>\n",
       "      <td>-0.752683</td>\n",
       "      <td>-2.496008</td>\n",
       "      <td>-0.415727</td>\n",
       "      <td>-0.389657</td>\n",
       "      <td>-1.576366</td>\n",
       "    </tr>\n",
       "    <tr>\n",
       "      <th>58</th>\n",
       "      <td>0.328937</td>\n",
       "      <td>-1.012757</td>\n",
       "      <td>-1.313366</td>\n",
       "      <td>-0.619740</td>\n",
       "      <td>-1.576366</td>\n",
       "    </tr>\n",
       "    <tr>\n",
       "      <th>59</th>\n",
       "      <td>3.562954</td>\n",
       "      <td>-1.259966</td>\n",
       "      <td>-0.287493</td>\n",
       "      <td>0.300592</td>\n",
       "      <td>-1.614000</td>\n",
       "    </tr>\n",
       "    <tr>\n",
       "      <th>60</th>\n",
       "      <td>-0.874519</td>\n",
       "      <td>-2.248799</td>\n",
       "      <td>0.033093</td>\n",
       "      <td>-0.159574</td>\n",
       "      <td>-1.614000</td>\n",
       "    </tr>\n",
       "    <tr>\n",
       "      <th>61</th>\n",
       "      <td>4.000208</td>\n",
       "      <td>-1.259966</td>\n",
       "      <td>-0.736312</td>\n",
       "      <td>-0.159574</td>\n",
       "      <td>-1.614000</td>\n",
       "    </tr>\n",
       "  </tbody>\n",
       "</table>\n",
       "<p>62 rows × 5 columns</p>\n",
       "</div>"
      ],
      "text/plain": [
       "      % MORA     Total  Avg_Nro_calls  Avg_Nro_visits  ANT_MONTH\n",
       "0   1.168311 -0.271132      -0.543961       -0.619740   2.789142\n",
       "1   0.526036  0.223285       1.700137        2.371339   2.751508\n",
       "2  -0.719879  0.882508       0.546029        0.300592   2.450439\n",
       "3  -0.993506  0.223285      -0.736312       -0.619740   0.756923\n",
       "4   0.303134  0.388091      -0.223376       -0.619740   1.509596\n",
       "..       ...       ...            ...             ...        ...\n",
       "57 -0.752683 -2.496008      -0.415727       -0.389657  -1.576366\n",
       "58  0.328937 -1.012757      -1.313366       -0.619740  -1.576366\n",
       "59  3.562954 -1.259966      -0.287493        0.300592  -1.614000\n",
       "60 -0.874519 -2.248799       0.033093       -0.159574  -1.614000\n",
       "61  4.000208 -1.259966      -0.736312       -0.159574  -1.614000\n",
       "\n",
       "[62 rows x 5 columns]"
      ]
     },
     "execution_count": 39,
     "metadata": {},
     "output_type": "execute_result"
    }
   ],
   "source": [
    "df_scaled"
   ]
  },
  {
   "cell_type": "code",
   "execution_count": 40,
   "id": "e9c5d3c3",
   "metadata": {
    "ExecuteTime": {
     "end_time": "2022-05-13T15:49:23.856482Z",
     "start_time": "2022-05-13T15:49:23.755718Z"
    }
   },
   "outputs": [
    {
     "data": {
      "text/plain": [
       "array([[ 0.67137046, -0.90563351, -0.37725669, -0.17107783, -0.85568078],\n",
       "       [-0.47459445,  0.4485194 , -0.38794287, -0.42800383,  0.38811257],\n",
       "       [ 0.06753536,  0.38809067,  1.59861832,  1.35513929,  0.45585321]])"
      ]
     },
     "execution_count": 40,
     "metadata": {},
     "output_type": "execute_result"
    }
   ],
   "source": [
    "kmeans.cluster_centers_"
   ]
  },
  {
   "cell_type": "code",
   "execution_count": 41,
   "id": "807cc6d2",
   "metadata": {},
   "outputs": [
    {
     "data": {
      "text/plain": [
       "array([[ 0.67137046, -0.90563351, -0.37725669, -0.17107783, -0.85568078],\n",
       "       [-0.47459445,  0.4485194 , -0.38794287, -0.42800383,  0.38811257],\n",
       "       [ 0.06753536,  0.38809067,  1.59861832,  1.35513929,  0.45585321]])"
      ]
     },
     "execution_count": 41,
     "metadata": {},
     "output_type": "execute_result"
    }
   ],
   "source": [
    "kmeans.cluster_centers_"
   ]
  },
  {
   "cell_type": "code",
   "execution_count": 42,
   "id": "58588646",
   "metadata": {
    "ExecuteTime": {
     "end_time": "2022-05-13T15:49:23.933256Z",
     "start_time": "2022-05-13T15:49:23.858468Z"
    }
   },
   "outputs": [],
   "source": [
    "RENDIMIENTO_FFNN_2[\"CLUS\"] = pred_y"
   ]
  },
  {
   "cell_type": "code",
   "execution_count": 43,
   "id": "b353a4d9",
   "metadata": {},
   "outputs": [
    {
     "data": {
      "text/html": [
       "<div>\n",
       "<style scoped>\n",
       "    .dataframe tbody tr th:only-of-type {\n",
       "        vertical-align: middle;\n",
       "    }\n",
       "\n",
       "    .dataframe tbody tr th {\n",
       "        vertical-align: top;\n",
       "    }\n",
       "\n",
       "    .dataframe thead th {\n",
       "        text-align: right;\n",
       "    }\n",
       "</style>\n",
       "<table border=\"1\" class=\"dataframe\">\n",
       "  <thead>\n",
       "    <tr style=\"text-align: right;\">\n",
       "      <th></th>\n",
       "      <th>MATRICULA</th>\n",
       "      <th>% MORA</th>\n",
       "      <th>Total</th>\n",
       "      <th>Avg_Nro_calls</th>\n",
       "      <th>Avg_Nro_visits</th>\n",
       "      <th>ANT_MONTH</th>\n",
       "      <th>CLUS</th>\n",
       "    </tr>\n",
       "  </thead>\n",
       "  <tbody>\n",
       "    <tr>\n",
       "      <th>0</th>\n",
       "      <td>S23401</td>\n",
       "      <td>0.116290</td>\n",
       "      <td>6.000000</td>\n",
       "      <td>12.0</td>\n",
       "      <td>0.0</td>\n",
       "      <td>118</td>\n",
       "      <td>1</td>\n",
       "    </tr>\n",
       "    <tr>\n",
       "      <th>1</th>\n",
       "      <td>S24623</td>\n",
       "      <td>0.084163</td>\n",
       "      <td>7.000000</td>\n",
       "      <td>47.0</td>\n",
       "      <td>13.0</td>\n",
       "      <td>117</td>\n",
       "      <td>2</td>\n",
       "    </tr>\n",
       "    <tr>\n",
       "      <th>2</th>\n",
       "      <td>S32188</td>\n",
       "      <td>0.021842</td>\n",
       "      <td>8.333333</td>\n",
       "      <td>29.0</td>\n",
       "      <td>4.0</td>\n",
       "      <td>109</td>\n",
       "      <td>1</td>\n",
       "    </tr>\n",
       "    <tr>\n",
       "      <th>3</th>\n",
       "      <td>S40253</td>\n",
       "      <td>0.008155</td>\n",
       "      <td>7.000000</td>\n",
       "      <td>9.0</td>\n",
       "      <td>0.0</td>\n",
       "      <td>64</td>\n",
       "      <td>1</td>\n",
       "    </tr>\n",
       "    <tr>\n",
       "      <th>4</th>\n",
       "      <td>S49346</td>\n",
       "      <td>0.073013</td>\n",
       "      <td>7.333333</td>\n",
       "      <td>17.0</td>\n",
       "      <td>0.0</td>\n",
       "      <td>84</td>\n",
       "      <td>1</td>\n",
       "    </tr>\n",
       "    <tr>\n",
       "      <th>...</th>\n",
       "      <td>...</td>\n",
       "      <td>...</td>\n",
       "      <td>...</td>\n",
       "      <td>...</td>\n",
       "      <td>...</td>\n",
       "      <td>...</td>\n",
       "      <td>...</td>\n",
       "    </tr>\n",
       "    <tr>\n",
       "      <th>57</th>\n",
       "      <td>T18952</td>\n",
       "      <td>0.020201</td>\n",
       "      <td>1.500000</td>\n",
       "      <td>14.0</td>\n",
       "      <td>1.0</td>\n",
       "      <td>2</td>\n",
       "      <td>0</td>\n",
       "    </tr>\n",
       "    <tr>\n",
       "      <th>58</th>\n",
       "      <td>T18953</td>\n",
       "      <td>0.074304</td>\n",
       "      <td>4.500000</td>\n",
       "      <td>NaN</td>\n",
       "      <td>NaN</td>\n",
       "      <td>2</td>\n",
       "      <td>0</td>\n",
       "    </tr>\n",
       "    <tr>\n",
       "      <th>59</th>\n",
       "      <td>T20035</td>\n",
       "      <td>0.236072</td>\n",
       "      <td>4.000000</td>\n",
       "      <td>16.0</td>\n",
       "      <td>4.0</td>\n",
       "      <td>1</td>\n",
       "      <td>0</td>\n",
       "    </tr>\n",
       "    <tr>\n",
       "      <th>60</th>\n",
       "      <td>T20040</td>\n",
       "      <td>0.014106</td>\n",
       "      <td>2.000000</td>\n",
       "      <td>21.0</td>\n",
       "      <td>2.0</td>\n",
       "      <td>1</td>\n",
       "      <td>0</td>\n",
       "    </tr>\n",
       "    <tr>\n",
       "      <th>61</th>\n",
       "      <td>T20043</td>\n",
       "      <td>0.257943</td>\n",
       "      <td>4.000000</td>\n",
       "      <td>9.0</td>\n",
       "      <td>2.0</td>\n",
       "      <td>1</td>\n",
       "      <td>0</td>\n",
       "    </tr>\n",
       "  </tbody>\n",
       "</table>\n",
       "<p>62 rows × 7 columns</p>\n",
       "</div>"
      ],
      "text/plain": [
       "   MATRICULA    % MORA     Total  Avg_Nro_calls  Avg_Nro_visits  ANT_MONTH  \\\n",
       "0     S23401  0.116290  6.000000           12.0             0.0        118   \n",
       "1     S24623  0.084163  7.000000           47.0            13.0        117   \n",
       "2     S32188  0.021842  8.333333           29.0             4.0        109   \n",
       "3     S40253  0.008155  7.000000            9.0             0.0         64   \n",
       "4     S49346  0.073013  7.333333           17.0             0.0         84   \n",
       "..       ...       ...       ...            ...             ...        ...   \n",
       "57    T18952  0.020201  1.500000           14.0             1.0          2   \n",
       "58    T18953  0.074304  4.500000            NaN             NaN          2   \n",
       "59    T20035  0.236072  4.000000           16.0             4.0          1   \n",
       "60    T20040  0.014106  2.000000           21.0             2.0          1   \n",
       "61    T20043  0.257943  4.000000            9.0             2.0          1   \n",
       "\n",
       "    CLUS  \n",
       "0      1  \n",
       "1      2  \n",
       "2      1  \n",
       "3      1  \n",
       "4      1  \n",
       "..   ...  \n",
       "57     0  \n",
       "58     0  \n",
       "59     0  \n",
       "60     0  \n",
       "61     0  \n",
       "\n",
       "[62 rows x 7 columns]"
      ]
     },
     "execution_count": 43,
     "metadata": {},
     "output_type": "execute_result"
    }
   ],
   "source": [
    "RENDIMIENTO_FFNN_2"
   ]
  },
  {
   "cell_type": "code",
   "execution_count": 44,
   "id": "9679304c",
   "metadata": {},
   "outputs": [
    {
     "data": {
      "text/plain": [
       "(62, 7)"
      ]
     },
     "execution_count": 44,
     "metadata": {},
     "output_type": "execute_result"
    }
   ],
   "source": [
    "RENDIMIENTO_FFNN_2.shape"
   ]
  },
  {
   "cell_type": "code",
   "execution_count": 45,
   "id": "7173ac58",
   "metadata": {},
   "outputs": [
    {
     "data": {
      "text/plain": [
       "(62, 7)"
      ]
     },
     "execution_count": 45,
     "metadata": {},
     "output_type": "execute_result"
    }
   ],
   "source": [
    "RENDIMIENTO_FFNN_2.shape"
   ]
  },
  {
   "cell_type": "code",
   "execution_count": 46,
   "id": "42668ba1",
   "metadata": {},
   "outputs": [],
   "source": [
    "conditionlist = [\n",
    "    (RENDIMIENTO_FFNN_2['CLUS'] == 0) ,\n",
    "    (RENDIMIENTO_FFNN_2['CLUS'] == 1) ,\n",
    "    (RENDIMIENTO_FFNN_2['CLUS'] == 2)]\n",
    "choicelist = ['1', '2', '0']\n",
    "RENDIMIENTO_FFNN_2['CLUS_FIN'] = np.select(conditionlist, choicelist, default='Not Specified')"
   ]
  },
  {
   "cell_type": "code",
   "execution_count": 47,
   "id": "fb141faa",
   "metadata": {},
   "outputs": [
    {
     "data": {
      "text/plain": [
       "1    30\n",
       "0    20\n",
       "2    12\n",
       "Name: CLUS, dtype: int64"
      ]
     },
     "execution_count": 47,
     "metadata": {},
     "output_type": "execute_result"
    }
   ],
   "source": [
    "RENDIMIENTO_FFNN_2.CLUS.value_counts()"
   ]
  },
  {
   "cell_type": "code",
   "execution_count": 48,
   "id": "e1550347",
   "metadata": {},
   "outputs": [
    {
     "data": {
      "text/plain": [
       "1    30\n",
       "0    20\n",
       "2    12\n",
       "Name: CLUS, dtype: int64"
      ]
     },
     "execution_count": 48,
     "metadata": {},
     "output_type": "execute_result"
    }
   ],
   "source": [
    "RENDIMIENTO_FFNN_2.CLUS.value_counts()"
   ]
  },
  {
   "cell_type": "code",
   "execution_count": 49,
   "id": "b2e6ad49",
   "metadata": {},
   "outputs": [
    {
     "data": {
      "text/plain": [
       "2    30\n",
       "1    20\n",
       "0    12\n",
       "Name: CLUS_FIN, dtype: int64"
      ]
     },
     "execution_count": 49,
     "metadata": {},
     "output_type": "execute_result"
    }
   ],
   "source": [
    "RENDIMIENTO_FFNN_2.CLUS_FIN.value_counts()"
   ]
  },
  {
   "cell_type": "code",
   "execution_count": 50,
   "id": "2c73fc2e",
   "metadata": {},
   "outputs": [],
   "source": [
    "##RENDIMIENTO_FFNN_3.to_csv(\"FFNN_CLUS_REPRO.csv\")"
   ]
  },
  {
   "cell_type": "code",
   "execution_count": null,
   "id": "30329161",
   "metadata": {},
   "outputs": [],
   "source": []
  },
  {
   "cell_type": "markdown",
   "id": "d998ffc6",
   "metadata": {},
   "source": [
    "#### CENTROIDES"
   ]
  },
  {
   "cell_type": "code",
   "execution_count": 57,
   "id": "f776eb2a",
   "metadata": {
    "ExecuteTime": {
     "end_time": "2022-05-13T15:49:24.041975Z",
     "start_time": "2022-05-13T15:49:23.935250Z"
    }
   },
   "outputs": [
    {
     "data": {
      "text/plain": [
       "0    44.262295\n",
       "2    36.065574\n",
       "1    19.672131\n",
       "Name: CLUS, dtype: float64"
      ]
     },
     "execution_count": 57,
     "metadata": {},
     "output_type": "execute_result"
    }
   ],
   "source": [
    "RENDIMIENTO_FFNN_4['CLUS'].value_counts(normalize=True)*100"
   ]
  },
  {
   "cell_type": "code",
   "execution_count": 58,
   "id": "1a8f8954",
   "metadata": {
    "ExecuteTime": {
     "end_time": "2022-05-13T15:49:24.136370Z",
     "start_time": "2022-05-13T15:49:24.043960Z"
    }
   },
   "outputs": [
    {
     "data": {
      "text/plain": [
       "0    27\n",
       "2    22\n",
       "1    12\n",
       "Name: CLUS, dtype: int64"
      ]
     },
     "execution_count": 58,
     "metadata": {},
     "output_type": "execute_result"
    }
   ],
   "source": [
    "RENDIMIENTO_FFNN_4['CLUS'].value_counts()"
   ]
  },
  {
   "cell_type": "code",
   "execution_count": 59,
   "id": "db1e8fb5",
   "metadata": {
    "ExecuteTime": {
     "end_time": "2022-05-13T15:49:24.224137Z",
     "start_time": "2022-05-13T15:49:24.138365Z"
    }
   },
   "outputs": [
    {
     "data": {
      "text/plain": [
       "61"
      ]
     },
     "execution_count": 59,
     "metadata": {},
     "output_type": "execute_result"
    }
   ],
   "source": [
    "RENDIMIENTO_FFNN_4['CLUS'].count()"
   ]
  },
  {
   "cell_type": "code",
   "execution_count": 69,
   "id": "7c887c5a",
   "metadata": {
    "ExecuteTime": {
     "end_time": "2022-05-11T22:25:20.622417Z",
     "start_time": "2022-05-11T22:25:20.621419Z"
    }
   },
   "outputs": [
    {
     "data": {
      "text/html": [
       "<div>\n",
       "<style scoped>\n",
       "    .dataframe tbody tr th:only-of-type {\n",
       "        vertical-align: middle;\n",
       "    }\n",
       "\n",
       "    .dataframe tbody tr th {\n",
       "        vertical-align: top;\n",
       "    }\n",
       "\n",
       "    .dataframe thead th {\n",
       "        text-align: right;\n",
       "    }\n",
       "</style>\n",
       "<table border=\"1\" class=\"dataframe\">\n",
       "  <thead>\n",
       "    <tr style=\"text-align: right;\">\n",
       "      <th></th>\n",
       "      <th>% MORA</th>\n",
       "      <th>Total</th>\n",
       "      <th>Avg_Nro_calls</th>\n",
       "      <th>Avg_Nro_visits</th>\n",
       "      <th>ANT_MONTH</th>\n",
       "      <th>CLUS</th>\n",
       "    </tr>\n",
       "  </thead>\n",
       "  <tbody>\n",
       "    <tr>\n",
       "      <th>0</th>\n",
       "      <td>0.116290</td>\n",
       "      <td>6.000000</td>\n",
       "      <td>12.0</td>\n",
       "      <td>0.0</td>\n",
       "      <td>118</td>\n",
       "      <td>0</td>\n",
       "    </tr>\n",
       "    <tr>\n",
       "      <th>1</th>\n",
       "      <td>0.084163</td>\n",
       "      <td>7.000000</td>\n",
       "      <td>47.0</td>\n",
       "      <td>13.0</td>\n",
       "      <td>117</td>\n",
       "      <td>1</td>\n",
       "    </tr>\n",
       "    <tr>\n",
       "      <th>2</th>\n",
       "      <td>0.021842</td>\n",
       "      <td>8.333333</td>\n",
       "      <td>29.0</td>\n",
       "      <td>4.0</td>\n",
       "      <td>109</td>\n",
       "      <td>0</td>\n",
       "    </tr>\n",
       "    <tr>\n",
       "      <th>3</th>\n",
       "      <td>0.008155</td>\n",
       "      <td>7.000000</td>\n",
       "      <td>9.0</td>\n",
       "      <td>0.0</td>\n",
       "      <td>64</td>\n",
       "      <td>0</td>\n",
       "    </tr>\n",
       "    <tr>\n",
       "      <th>4</th>\n",
       "      <td>0.073013</td>\n",
       "      <td>7.333333</td>\n",
       "      <td>17.0</td>\n",
       "      <td>0.0</td>\n",
       "      <td>84</td>\n",
       "      <td>0</td>\n",
       "    </tr>\n",
       "    <tr>\n",
       "      <th>...</th>\n",
       "      <td>...</td>\n",
       "      <td>...</td>\n",
       "      <td>...</td>\n",
       "      <td>...</td>\n",
       "      <td>...</td>\n",
       "      <td>...</td>\n",
       "    </tr>\n",
       "    <tr>\n",
       "      <th>56</th>\n",
       "      <td>0.000365</td>\n",
       "      <td>3.666667</td>\n",
       "      <td>4.0</td>\n",
       "      <td>0.0</td>\n",
       "      <td>3</td>\n",
       "      <td>2</td>\n",
       "    </tr>\n",
       "    <tr>\n",
       "      <th>57</th>\n",
       "      <td>0.020201</td>\n",
       "      <td>1.500000</td>\n",
       "      <td>14.0</td>\n",
       "      <td>1.0</td>\n",
       "      <td>2</td>\n",
       "      <td>2</td>\n",
       "    </tr>\n",
       "    <tr>\n",
       "      <th>59</th>\n",
       "      <td>0.236072</td>\n",
       "      <td>4.000000</td>\n",
       "      <td>16.0</td>\n",
       "      <td>4.0</td>\n",
       "      <td>1</td>\n",
       "      <td>2</td>\n",
       "    </tr>\n",
       "    <tr>\n",
       "      <th>60</th>\n",
       "      <td>0.014106</td>\n",
       "      <td>2.000000</td>\n",
       "      <td>21.0</td>\n",
       "      <td>2.0</td>\n",
       "      <td>1</td>\n",
       "      <td>2</td>\n",
       "    </tr>\n",
       "    <tr>\n",
       "      <th>61</th>\n",
       "      <td>0.257943</td>\n",
       "      <td>4.000000</td>\n",
       "      <td>9.0</td>\n",
       "      <td>2.0</td>\n",
       "      <td>1</td>\n",
       "      <td>2</td>\n",
       "    </tr>\n",
       "  </tbody>\n",
       "</table>\n",
       "<p>61 rows × 6 columns</p>\n",
       "</div>"
      ],
      "text/plain": [
       "      % MORA     Total  Avg_Nro_calls  Avg_Nro_visits  ANT_MONTH  CLUS\n",
       "0   0.116290  6.000000           12.0             0.0        118     0\n",
       "1   0.084163  7.000000           47.0            13.0        117     1\n",
       "2   0.021842  8.333333           29.0             4.0        109     0\n",
       "3   0.008155  7.000000            9.0             0.0         64     0\n",
       "4   0.073013  7.333333           17.0             0.0         84     0\n",
       "..       ...       ...            ...             ...        ...   ...\n",
       "56  0.000365  3.666667            4.0             0.0          3     2\n",
       "57  0.020201  1.500000           14.0             1.0          2     2\n",
       "59  0.236072  4.000000           16.0             4.0          1     2\n",
       "60  0.014106  2.000000           21.0             2.0          1     2\n",
       "61  0.257943  4.000000            9.0             2.0          1     2\n",
       "\n",
       "[61 rows x 6 columns]"
      ]
     },
     "execution_count": 69,
     "metadata": {},
     "output_type": "execute_result"
    }
   ],
   "source": [
    "RENDIMIENTO_FFNN_4"
   ]
  },
  {
   "cell_type": "code",
   "execution_count": 99,
   "id": "0525942f",
   "metadata": {
    "ExecuteTime": {
     "end_time": "2022-05-13T15:49:24.341834Z",
     "start_time": "2022-05-13T15:49:24.226153Z"
    }
   },
   "outputs": [
    {
     "data": {
      "text/plain": [
       "Index(['% MORA', 'Total', 'Avg_Nro_calls', 'Avg_Nro_visits', 'ANT_MONTH'], dtype='object')"
      ]
     },
     "execution_count": 99,
     "metadata": {},
     "output_type": "execute_result"
    }
   ],
   "source": [
    "RENDIMIENTO_FFNN_4.columns"
   ]
  },
  {
   "cell_type": "code",
   "execution_count": 53,
   "id": "ca7a24f7",
   "metadata": {
    "ExecuteTime": {
     "end_time": "2022-05-13T15:49:24.510712Z",
     "start_time": "2022-05-13T15:49:24.343819Z"
    }
   },
   "outputs": [
    {
     "data": {
      "text/html": [
       "<div>\n",
       "<style scoped>\n",
       "    .dataframe tbody tr th:only-of-type {\n",
       "        vertical-align: middle;\n",
       "    }\n",
       "\n",
       "    .dataframe tbody tr th {\n",
       "        vertical-align: top;\n",
       "    }\n",
       "\n",
       "    .dataframe thead tr th {\n",
       "        text-align: left;\n",
       "    }\n",
       "\n",
       "    .dataframe thead tr:last-of-type th {\n",
       "        text-align: right;\n",
       "    }\n",
       "</style>\n",
       "<table border=\"1\" class=\"dataframe\">\n",
       "  <thead>\n",
       "    <tr>\n",
       "      <th></th>\n",
       "      <th colspan=\"3\" halign=\"left\">Total</th>\n",
       "      <th colspan=\"2\" halign=\"left\">Avg_Nro_calls</th>\n",
       "      <th colspan=\"2\" halign=\"left\">Avg_Nro_visits</th>\n",
       "      <th colspan=\"2\" halign=\"left\">ANT_MONTH</th>\n",
       "      <th colspan=\"4\" halign=\"left\">% MORA</th>\n",
       "    </tr>\n",
       "    <tr>\n",
       "      <th></th>\n",
       "      <th>count</th>\n",
       "      <th>median</th>\n",
       "      <th>std</th>\n",
       "      <th>median</th>\n",
       "      <th>std</th>\n",
       "      <th>median</th>\n",
       "      <th>std</th>\n",
       "      <th>median</th>\n",
       "      <th>std</th>\n",
       "      <th>median</th>\n",
       "      <th>std</th>\n",
       "      <th>max</th>\n",
       "      <th>min</th>\n",
       "    </tr>\n",
       "    <tr>\n",
       "      <th>CLUS</th>\n",
       "      <th></th>\n",
       "      <th></th>\n",
       "      <th></th>\n",
       "      <th></th>\n",
       "      <th></th>\n",
       "      <th></th>\n",
       "      <th></th>\n",
       "      <th></th>\n",
       "      <th></th>\n",
       "      <th></th>\n",
       "      <th></th>\n",
       "      <th></th>\n",
       "      <th></th>\n",
       "    </tr>\n",
       "  </thead>\n",
       "  <tbody>\n",
       "    <tr>\n",
       "      <th>0</th>\n",
       "      <td>20</td>\n",
       "      <td>5.166667</td>\n",
       "      <td>2.212471</td>\n",
       "      <td>14.0</td>\n",
       "      <td>8.374634</td>\n",
       "      <td>1.0</td>\n",
       "      <td>2.391505</td>\n",
       "      <td>10.5</td>\n",
       "      <td>22.499766</td>\n",
       "      <td>0.090610</td>\n",
       "      <td>0.066361</td>\n",
       "      <td>0.257943</td>\n",
       "      <td>0.000365</td>\n",
       "    </tr>\n",
       "    <tr>\n",
       "      <th>1</th>\n",
       "      <td>30</td>\n",
       "      <td>7.333333</td>\n",
       "      <td>1.166201</td>\n",
       "      <td>12.0</td>\n",
       "      <td>7.972726</td>\n",
       "      <td>0.0</td>\n",
       "      <td>1.533158</td>\n",
       "      <td>48.0</td>\n",
       "      <td>21.457898</td>\n",
       "      <td>0.024079</td>\n",
       "      <td>0.028310</td>\n",
       "      <td>0.116290</td>\n",
       "      <td>0.003455</td>\n",
       "    </tr>\n",
       "    <tr>\n",
       "      <th>2</th>\n",
       "      <td>12</td>\n",
       "      <td>7.166667</td>\n",
       "      <td>1.414214</td>\n",
       "      <td>46.0</td>\n",
       "      <td>15.078331</td>\n",
       "      <td>7.0</td>\n",
       "      <td>6.501165</td>\n",
       "      <td>52.5</td>\n",
       "      <td>22.389121</td>\n",
       "      <td>0.057326</td>\n",
       "      <td>0.027982</td>\n",
       "      <td>0.113644</td>\n",
       "      <td>0.030384</td>\n",
       "    </tr>\n",
       "  </tbody>\n",
       "</table>\n",
       "</div>"
      ],
      "text/plain": [
       "     Total                     Avg_Nro_calls            Avg_Nro_visits  \\\n",
       "     count    median       std        median        std         median   \n",
       "CLUS                                                                     \n",
       "0       20  5.166667  2.212471          14.0   8.374634            1.0   \n",
       "1       30  7.333333  1.166201          12.0   7.972726            0.0   \n",
       "2       12  7.166667  1.414214          46.0  15.078331            7.0   \n",
       "\n",
       "               ANT_MONTH               % MORA                                \n",
       "           std    median        std    median       std       max       min  \n",
       "CLUS                                                                         \n",
       "0     2.391505      10.5  22.499766  0.090610  0.066361  0.257943  0.000365  \n",
       "1     1.533158      48.0  21.457898  0.024079  0.028310  0.116290  0.003455  \n",
       "2     6.501165      52.5  22.389121  0.057326  0.027982  0.113644  0.030384  "
      ]
     },
     "execution_count": 53,
     "metadata": {},
     "output_type": "execute_result"
    }
   ],
   "source": [
    "RENDIMIENTO_FFNN_2.groupby(\"CLUS\").agg({\n",
    "    'Total' : [\"count\" ,\"median\" , \"std\",] , \n",
    "    'Avg_Nro_calls': [\"median\" , \"std\"], \n",
    "    'Avg_Nro_visits': [\"median\" , \"std\"], \n",
    "    'ANT_MONTH' :  [\"median\" , \"std\"],\n",
    "    '% MORA' :  [\"median\" , \"std\",\"max\",\"min\"]\n",
    "})"
   ]
  },
  {
   "cell_type": "code",
   "execution_count": 139,
   "id": "f0ddad21",
   "metadata": {
    "ExecuteTime": {
     "end_time": "2022-05-13T15:49:24.594491Z",
     "start_time": "2022-05-13T15:49:24.512706Z"
    }
   },
   "outputs": [],
   "source": [
    "#print(np.percentile(RENDIMIENTO_FFNN_4[\"Total\"], 25))\n",
    "#print(np.percentile(RENDIMIENTO_FFNN_4[\"Total\"], 50))\n",
    "#print(np.percentile(RENDIMIENTO_FFNN_4[\"Total\"], 75))\n",
    "#print(np.percentile(RENDIMIENTO_FFNN_4[\"Total\"], 100))\n",
    "      "
   ]
  },
  {
   "cell_type": "code",
   "execution_count": 67,
   "id": "a2e4a78f",
   "metadata": {
    "ExecuteTime": {
     "end_time": "2022-05-13T15:49:24.707190Z",
     "start_time": "2022-05-13T15:49:24.596485Z"
    }
   },
   "outputs": [
    {
     "data": {
      "text/html": [
       "<div>\n",
       "<style scoped>\n",
       "    .dataframe tbody tr th:only-of-type {\n",
       "        vertical-align: middle;\n",
       "    }\n",
       "\n",
       "    .dataframe tbody tr th {\n",
       "        vertical-align: top;\n",
       "    }\n",
       "\n",
       "    .dataframe thead th {\n",
       "        text-align: right;\n",
       "    }\n",
       "</style>\n",
       "<table border=\"1\" class=\"dataframe\">\n",
       "  <thead>\n",
       "    <tr style=\"text-align: right;\">\n",
       "      <th></th>\n",
       "      <th></th>\n",
       "      <th>% MORA</th>\n",
       "      <th>Total</th>\n",
       "      <th>Avg_Nro_calls</th>\n",
       "      <th>Avg_Nro_visits</th>\n",
       "      <th>ANT_MONTH</th>\n",
       "    </tr>\n",
       "    <tr>\n",
       "      <th>CLUS</th>\n",
       "      <th></th>\n",
       "      <th></th>\n",
       "      <th></th>\n",
       "      <th></th>\n",
       "      <th></th>\n",
       "      <th></th>\n",
       "    </tr>\n",
       "  </thead>\n",
       "  <tbody>\n",
       "    <tr>\n",
       "      <th rowspan=\"4\" valign=\"top\">0</th>\n",
       "      <th>0.00</th>\n",
       "      <td>0.003455</td>\n",
       "      <td>6.000000</td>\n",
       "      <td>5.0</td>\n",
       "      <td>0.00</td>\n",
       "      <td>34.00</td>\n",
       "    </tr>\n",
       "    <tr>\n",
       "      <th>0.50</th>\n",
       "      <td>0.022699</td>\n",
       "      <td>7.666667</td>\n",
       "      <td>12.0</td>\n",
       "      <td>0.00</td>\n",
       "      <td>48.00</td>\n",
       "    </tr>\n",
       "    <tr>\n",
       "      <th>0.75</th>\n",
       "      <td>0.048441</td>\n",
       "      <td>8.333333</td>\n",
       "      <td>19.0</td>\n",
       "      <td>1.50</td>\n",
       "      <td>63.00</td>\n",
       "    </tr>\n",
       "    <tr>\n",
       "      <th>1.00</th>\n",
       "      <td>0.116290</td>\n",
       "      <td>10.000000</td>\n",
       "      <td>32.0</td>\n",
       "      <td>5.00</td>\n",
       "      <td>118.00</td>\n",
       "    </tr>\n",
       "    <tr>\n",
       "      <th rowspan=\"4\" valign=\"top\">1</th>\n",
       "      <th>0.00</th>\n",
       "      <td>0.030384</td>\n",
       "      <td>4.000000</td>\n",
       "      <td>22.0</td>\n",
       "      <td>1.00</td>\n",
       "      <td>30.00</td>\n",
       "    </tr>\n",
       "    <tr>\n",
       "      <th>0.50</th>\n",
       "      <td>0.057326</td>\n",
       "      <td>7.166667</td>\n",
       "      <td>46.0</td>\n",
       "      <td>7.00</td>\n",
       "      <td>52.50</td>\n",
       "    </tr>\n",
       "    <tr>\n",
       "      <th>0.75</th>\n",
       "      <td>0.077048</td>\n",
       "      <td>8.416667</td>\n",
       "      <td>47.5</td>\n",
       "      <td>12.25</td>\n",
       "      <td>61.75</td>\n",
       "    </tr>\n",
       "    <tr>\n",
       "      <th>1.00</th>\n",
       "      <td>0.113644</td>\n",
       "      <td>9.333333</td>\n",
       "      <td>74.0</td>\n",
       "      <td>23.00</td>\n",
       "      <td>117.00</td>\n",
       "    </tr>\n",
       "    <tr>\n",
       "      <th rowspan=\"4\" valign=\"top\">2</th>\n",
       "      <th>0.00</th>\n",
       "      <td>0.000365</td>\n",
       "      <td>0.333333</td>\n",
       "      <td>4.0</td>\n",
       "      <td>0.00</td>\n",
       "      <td>1.00</td>\n",
       "    </tr>\n",
       "    <tr>\n",
       "      <th>0.50</th>\n",
       "      <td>0.083869</td>\n",
       "      <td>5.333333</td>\n",
       "      <td>14.5</td>\n",
       "      <td>1.00</td>\n",
       "      <td>27.50</td>\n",
       "    </tr>\n",
       "    <tr>\n",
       "      <th>0.75</th>\n",
       "      <td>0.113001</td>\n",
       "      <td>6.583333</td>\n",
       "      <td>20.5</td>\n",
       "      <td>2.00</td>\n",
       "      <td>35.50</td>\n",
       "    </tr>\n",
       "    <tr>\n",
       "      <th>1.00</th>\n",
       "      <td>0.257943</td>\n",
       "      <td>7.666667</td>\n",
       "      <td>32.0</td>\n",
       "      <td>8.00</td>\n",
       "      <td>72.00</td>\n",
       "    </tr>\n",
       "  </tbody>\n",
       "</table>\n",
       "</div>"
      ],
      "text/plain": [
       "             % MORA      Total  Avg_Nro_calls  Avg_Nro_visits  ANT_MONTH\n",
       "CLUS                                                                    \n",
       "0    0.00  0.003455   6.000000            5.0            0.00      34.00\n",
       "     0.50  0.022699   7.666667           12.0            0.00      48.00\n",
       "     0.75  0.048441   8.333333           19.0            1.50      63.00\n",
       "     1.00  0.116290  10.000000           32.0            5.00     118.00\n",
       "1    0.00  0.030384   4.000000           22.0            1.00      30.00\n",
       "     0.50  0.057326   7.166667           46.0            7.00      52.50\n",
       "     0.75  0.077048   8.416667           47.5           12.25      61.75\n",
       "     1.00  0.113644   9.333333           74.0           23.00     117.00\n",
       "2    0.00  0.000365   0.333333            4.0            0.00       1.00\n",
       "     0.50  0.083869   5.333333           14.5            1.00      27.50\n",
       "     0.75  0.113001   6.583333           20.5            2.00      35.50\n",
       "     1.00  0.257943   7.666667           32.0            8.00      72.00"
      ]
     },
     "execution_count": 67,
     "metadata": {},
     "output_type": "execute_result"
    }
   ],
   "source": [
    "RENDIMIENTO_FFNN_4.groupby('CLUS').quantile([0,0.50,0.75,1])"
   ]
  },
  {
   "cell_type": "code",
   "execution_count": 68,
   "id": "53cba123",
   "metadata": {
    "ExecuteTime": {
     "end_time": "2022-05-13T15:49:24.802936Z",
     "start_time": "2022-05-13T15:49:24.709209Z"
    },
    "collapsed": true
   },
   "outputs": [
    {
     "ename": "KeyError",
     "evalue": "\"Column(s) ['Mora'] do not exist\"",
     "output_type": "error",
     "traceback": [
      "\u001b[1;31m---------------------------------------------------------------------------\u001b[0m",
      "\u001b[1;31mKeyError\u001b[0m                                  Traceback (most recent call last)",
      "\u001b[1;32m~\\AppData\\Local\\Temp/ipykernel_380440/528053269.py\u001b[0m in \u001b[0;36m<module>\u001b[1;34m\u001b[0m\n\u001b[0;32m      4\u001b[0m     \u001b[1;34m'Avg_Nro_visits'\u001b[0m\u001b[1;33m:\u001b[0m \u001b[1;33m[\u001b[0m\u001b[1;34m\"mean\"\u001b[0m \u001b[1;33m,\u001b[0m \u001b[1;34m\"std\"\u001b[0m\u001b[1;33m]\u001b[0m\u001b[1;33m,\u001b[0m\u001b[1;33m\u001b[0m\u001b[1;33m\u001b[0m\u001b[0m\n\u001b[0;32m      5\u001b[0m     \u001b[1;34m'ANT_MONTH'\u001b[0m \u001b[1;33m:\u001b[0m  \u001b[1;33m[\u001b[0m\u001b[1;34m\"mean\"\u001b[0m \u001b[1;33m,\u001b[0m \u001b[1;34m\"std\"\u001b[0m\u001b[1;33m]\u001b[0m\u001b[1;33m,\u001b[0m\u001b[1;33m\u001b[0m\u001b[1;33m\u001b[0m\u001b[0m\n\u001b[1;32m----> 6\u001b[1;33m     \u001b[1;34m'Mora'\u001b[0m \u001b[1;33m:\u001b[0m  \u001b[1;33m[\u001b[0m\u001b[1;34m\"mean\"\u001b[0m \u001b[1;33m,\u001b[0m \u001b[1;34m\"std\"\u001b[0m\u001b[1;33m]\u001b[0m\u001b[1;33m\u001b[0m\u001b[1;33m\u001b[0m\u001b[0m\n\u001b[0m\u001b[0;32m      7\u001b[0m })\n",
      "\u001b[1;32mD:\\PythonEnvs\\gmesaenv\\lib\\site-packages\\pandas\\core\\groupby\\generic.py\u001b[0m in \u001b[0;36maggregate\u001b[1;34m(self, func, engine, engine_kwargs, *args, **kwargs)\u001b[0m\n\u001b[0;32m    977\u001b[0m \u001b[1;33m\u001b[0m\u001b[0m\n\u001b[0;32m    978\u001b[0m         \u001b[0mop\u001b[0m \u001b[1;33m=\u001b[0m \u001b[0mGroupByApply\u001b[0m\u001b[1;33m(\u001b[0m\u001b[0mself\u001b[0m\u001b[1;33m,\u001b[0m \u001b[0mfunc\u001b[0m\u001b[1;33m,\u001b[0m \u001b[0margs\u001b[0m\u001b[1;33m,\u001b[0m \u001b[0mkwargs\u001b[0m\u001b[1;33m)\u001b[0m\u001b[1;33m\u001b[0m\u001b[1;33m\u001b[0m\u001b[0m\n\u001b[1;32m--> 979\u001b[1;33m         \u001b[0mresult\u001b[0m \u001b[1;33m=\u001b[0m \u001b[0mop\u001b[0m\u001b[1;33m.\u001b[0m\u001b[0magg\u001b[0m\u001b[1;33m(\u001b[0m\u001b[1;33m)\u001b[0m\u001b[1;33m\u001b[0m\u001b[1;33m\u001b[0m\u001b[0m\n\u001b[0m\u001b[0;32m    980\u001b[0m         \u001b[1;32mif\u001b[0m \u001b[1;32mnot\u001b[0m \u001b[0mis_dict_like\u001b[0m\u001b[1;33m(\u001b[0m\u001b[0mfunc\u001b[0m\u001b[1;33m)\u001b[0m \u001b[1;32mand\u001b[0m \u001b[0mresult\u001b[0m \u001b[1;32mis\u001b[0m \u001b[1;32mnot\u001b[0m \u001b[1;32mNone\u001b[0m\u001b[1;33m:\u001b[0m\u001b[1;33m\u001b[0m\u001b[1;33m\u001b[0m\u001b[0m\n\u001b[0;32m    981\u001b[0m             \u001b[1;32mreturn\u001b[0m \u001b[0mresult\u001b[0m\u001b[1;33m\u001b[0m\u001b[1;33m\u001b[0m\u001b[0m\n",
      "\u001b[1;32mD:\\PythonEnvs\\gmesaenv\\lib\\site-packages\\pandas\\core\\apply.py\u001b[0m in \u001b[0;36magg\u001b[1;34m(self)\u001b[0m\n\u001b[0;32m    159\u001b[0m \u001b[1;33m\u001b[0m\u001b[0m\n\u001b[0;32m    160\u001b[0m         \u001b[1;32mif\u001b[0m \u001b[0mis_dict_like\u001b[0m\u001b[1;33m(\u001b[0m\u001b[0marg\u001b[0m\u001b[1;33m)\u001b[0m\u001b[1;33m:\u001b[0m\u001b[1;33m\u001b[0m\u001b[1;33m\u001b[0m\u001b[0m\n\u001b[1;32m--> 161\u001b[1;33m             \u001b[1;32mreturn\u001b[0m \u001b[0mself\u001b[0m\u001b[1;33m.\u001b[0m\u001b[0magg_dict_like\u001b[0m\u001b[1;33m(\u001b[0m\u001b[1;33m)\u001b[0m\u001b[1;33m\u001b[0m\u001b[1;33m\u001b[0m\u001b[0m\n\u001b[0m\u001b[0;32m    162\u001b[0m         \u001b[1;32melif\u001b[0m \u001b[0mis_list_like\u001b[0m\u001b[1;33m(\u001b[0m\u001b[0marg\u001b[0m\u001b[1;33m)\u001b[0m\u001b[1;33m:\u001b[0m\u001b[1;33m\u001b[0m\u001b[1;33m\u001b[0m\u001b[0m\n\u001b[0;32m    163\u001b[0m             \u001b[1;31m# we require a list, but not a 'str'\u001b[0m\u001b[1;33m\u001b[0m\u001b[1;33m\u001b[0m\u001b[1;33m\u001b[0m\u001b[0m\n",
      "\u001b[1;32mD:\\PythonEnvs\\gmesaenv\\lib\\site-packages\\pandas\\core\\apply.py\u001b[0m in \u001b[0;36magg_dict_like\u001b[1;34m(self)\u001b[0m\n\u001b[0;32m    425\u001b[0m             \u001b[0mselection\u001b[0m \u001b[1;33m=\u001b[0m \u001b[0mobj\u001b[0m\u001b[1;33m.\u001b[0m\u001b[0m_selection\u001b[0m\u001b[1;33m\u001b[0m\u001b[1;33m\u001b[0m\u001b[0m\n\u001b[0;32m    426\u001b[0m \u001b[1;33m\u001b[0m\u001b[0m\n\u001b[1;32m--> 427\u001b[1;33m         \u001b[0marg\u001b[0m \u001b[1;33m=\u001b[0m \u001b[0mself\u001b[0m\u001b[1;33m.\u001b[0m\u001b[0mnormalize_dictlike_arg\u001b[0m\u001b[1;33m(\u001b[0m\u001b[1;34m\"agg\"\u001b[0m\u001b[1;33m,\u001b[0m \u001b[0mselected_obj\u001b[0m\u001b[1;33m,\u001b[0m \u001b[0marg\u001b[0m\u001b[1;33m)\u001b[0m\u001b[1;33m\u001b[0m\u001b[1;33m\u001b[0m\u001b[0m\n\u001b[0m\u001b[0;32m    428\u001b[0m \u001b[1;33m\u001b[0m\u001b[0m\n\u001b[0;32m    429\u001b[0m         \u001b[1;32mif\u001b[0m \u001b[0mselected_obj\u001b[0m\u001b[1;33m.\u001b[0m\u001b[0mndim\u001b[0m \u001b[1;33m==\u001b[0m \u001b[1;36m1\u001b[0m\u001b[1;33m:\u001b[0m\u001b[1;33m\u001b[0m\u001b[1;33m\u001b[0m\u001b[0m\n",
      "\u001b[1;32mD:\\PythonEnvs\\gmesaenv\\lib\\site-packages\\pandas\\core\\apply.py\u001b[0m in \u001b[0;36mnormalize_dictlike_arg\u001b[1;34m(self, how, obj, func)\u001b[0m\n\u001b[0;32m    544\u001b[0m             \u001b[1;32mif\u001b[0m \u001b[0mlen\u001b[0m\u001b[1;33m(\u001b[0m\u001b[0mcols\u001b[0m\u001b[1;33m)\u001b[0m \u001b[1;33m>\u001b[0m \u001b[1;36m0\u001b[0m\u001b[1;33m:\u001b[0m\u001b[1;33m\u001b[0m\u001b[1;33m\u001b[0m\u001b[0m\n\u001b[0;32m    545\u001b[0m                 \u001b[0mcols_sorted\u001b[0m \u001b[1;33m=\u001b[0m \u001b[0mlist\u001b[0m\u001b[1;33m(\u001b[0m\u001b[0msafe_sort\u001b[0m\u001b[1;33m(\u001b[0m\u001b[0mlist\u001b[0m\u001b[1;33m(\u001b[0m\u001b[0mcols\u001b[0m\u001b[1;33m)\u001b[0m\u001b[1;33m)\u001b[0m\u001b[1;33m)\u001b[0m\u001b[1;33m\u001b[0m\u001b[1;33m\u001b[0m\u001b[0m\n\u001b[1;32m--> 546\u001b[1;33m                 \u001b[1;32mraise\u001b[0m \u001b[0mKeyError\u001b[0m\u001b[1;33m(\u001b[0m\u001b[1;34mf\"Column(s) {cols_sorted} do not exist\"\u001b[0m\u001b[1;33m)\u001b[0m\u001b[1;33m\u001b[0m\u001b[1;33m\u001b[0m\u001b[0m\n\u001b[0m\u001b[0;32m    547\u001b[0m \u001b[1;33m\u001b[0m\u001b[0m\n\u001b[0;32m    548\u001b[0m         \u001b[0mis_aggregator\u001b[0m \u001b[1;33m=\u001b[0m \u001b[1;32mlambda\u001b[0m \u001b[0mx\u001b[0m\u001b[1;33m:\u001b[0m \u001b[0misinstance\u001b[0m\u001b[1;33m(\u001b[0m\u001b[0mx\u001b[0m\u001b[1;33m,\u001b[0m \u001b[1;33m(\u001b[0m\u001b[0mlist\u001b[0m\u001b[1;33m,\u001b[0m \u001b[0mtuple\u001b[0m\u001b[1;33m,\u001b[0m \u001b[0mdict\u001b[0m\u001b[1;33m)\u001b[0m\u001b[1;33m)\u001b[0m\u001b[1;33m\u001b[0m\u001b[1;33m\u001b[0m\u001b[0m\n",
      "\u001b[1;31mKeyError\u001b[0m: \"Column(s) ['Mora'] do not exist\""
     ]
    }
   ],
   "source": [
    "RENDIMIENTO_FFNN_4.groupby(\"CLUS\").agg({\n",
    "    'Total' : [\"count\" ,\"mean\" , \"std\"] , \n",
    "    'Avg_Nro_calls': [\"mean\" , \"std\"], \n",
    "    'Avg_Nro_visits': [\"mean\" , \"std\"], \n",
    "    'ANT_MONTH' :  [\"mean\" , \"std\"],\n",
    "    'Mora' :  [\"mean\" , \"std\"]\n",
    "})"
   ]
  },
  {
   "cell_type": "code",
   "execution_count": 46,
   "id": "edcca59b",
   "metadata": {
    "ExecuteTime": {
     "end_time": "2022-05-13T15:49:24.928602Z",
     "start_time": "2022-05-13T15:49:24.804930Z"
    },
    "scrolled": false
   },
   "outputs": [
    {
     "data": {
      "text/plain": [
       "Mora                0.29171\n",
       "Total              10.00000\n",
       "Avg_Nro_calls      80.00000\n",
       "Avg_Nro_visits     25.00000\n",
       "ANT_MONTH         118.00000\n",
       "CLUS                2.00000\n",
       "dtype: float64"
      ]
     },
     "execution_count": 46,
     "metadata": {},
     "output_type": "execute_result"
    }
   ],
   "source": [
    "RENDIMIENTO_FFNN_4.max()"
   ]
  },
  {
   "cell_type": "code",
   "execution_count": 47,
   "id": "457dd344",
   "metadata": {
    "ExecuteTime": {
     "end_time": "2022-05-13T15:49:25.025346Z",
     "start_time": "2022-05-13T15:49:24.930596Z"
    }
   },
   "outputs": [
    {
     "data": {
      "text/plain": [
       "(59, 6)"
      ]
     },
     "execution_count": 47,
     "metadata": {},
     "output_type": "execute_result"
    }
   ],
   "source": [
    "RENDIMIENTO_FFNN_4.shape"
   ]
  },
  {
   "cell_type": "code",
   "execution_count": 48,
   "id": "ac0599fc",
   "metadata": {
    "ExecuteTime": {
     "end_time": "2022-05-13T15:49:25.143044Z",
     "start_time": "2022-05-13T15:49:25.027339Z"
    }
   },
   "outputs": [
    {
     "data": {
      "text/plain": [
       "array([1, 2, 0])"
      ]
     },
     "execution_count": 48,
     "metadata": {},
     "output_type": "execute_result"
    }
   ],
   "source": [
    "RENDIMIENTO_FFNN_4.CLUS.unique()"
   ]
  },
  {
   "cell_type": "code",
   "execution_count": 49,
   "id": "f7036987",
   "metadata": {
    "ExecuteTime": {
     "end_time": "2022-05-13T15:49:25.242765Z",
     "start_time": "2022-05-13T15:49:25.145026Z"
    }
   },
   "outputs": [
    {
     "data": {
      "text/plain": [
       "(59, 6)"
      ]
     },
     "execution_count": 49,
     "metadata": {},
     "output_type": "execute_result"
    }
   ],
   "source": [
    "RENDIMIENTO_FFNN_3.shape"
   ]
  },
  {
   "cell_type": "code",
   "execution_count": 50,
   "id": "94901228",
   "metadata": {
    "ExecuteTime": {
     "end_time": "2022-05-13T15:49:25.371453Z",
     "start_time": "2022-05-13T15:49:25.244761Z"
    }
   },
   "outputs": [
    {
     "data": {
      "text/html": [
       "<div>\n",
       "<style scoped>\n",
       "    .dataframe tbody tr th:only-of-type {\n",
       "        vertical-align: middle;\n",
       "    }\n",
       "\n",
       "    .dataframe tbody tr th {\n",
       "        vertical-align: top;\n",
       "    }\n",
       "\n",
       "    .dataframe thead th {\n",
       "        text-align: right;\n",
       "    }\n",
       "</style>\n",
       "<table border=\"1\" class=\"dataframe\">\n",
       "  <thead>\n",
       "    <tr style=\"text-align: right;\">\n",
       "      <th></th>\n",
       "      <th>Mora</th>\n",
       "      <th>Total</th>\n",
       "      <th>Avg_Nro_calls</th>\n",
       "      <th>Avg_Nro_visits</th>\n",
       "      <th>ANT_MONTH</th>\n",
       "      <th>CLUS</th>\n",
       "    </tr>\n",
       "  </thead>\n",
       "  <tbody>\n",
       "    <tr>\n",
       "      <th>0</th>\n",
       "      <td>0.093104</td>\n",
       "      <td>6.0</td>\n",
       "      <td>14.0</td>\n",
       "      <td>0.0</td>\n",
       "      <td>118</td>\n",
       "      <td>1</td>\n",
       "    </tr>\n",
       "  </tbody>\n",
       "</table>\n",
       "</div>"
      ],
      "text/plain": [
       "       Mora  Total  Avg_Nro_calls  Avg_Nro_visits  ANT_MONTH  CLUS\n",
       "0  0.093104    6.0           14.0             0.0        118     1"
      ]
     },
     "execution_count": 50,
     "metadata": {},
     "output_type": "execute_result"
    }
   ],
   "source": [
    "RENDIMIENTO_FFNN_4.head(1)"
   ]
  },
  {
   "cell_type": "code",
   "execution_count": 51,
   "id": "582397f0",
   "metadata": {
    "ExecuteTime": {
     "end_time": "2022-05-13T15:49:25.456211Z",
     "start_time": "2022-05-13T15:49:25.372464Z"
    }
   },
   "outputs": [
    {
     "data": {
      "text/html": [
       "<div>\n",
       "<style scoped>\n",
       "    .dataframe tbody tr th:only-of-type {\n",
       "        vertical-align: middle;\n",
       "    }\n",
       "\n",
       "    .dataframe tbody tr th {\n",
       "        vertical-align: top;\n",
       "    }\n",
       "\n",
       "    .dataframe thead th {\n",
       "        text-align: right;\n",
       "    }\n",
       "</style>\n",
       "<table border=\"1\" class=\"dataframe\">\n",
       "  <thead>\n",
       "    <tr style=\"text-align: right;\">\n",
       "      <th></th>\n",
       "      <th>MATRICULA</th>\n",
       "      <th>Mora</th>\n",
       "      <th>Total</th>\n",
       "      <th>Avg_Nro_calls</th>\n",
       "      <th>Avg_Nro_visits</th>\n",
       "      <th>ANT_MONTH</th>\n",
       "    </tr>\n",
       "  </thead>\n",
       "  <tbody>\n",
       "    <tr>\n",
       "      <th>0</th>\n",
       "      <td>S23401</td>\n",
       "      <td>0.093104</td>\n",
       "      <td>6.0</td>\n",
       "      <td>14.0</td>\n",
       "      <td>0.0</td>\n",
       "      <td>118</td>\n",
       "    </tr>\n",
       "  </tbody>\n",
       "</table>\n",
       "</div>"
      ],
      "text/plain": [
       "  MATRICULA      Mora  Total  Avg_Nro_calls  Avg_Nro_visits  ANT_MONTH\n",
       "0    S23401  0.093104    6.0           14.0             0.0        118"
      ]
     },
     "execution_count": 51,
     "metadata": {},
     "output_type": "execute_result"
    }
   ],
   "source": [
    "RENDIMIENTO_FFNN_3.head(1)"
   ]
  },
  {
   "cell_type": "code",
   "execution_count": 52,
   "id": "1030298f",
   "metadata": {
    "ExecuteTime": {
     "end_time": "2022-05-13T15:49:25.549949Z",
     "start_time": "2022-05-13T15:49:25.458192Z"
    }
   },
   "outputs": [
    {
     "data": {
      "text/plain": [
       "array([1, 2, 2, 1, 1, 1, 1, 0, 1, 2, 0, 1, 1, 2, 2, 1, 1, 1, 2, 1, 2, 1,\n",
       "       0, 2, 1, 1, 1, 1, 1, 2, 1, 2, 1, 1, 1, 1, 1, 0, 1, 1, 0, 1, 0, 0,\n",
       "       1, 2, 1, 2, 0, 0, 0, 1, 0, 0, 0, 0, 0, 0, 0])"
      ]
     },
     "execution_count": 52,
     "metadata": {},
     "output_type": "execute_result"
    }
   ],
   "source": [
    "pred_y"
   ]
  },
  {
   "cell_type": "code",
   "execution_count": 53,
   "id": "75e3e8ec",
   "metadata": {
    "ExecuteTime": {
     "end_time": "2022-05-13T15:49:25.691573Z",
     "start_time": "2022-05-13T15:49:25.551944Z"
    }
   },
   "outputs": [
    {
     "data": {
      "text/plain": [
       "<bound method KMeans.score of KMeans(n_clusters=3, random_state=123)>"
      ]
     },
     "execution_count": 53,
     "metadata": {},
     "output_type": "execute_result"
    }
   ],
   "source": [
    "kmeans.score"
   ]
  },
  {
   "cell_type": "code",
   "execution_count": 54,
   "id": "73683fa7",
   "metadata": {
    "ExecuteTime": {
     "end_time": "2022-05-13T15:49:25.751413Z",
     "start_time": "2022-05-13T15:49:25.693566Z"
    }
   },
   "outputs": [
    {
     "data": {
      "text/plain": [
       "(59, 6)"
      ]
     },
     "execution_count": 54,
     "metadata": {},
     "output_type": "execute_result"
    }
   ],
   "source": [
    "RENDIMIENTO_FFNN_4.shape"
   ]
  },
  {
   "cell_type": "markdown",
   "id": "dad52b53",
   "metadata": {},
   "source": [
    "#### SAVE SCALER AND MODEL TO PREDICT"
   ]
  },
  {
   "cell_type": "code",
   "execution_count": 142,
   "id": "92cfba02",
   "metadata": {
    "ExecuteTime": {
     "end_time": "2022-05-13T16:25:10.713954Z",
     "start_time": "2022-05-13T16:25:10.708945Z"
    }
   },
   "outputs": [],
   "source": [
    " #SAVE SCALER\n",
    "import pickle\n",
    "scalerfile = 'scaler_clus_func_mcr_repro.sav'\n",
    "pickle.dump(scaler, open(scalerfile, 'wb'))"
   ]
  },
  {
   "cell_type": "code",
   "execution_count": 143,
   "id": "5c39c0b9",
   "metadata": {},
   "outputs": [],
   "source": [
    " #SAVE MODEL\n",
    "import pickle\n",
    "modelfile = 'model_clus_func_repro.sav'\n",
    "pickle.dump(kmeans, open(modelfile, 'wb'))"
   ]
  },
  {
   "cell_type": "markdown",
   "id": "958f8b28",
   "metadata": {},
   "source": [
    "#### Para predecir"
   ]
  },
  {
   "cell_type": "code",
   "execution_count": 66,
   "id": "aa480e25",
   "metadata": {
    "ExecuteTime": {
     "end_time": "2022-05-13T17:11:10.846602Z",
     "start_time": "2022-05-13T17:11:10.842613Z"
    }
   },
   "outputs": [],
   "source": [
    "import pandas as pd \n",
    "import pickle "
   ]
  },
  {
   "cell_type": "code",
   "execution_count": 35,
   "id": "5eeb2ce0",
   "metadata": {
    "ExecuteTime": {
     "end_time": "2022-05-13T17:21:12.484119Z",
     "start_time": "2022-05-13T17:21:12.397332Z"
    }
   },
   "outputs": [],
   "source": [
    "import pyodbc\n",
    "conn = pyodbc.connect('Driver={SQL Server};'\n",
    "                      'Server=BCRRBM00;'\n",
    "                      'Database=BD_IFRS9_estudio;'\n",
    "                      'Trusted_Connection=yes;')\n",
    "conn\n",
    "cursor = conn.cursor()"
   ]
  },
  {
   "cell_type": "code",
   "execution_count": 36,
   "id": "f9e7fe30",
   "metadata": {
    "ExecuteTime": {
     "end_time": "2022-05-13T17:21:14.710836Z",
     "start_time": "2022-05-13T17:21:14.700836Z"
    }
   },
   "outputs": [],
   "source": [
    "q1=( ''' \n",
    "select Matricula, avg_cant_news, Avg_Nro_calls, Avg_Nro_Gest, Avg_Nro_visits, Cant_mes, ANT_MONTH\n",
    "from  [BD_IFRS9_estudio].[mcr].[DESEMBOLSOS_FUNC_MES_2]  \n",
    "WHERE Matricula in ('T18952','T18953','T20043')\n",
    "\n",
    "''')\n",
    "gt= pd.read_sql(q1,conn)"
   ]
  },
  {
   "cell_type": "code",
   "execution_count": 37,
   "id": "60c9603c",
   "metadata": {
    "ExecuteTime": {
     "end_time": "2022-05-13T17:21:21.263962Z",
     "start_time": "2022-05-13T17:21:21.252992Z"
    }
   },
   "outputs": [
    {
     "data": {
      "text/html": [
       "<div>\n",
       "<style scoped>\n",
       "    .dataframe tbody tr th:only-of-type {\n",
       "        vertical-align: middle;\n",
       "    }\n",
       "\n",
       "    .dataframe tbody tr th {\n",
       "        vertical-align: top;\n",
       "    }\n",
       "\n",
       "    .dataframe thead th {\n",
       "        text-align: right;\n",
       "    }\n",
       "</style>\n",
       "<table border=\"1\" class=\"dataframe\">\n",
       "  <thead>\n",
       "    <tr style=\"text-align: right;\">\n",
       "      <th></th>\n",
       "      <th>Matricula</th>\n",
       "      <th>avg_cant_news</th>\n",
       "      <th>Avg_Nro_calls</th>\n",
       "      <th>Avg_Nro_Gest</th>\n",
       "      <th>Avg_Nro_visits</th>\n",
       "      <th>Cant_mes</th>\n",
       "      <th>ANT_MONTH</th>\n",
       "    </tr>\n",
       "  </thead>\n",
       "  <tbody>\n",
       "    <tr>\n",
       "      <th>0</th>\n",
       "      <td>T18952</td>\n",
       "      <td>1</td>\n",
       "      <td>14.0</td>\n",
       "      <td>15.0</td>\n",
       "      <td>1.0</td>\n",
       "      <td>1</td>\n",
       "      <td>2</td>\n",
       "    </tr>\n",
       "    <tr>\n",
       "      <th>1</th>\n",
       "      <td>T18953</td>\n",
       "      <td>1</td>\n",
       "      <td>NaN</td>\n",
       "      <td>NaN</td>\n",
       "      <td>NaN</td>\n",
       "      <td>1</td>\n",
       "      <td>2</td>\n",
       "    </tr>\n",
       "    <tr>\n",
       "      <th>2</th>\n",
       "      <td>T20043</td>\n",
       "      <td>1</td>\n",
       "      <td>9.0</td>\n",
       "      <td>11.0</td>\n",
       "      <td>2.0</td>\n",
       "      <td>1</td>\n",
       "      <td>1</td>\n",
       "    </tr>\n",
       "  </tbody>\n",
       "</table>\n",
       "</div>"
      ],
      "text/plain": [
       "  Matricula  avg_cant_news  Avg_Nro_calls  Avg_Nro_Gest  Avg_Nro_visits  \\\n",
       "0    T18952              1           14.0          15.0             1.0   \n",
       "1    T18953              1            NaN           NaN             NaN   \n",
       "2    T20043              1            9.0          11.0             2.0   \n",
       "\n",
       "   Cant_mes  ANT_MONTH  \n",
       "0         1          2  \n",
       "1         1          2  \n",
       "2         1          1  "
      ]
     },
     "execution_count": 37,
     "metadata": {},
     "output_type": "execute_result"
    }
   ],
   "source": [
    "gt"
   ]
  },
  {
   "cell_type": "code",
   "execution_count": 38,
   "id": "904225a3",
   "metadata": {
    "ExecuteTime": {
     "end_time": "2022-05-13T17:25:25.461582Z",
     "start_time": "2022-05-13T17:25:24.988522Z"
    },
    "slideshow": {
     "slide_type": "notes"
    }
   },
   "outputs": [],
   "source": [
    "df_ind_func= pd.read_excel(\"D:/Marisa Baldellon/01 PROYECTOS 2022/02 COBRANZAS MICROCREDITOS/HistoricoRV2021_2022_Compartir.xlsx\", header = 1 )"
   ]
  },
  {
   "cell_type": "code",
   "execution_count": 39,
   "id": "2c964982",
   "metadata": {
    "ExecuteTime": {
     "end_time": "2022-05-13T17:25:25.683434Z",
     "start_time": "2022-05-13T17:25:25.666490Z"
    }
   },
   "outputs": [
    {
     "data": {
      "text/html": [
       "<div>\n",
       "<style scoped>\n",
       "    .dataframe tbody tr th:only-of-type {\n",
       "        vertical-align: middle;\n",
       "    }\n",
       "\n",
       "    .dataframe tbody tr th {\n",
       "        vertical-align: top;\n",
       "    }\n",
       "\n",
       "    .dataframe thead th {\n",
       "        text-align: right;\n",
       "    }\n",
       "</style>\n",
       "<table border=\"1\" class=\"dataframe\">\n",
       "  <thead>\n",
       "    <tr style=\"text-align: right;\">\n",
       "      <th></th>\n",
       "      <th>MES</th>\n",
       "      <th>MATRICULA</th>\n",
       "      <th>OFICINA</th>\n",
       "      <th>Ciudad</th>\n",
       "      <th>Clientes</th>\n",
       "      <th>Cartera</th>\n",
       "      <th>Cliente Act.</th>\n",
       "      <th>Cart Activos</th>\n",
       "      <th>Sdo Mora</th>\n",
       "      <th>% MORA</th>\n",
       "      <th>%Reso 0</th>\n",
       "      <th>&lt;=14</th>\n",
       "      <th>&lt;=42</th>\n",
       "      <th>&gt;42</th>\n",
       "      <th>Total</th>\n",
       "      <th>Des</th>\n",
       "      <th>Mora</th>\n",
       "      <th>Acel</th>\n",
       "      <th>Total.1</th>\n",
       "    </tr>\n",
       "  </thead>\n",
       "  <tbody>\n",
       "    <tr>\n",
       "      <th>0</th>\n",
       "      <td>202203</td>\n",
       "      <td>S50887</td>\n",
       "      <td>OF. MIC. CENTRO LA PAZ</td>\n",
       "      <td>LA PAZ</td>\n",
       "      <td>153</td>\n",
       "      <td>4.739036e+06</td>\n",
       "      <td>142</td>\n",
       "      <td>4.437243e+06</td>\n",
       "      <td>52604.490666</td>\n",
       "      <td>0.0111</td>\n",
       "      <td>0.956762</td>\n",
       "      <td>5.0</td>\n",
       "      <td>1.0</td>\n",
       "      <td>1.0</td>\n",
       "      <td>7.0</td>\n",
       "      <td>0.151579</td>\n",
       "      <td>0.131245</td>\n",
       "      <td>0.0</td>\n",
       "      <td>0.282825</td>\n",
       "    </tr>\n",
       "  </tbody>\n",
       "</table>\n",
       "</div>"
      ],
      "text/plain": [
       "      MES MATRICULA                 OFICINA  Ciudad  Clientes       Cartera  \\\n",
       "0  202203    S50887  OF. MIC. CENTRO LA PAZ  LA PAZ       153  4.739036e+06   \n",
       "\n",
       "   Cliente Act.  Cart Activos      Sdo Mora  % MORA   %Reso 0  <=14  <=42  \\\n",
       "0           142  4.437243e+06  52604.490666  0.0111  0.956762   5.0   1.0   \n",
       "\n",
       "   >42  Total       Des      Mora  Acel   Total.1  \n",
       "0  1.0    7.0  0.151579  0.131245   0.0  0.282825  "
      ]
     },
     "execution_count": 39,
     "metadata": {},
     "output_type": "execute_result"
    }
   ],
   "source": [
    "df_ind_func.head(1)"
   ]
  },
  {
   "cell_type": "code",
   "execution_count": 41,
   "id": "fb4adca2",
   "metadata": {
    "ExecuteTime": {
     "end_time": "2022-05-13T17:25:41.076239Z",
     "start_time": "2022-05-13T17:25:41.067253Z"
    }
   },
   "outputs": [],
   "source": [
    "RENDIMIENTO_FFNN = df_ind_func[df_ind_func.MES >= 202201].groupby([\"MATRICULA\"]).mean()\n",
    "RENDIMIENTO_FFNN.drop(\"MES\",axis = 1, inplace = True)\n",
    "RENDIMIENTO_FFNN.reset_index(inplace=True)"
   ]
  },
  {
   "cell_type": "code",
   "execution_count": 42,
   "id": "a9f293c2",
   "metadata": {
    "ExecuteTime": {
     "end_time": "2022-05-13T17:25:42.152340Z",
     "start_time": "2022-05-13T17:25:42.147353Z"
    }
   },
   "outputs": [
    {
     "data": {
      "text/plain": [
       "(75, 16)"
      ]
     },
     "execution_count": 42,
     "metadata": {},
     "output_type": "execute_result"
    }
   ],
   "source": [
    "RENDIMIENTO_FFNN.shape"
   ]
  },
  {
   "cell_type": "code",
   "execution_count": 43,
   "id": "7c66b275",
   "metadata": {
    "ExecuteTime": {
     "end_time": "2022-05-13T17:25:51.392239Z",
     "start_time": "2022-05-13T17:25:51.387251Z"
    }
   },
   "outputs": [],
   "source": [
    "RENDIMIENTO_FFNN = RENDIMIENTO_FFNN[['MATRICULA', 'Clientes', 'Cartera', 'Cliente Act.',\n",
    "       'Cart Activos', 'Sdo Mora', '% MORA', '%Reso 0', 'Total', 'Des', 'Mora', 'Acel', 'Total.1']]"
   ]
  },
  {
   "cell_type": "code",
   "execution_count": 44,
   "id": "43b9cf27",
   "metadata": {
    "ExecuteTime": {
     "end_time": "2022-05-13T17:26:10.442821Z",
     "start_time": "2022-05-13T17:26:10.420875Z"
    }
   },
   "outputs": [
    {
     "data": {
      "text/html": [
       "<div>\n",
       "<style scoped>\n",
       "    .dataframe tbody tr th:only-of-type {\n",
       "        vertical-align: middle;\n",
       "    }\n",
       "\n",
       "    .dataframe tbody tr th {\n",
       "        vertical-align: top;\n",
       "    }\n",
       "\n",
       "    .dataframe thead th {\n",
       "        text-align: right;\n",
       "    }\n",
       "</style>\n",
       "<table border=\"1\" class=\"dataframe\">\n",
       "  <thead>\n",
       "    <tr style=\"text-align: right;\">\n",
       "      <th></th>\n",
       "      <th>MATRICULA</th>\n",
       "      <th>Clientes</th>\n",
       "      <th>Cartera</th>\n",
       "      <th>Cliente Act.</th>\n",
       "      <th>Cart Activos</th>\n",
       "      <th>Sdo Mora</th>\n",
       "      <th>% MORA</th>\n",
       "      <th>%Reso 0</th>\n",
       "      <th>Total</th>\n",
       "      <th>Des</th>\n",
       "      <th>Mora</th>\n",
       "      <th>Acel</th>\n",
       "      <th>Total.1</th>\n",
       "      <th>Matricula</th>\n",
       "      <th>avg_cant_news</th>\n",
       "      <th>Avg_Nro_calls</th>\n",
       "      <th>Avg_Nro_Gest</th>\n",
       "      <th>Avg_Nro_visits</th>\n",
       "      <th>Cant_mes</th>\n",
       "      <th>ANT_MONTH</th>\n",
       "    </tr>\n",
       "  </thead>\n",
       "  <tbody>\n",
       "    <tr>\n",
       "      <th>0</th>\n",
       "      <td>T18952</td>\n",
       "      <td>43.5</td>\n",
       "      <td>1.499067e+06</td>\n",
       "      <td>40.5</td>\n",
       "      <td>1.441446e+06</td>\n",
       "      <td>60564.204918</td>\n",
       "      <td>0.020201</td>\n",
       "      <td>0.490217</td>\n",
       "      <td>1.5</td>\n",
       "      <td>0.000000</td>\n",
       "      <td>0.016043</td>\n",
       "      <td>0.0</td>\n",
       "      <td>0.016043</td>\n",
       "      <td>T18952</td>\n",
       "      <td>1</td>\n",
       "      <td>14.0</td>\n",
       "      <td>15.0</td>\n",
       "      <td>1.0</td>\n",
       "      <td>1</td>\n",
       "      <td>2</td>\n",
       "    </tr>\n",
       "    <tr>\n",
       "      <th>1</th>\n",
       "      <td>T18953</td>\n",
       "      <td>73.5</td>\n",
       "      <td>2.539081e+06</td>\n",
       "      <td>68.0</td>\n",
       "      <td>2.456131e+06</td>\n",
       "      <td>189403.505144</td>\n",
       "      <td>0.074304</td>\n",
       "      <td>0.969653</td>\n",
       "      <td>4.5</td>\n",
       "      <td>0.052815</td>\n",
       "      <td>0.051445</td>\n",
       "      <td>0.0</td>\n",
       "      <td>0.104260</td>\n",
       "      <td>T18953</td>\n",
       "      <td>1</td>\n",
       "      <td>NaN</td>\n",
       "      <td>NaN</td>\n",
       "      <td>NaN</td>\n",
       "      <td>1</td>\n",
       "      <td>2</td>\n",
       "    </tr>\n",
       "  </tbody>\n",
       "</table>\n",
       "</div>"
      ],
      "text/plain": [
       "  MATRICULA  Clientes       Cartera  Cliente Act.  Cart Activos  \\\n",
       "0    T18952      43.5  1.499067e+06          40.5  1.441446e+06   \n",
       "1    T18953      73.5  2.539081e+06          68.0  2.456131e+06   \n",
       "\n",
       "        Sdo Mora    % MORA   %Reso 0  Total       Des      Mora  Acel  \\\n",
       "0   60564.204918  0.020201  0.490217    1.5  0.000000  0.016043   0.0   \n",
       "1  189403.505144  0.074304  0.969653    4.5  0.052815  0.051445   0.0   \n",
       "\n",
       "    Total.1 Matricula  avg_cant_news  Avg_Nro_calls  Avg_Nro_Gest  \\\n",
       "0  0.016043    T18952              1           14.0          15.0   \n",
       "1  0.104260    T18953              1            NaN           NaN   \n",
       "\n",
       "   Avg_Nro_visits  Cant_mes  ANT_MONTH  \n",
       "0             1.0         1          2  \n",
       "1             NaN         1          2  "
      ]
     },
     "execution_count": 44,
     "metadata": {},
     "output_type": "execute_result"
    }
   ],
   "source": [
    "RENDIMIENTO_FFNN_2 = pd.merge(RENDIMIENTO_FFNN,gt,how = 'inner',left_on ='MATRICULA'  ,  right_on= 'Matricula'  )\n",
    "RENDIMIENTO_FFNN_2.head(2)"
   ]
  },
  {
   "cell_type": "code",
   "execution_count": 45,
   "id": "13d5d857",
   "metadata": {
    "ExecuteTime": {
     "end_time": "2022-05-13T17:26:16.467067Z",
     "start_time": "2022-05-13T17:26:16.461082Z"
    }
   },
   "outputs": [
    {
     "data": {
      "text/plain": [
       "Index(['MATRICULA', 'Clientes', 'Cartera', 'Cliente Act.', 'Cart Activos',\n",
       "       'Sdo Mora', '% MORA', '%Reso 0', 'Total', 'Des', 'Mora', 'Acel',\n",
       "       'Total.1', 'Matricula', 'avg_cant_news', 'Avg_Nro_calls',\n",
       "       'Avg_Nro_Gest', 'Avg_Nro_visits', 'Cant_mes', 'ANT_MONTH'],\n",
       "      dtype='object')"
      ]
     },
     "execution_count": 45,
     "metadata": {},
     "output_type": "execute_result"
    }
   ],
   "source": [
    "RENDIMIENTO_FFNN_2.columns"
   ]
  },
  {
   "cell_type": "code",
   "execution_count": 46,
   "id": "83171e78",
   "metadata": {
    "ExecuteTime": {
     "end_time": "2022-05-13T17:26:17.921716Z",
     "start_time": "2022-05-13T17:26:17.916729Z"
    }
   },
   "outputs": [
    {
     "data": {
      "text/plain": [
       "(3, 20)"
      ]
     },
     "execution_count": 46,
     "metadata": {},
     "output_type": "execute_result"
    }
   ],
   "source": [
    "RENDIMIENTO_FFNN_2.shape"
   ]
  },
  {
   "cell_type": "code",
   "execution_count": 47,
   "id": "d087ece1",
   "metadata": {
    "ExecuteTime": {
     "end_time": "2022-05-13T17:26:18.761050Z",
     "start_time": "2022-05-13T17:26:18.755068Z"
    }
   },
   "outputs": [],
   "source": [
    "#RENDIMIENTO_FFNN_2= RENDIMIENTO_FFNN_2[['MATRICULA', 'Clientes', 'Cartera', 'Cliente Act.', 'Cart Activos',\n",
    "#       'Sdo Mora', '% MORA', '%Reso 0', 'Total', 'Des', 'Mora', 'Acel',\n",
    "#       'Total.1',   'Avg_Nro_calls', 'Avg_Nro_Gest', 'Avg_Nro_visits', 'ANT_MONTH']]\n",
    "RENDIMIENTO_FFNN_2= RENDIMIENTO_FFNN_2[['MATRICULA',                                       \n",
    "          'Mora' ,    'Total',\n",
    "          'Avg_Nro_calls', 'Avg_Nro_visits', 'ANT_MONTH']]"
   ]
  },
  {
   "cell_type": "code",
   "execution_count": 62,
   "id": "c38e83ab",
   "metadata": {
    "ExecuteTime": {
     "end_time": "2022-05-13T17:30:39.656537Z",
     "start_time": "2022-05-13T17:30:39.651539Z"
    }
   },
   "outputs": [],
   "source": [
    "func_to_pred = RENDIMIENTO_FFNN_2[[                           \n",
    "          'Mora' , \n",
    "                                        'Total',\n",
    "          'Avg_Nro_calls', 'Avg_Nro_visits', 'ANT_MONTH']]\n",
    "func_to_pred =func_to_pred.fillna(0)\n"
   ]
  },
  {
   "cell_type": "code",
   "execution_count": 52,
   "id": "57077de6",
   "metadata": {
    "ExecuteTime": {
     "end_time": "2022-05-13T17:28:43.548553Z",
     "start_time": "2022-05-13T17:28:43.538568Z"
    }
   },
   "outputs": [
    {
     "data": {
      "text/html": [
       "<div>\n",
       "<style scoped>\n",
       "    .dataframe tbody tr th:only-of-type {\n",
       "        vertical-align: middle;\n",
       "    }\n",
       "\n",
       "    .dataframe tbody tr th {\n",
       "        vertical-align: top;\n",
       "    }\n",
       "\n",
       "    .dataframe thead th {\n",
       "        text-align: right;\n",
       "    }\n",
       "</style>\n",
       "<table border=\"1\" class=\"dataframe\">\n",
       "  <thead>\n",
       "    <tr style=\"text-align: right;\">\n",
       "      <th></th>\n",
       "      <th>Mora</th>\n",
       "      <th>Total</th>\n",
       "      <th>Avg_Nro_calls</th>\n",
       "      <th>Avg_Nro_visits</th>\n",
       "      <th>ANT_MONTH</th>\n",
       "    </tr>\n",
       "  </thead>\n",
       "  <tbody>\n",
       "    <tr>\n",
       "      <th>0</th>\n",
       "      <td>0.074</td>\n",
       "      <td>4.5</td>\n",
       "      <td>0</td>\n",
       "      <td>0</td>\n",
       "      <td>2</td>\n",
       "    </tr>\n",
       "  </tbody>\n",
       "</table>\n",
       "</div>"
      ],
      "text/plain": [
       "    Mora  Total  Avg_Nro_calls  Avg_Nro_visits  ANT_MONTH\n",
       "0  0.074    4.5              0               0          2"
      ]
     },
     "execution_count": 52,
     "metadata": {},
     "output_type": "execute_result"
    }
   ],
   "source": [
    "## ADD MEASURED INDICATORS FROM FUNCIONARIO\n",
    "#func_to_pred = pd.DataFrame({'Mora': [0.074], \n",
    "#              'Total': [4.5],\n",
    "#              'Avg_Nro_calls': [0], \n",
    "#              'Avg_Nro_visits': [0],\n",
    "#             'ANT_MONTH': [2]}\n",
    "#             )\n",
    "#func_to_pred"
   ]
  },
  {
   "cell_type": "code",
   "execution_count": 63,
   "id": "4cc1fdc9",
   "metadata": {
    "ExecuteTime": {
     "end_time": "2022-05-13T17:30:47.618793Z",
     "start_time": "2022-05-13T17:30:47.609818Z"
    }
   },
   "outputs": [
    {
     "data": {
      "text/plain": [
       "array([[-1.30256866, -2.72466705, -0.39375849, -0.3658932 , -1.73153832],\n",
       "       [-0.73678962, -1.15632211, -1.1644801 , -0.55693478, -1.73153832],\n",
       "       [-1.36481716, -1.41771294, -0.66901621, -0.17485162, -1.77086117]])"
      ]
     },
     "execution_count": 63,
     "metadata": {},
     "output_type": "execute_result"
    }
   ],
   "source": [
    "### LOAD SCALER\n",
    "import pickle\n",
    "scalerfile = 'scaler_clus_func_mcr.sav'\n",
    "scaler_2 = pickle.load(open(scalerfile, 'rb'))\n",
    "test_scaled_set = scaler_2.transform(func_to_pred)\n",
    "test_scaled_set"
   ]
  },
  {
   "cell_type": "code",
   "execution_count": null,
   "id": "de0ac06c",
   "metadata": {},
   "outputs": [],
   "source": []
  },
  {
   "cell_type": "code",
   "execution_count": 64,
   "id": "b97578bf",
   "metadata": {
    "ExecuteTime": {
     "end_time": "2022-05-13T17:30:50.517735Z",
     "start_time": "2022-05-13T17:30:50.513746Z"
    }
   },
   "outputs": [],
   "source": [
    "df_scaled_to_predict = pd.DataFrame(test_scaled_set, columns=['Mora', 'Total', 'Avg_Nro_calls', 'Avg_Nro_visits', 'ANT_MONTH'])"
   ]
  },
  {
   "cell_type": "code",
   "execution_count": 65,
   "id": "f2b458cf",
   "metadata": {
    "ExecuteTime": {
     "end_time": "2022-05-13T17:30:51.303599Z",
     "start_time": "2022-05-13T17:30:51.298606Z"
    }
   },
   "outputs": [],
   "source": [
    "# LOAD MODEL\n",
    "model_clus = 'model_clus_func.sav'\n",
    "loaded_model = pickle.load(open(model_clus, 'rb'))"
   ]
  },
  {
   "cell_type": "code",
   "execution_count": 66,
   "id": "d7998c47",
   "metadata": {
    "ExecuteTime": {
     "end_time": "2022-05-13T17:30:51.823816Z",
     "start_time": "2022-05-13T17:30:51.818823Z"
    }
   },
   "outputs": [
    {
     "data": {
      "text/plain": [
       "array([[-1.30256866, -2.72466705, -0.39375849, -0.3658932 , -1.73153832],\n",
       "       [-0.73678962, -1.15632211, -1.1644801 , -0.55693478, -1.73153832],\n",
       "       [-1.36481716, -1.41771294, -0.66901621, -0.17485162, -1.77086117]])"
      ]
     },
     "execution_count": 66,
     "metadata": {},
     "output_type": "execute_result"
    }
   ],
   "source": [
    "test_scaled_set"
   ]
  },
  {
   "cell_type": "code",
   "execution_count": 68,
   "id": "8547c1a2",
   "metadata": {
    "ExecuteTime": {
     "end_time": "2022-05-13T17:32:55.367837Z",
     "start_time": "2022-05-13T17:32:55.362873Z"
    }
   },
   "outputs": [],
   "source": [
    "# PREDICT\n",
    "pred_y =loaded_model.predict(test_scaled_set)"
   ]
  },
  {
   "cell_type": "code",
   "execution_count": 70,
   "id": "284986e3",
   "metadata": {
    "ExecuteTime": {
     "end_time": "2022-05-13T17:33:12.566153Z",
     "start_time": "2022-05-13T17:33:12.562152Z"
    }
   },
   "outputs": [],
   "source": [
    "RENDIMIENTO_FFNN_2[\"CLUS\"] = pred_y"
   ]
  },
  {
   "cell_type": "code",
   "execution_count": 71,
   "id": "ae2873b5",
   "metadata": {
    "ExecuteTime": {
     "end_time": "2022-05-13T17:33:17.900577Z",
     "start_time": "2022-05-13T17:33:17.889613Z"
    }
   },
   "outputs": [
    {
     "data": {
      "text/html": [
       "<div>\n",
       "<style scoped>\n",
       "    .dataframe tbody tr th:only-of-type {\n",
       "        vertical-align: middle;\n",
       "    }\n",
       "\n",
       "    .dataframe tbody tr th {\n",
       "        vertical-align: top;\n",
       "    }\n",
       "\n",
       "    .dataframe thead th {\n",
       "        text-align: right;\n",
       "    }\n",
       "</style>\n",
       "<table border=\"1\" class=\"dataframe\">\n",
       "  <thead>\n",
       "    <tr style=\"text-align: right;\">\n",
       "      <th></th>\n",
       "      <th>MATRICULA</th>\n",
       "      <th>Mora</th>\n",
       "      <th>Total</th>\n",
       "      <th>Avg_Nro_calls</th>\n",
       "      <th>Avg_Nro_visits</th>\n",
       "      <th>ANT_MONTH</th>\n",
       "      <th>CLUS</th>\n",
       "    </tr>\n",
       "  </thead>\n",
       "  <tbody>\n",
       "    <tr>\n",
       "      <th>0</th>\n",
       "      <td>T18952</td>\n",
       "      <td>0.016043</td>\n",
       "      <td>1.5</td>\n",
       "      <td>14.0</td>\n",
       "      <td>1.0</td>\n",
       "      <td>2</td>\n",
       "      <td>0</td>\n",
       "    </tr>\n",
       "    <tr>\n",
       "      <th>1</th>\n",
       "      <td>T18953</td>\n",
       "      <td>0.051445</td>\n",
       "      <td>4.5</td>\n",
       "      <td>NaN</td>\n",
       "      <td>NaN</td>\n",
       "      <td>2</td>\n",
       "      <td>0</td>\n",
       "    </tr>\n",
       "    <tr>\n",
       "      <th>2</th>\n",
       "      <td>T20043</td>\n",
       "      <td>0.012147</td>\n",
       "      <td>4.0</td>\n",
       "      <td>9.0</td>\n",
       "      <td>2.0</td>\n",
       "      <td>1</td>\n",
       "      <td>0</td>\n",
       "    </tr>\n",
       "  </tbody>\n",
       "</table>\n",
       "</div>"
      ],
      "text/plain": [
       "  MATRICULA      Mora  Total  Avg_Nro_calls  Avg_Nro_visits  ANT_MONTH  CLUS\n",
       "0    T18952  0.016043    1.5           14.0             1.0          2     0\n",
       "1    T18953  0.051445    4.5            NaN             NaN          2     0\n",
       "2    T20043  0.012147    4.0            9.0             2.0          1     0"
      ]
     },
     "execution_count": 71,
     "metadata": {},
     "output_type": "execute_result"
    }
   ],
   "source": [
    "RENDIMIENTO_FFNN_2"
   ]
  },
  {
   "cell_type": "code",
   "execution_count": 74,
   "id": "4b730bef",
   "metadata": {
    "ExecuteTime": {
     "end_time": "2022-05-13T17:34:31.791701Z",
     "start_time": "2022-05-13T17:34:31.769739Z"
    },
    "collapsed": true
   },
   "outputs": [
    {
     "data": {
      "text/html": [
       "<div>\n",
       "<style scoped>\n",
       "    .dataframe tbody tr th:only-of-type {\n",
       "        vertical-align: middle;\n",
       "    }\n",
       "\n",
       "    .dataframe tbody tr th {\n",
       "        vertical-align: top;\n",
       "    }\n",
       "\n",
       "    .dataframe thead th {\n",
       "        text-align: right;\n",
       "    }\n",
       "</style>\n",
       "<table border=\"1\" class=\"dataframe\">\n",
       "  <thead>\n",
       "    <tr style=\"text-align: right;\">\n",
       "      <th></th>\n",
       "      <th>MATRICULA</th>\n",
       "      <th>Mora</th>\n",
       "      <th>Total</th>\n",
       "      <th>Avg_Nro_calls</th>\n",
       "      <th>Avg_Nro_visits</th>\n",
       "      <th>ANT_MONTH</th>\n",
       "      <th>CLUS</th>\n",
       "    </tr>\n",
       "  </thead>\n",
       "  <tbody>\n",
       "    <tr>\n",
       "      <th>0</th>\n",
       "      <td>S23401</td>\n",
       "      <td>0.093104</td>\n",
       "      <td>6.000000</td>\n",
       "      <td>14</td>\n",
       "      <td>0</td>\n",
       "      <td>118</td>\n",
       "      <td>1</td>\n",
       "    </tr>\n",
       "    <tr>\n",
       "      <th>1</th>\n",
       "      <td>S24623</td>\n",
       "      <td>0.044981</td>\n",
       "      <td>7.000000</td>\n",
       "      <td>60</td>\n",
       "      <td>18</td>\n",
       "      <td>117</td>\n",
       "      <td>2</td>\n",
       "    </tr>\n",
       "    <tr>\n",
       "      <th>2</th>\n",
       "      <td>S32188</td>\n",
       "      <td>0.123840</td>\n",
       "      <td>8.333333</td>\n",
       "      <td>34</td>\n",
       "      <td>5</td>\n",
       "      <td>109</td>\n",
       "      <td>2</td>\n",
       "    </tr>\n",
       "    <tr>\n",
       "      <th>3</th>\n",
       "      <td>S40253</td>\n",
       "      <td>0.185812</td>\n",
       "      <td>7.000000</td>\n",
       "      <td>8</td>\n",
       "      <td>0</td>\n",
       "      <td>64</td>\n",
       "      <td>1</td>\n",
       "    </tr>\n",
       "    <tr>\n",
       "      <th>4</th>\n",
       "      <td>S49346</td>\n",
       "      <td>0.132458</td>\n",
       "      <td>7.333333</td>\n",
       "      <td>15</td>\n",
       "      <td>0</td>\n",
       "      <td>84</td>\n",
       "      <td>1</td>\n",
       "    </tr>\n",
       "    <tr>\n",
       "      <th>5</th>\n",
       "      <td>S50887</td>\n",
       "      <td>0.177681</td>\n",
       "      <td>7.666667</td>\n",
       "      <td>15</td>\n",
       "      <td>2</td>\n",
       "      <td>82</td>\n",
       "      <td>1</td>\n",
       "    </tr>\n",
       "    <tr>\n",
       "      <th>6</th>\n",
       "      <td>S52756</td>\n",
       "      <td>0.218688</td>\n",
       "      <td>8.000000</td>\n",
       "      <td>22</td>\n",
       "      <td>2</td>\n",
       "      <td>72</td>\n",
       "      <td>1</td>\n",
       "    </tr>\n",
       "    <tr>\n",
       "      <th>7</th>\n",
       "      <td>S59060</td>\n",
       "      <td>0.000000</td>\n",
       "      <td>0.333333</td>\n",
       "      <td>13</td>\n",
       "      <td>0</td>\n",
       "      <td>72</td>\n",
       "      <td>0</td>\n",
       "    </tr>\n",
       "    <tr>\n",
       "      <th>8</th>\n",
       "      <td>S59063</td>\n",
       "      <td>0.291710</td>\n",
       "      <td>7.666667</td>\n",
       "      <td>6</td>\n",
       "      <td>0</td>\n",
       "      <td>72</td>\n",
       "      <td>1</td>\n",
       "    </tr>\n",
       "    <tr>\n",
       "      <th>9</th>\n",
       "      <td>S60560</td>\n",
       "      <td>0.031052</td>\n",
       "      <td>7.666667</td>\n",
       "      <td>13</td>\n",
       "      <td>18</td>\n",
       "      <td>70</td>\n",
       "      <td>2</td>\n",
       "    </tr>\n",
       "    <tr>\n",
       "      <th>10</th>\n",
       "      <td>S63705</td>\n",
       "      <td>0.063834</td>\n",
       "      <td>0.666667</td>\n",
       "      <td>24</td>\n",
       "      <td>10</td>\n",
       "      <td>66</td>\n",
       "      <td>0</td>\n",
       "    </tr>\n",
       "    <tr>\n",
       "      <th>11</th>\n",
       "      <td>S65160</td>\n",
       "      <td>0.203248</td>\n",
       "      <td>8.666667</td>\n",
       "      <td>41</td>\n",
       "      <td>4</td>\n",
       "      <td>64</td>\n",
       "      <td>1</td>\n",
       "    </tr>\n",
       "    <tr>\n",
       "      <th>12</th>\n",
       "      <td>S66600</td>\n",
       "      <td>0.117406</td>\n",
       "      <td>8.333333</td>\n",
       "      <td>7</td>\n",
       "      <td>0</td>\n",
       "      <td>62</td>\n",
       "      <td>1</td>\n",
       "    </tr>\n",
       "    <tr>\n",
       "      <th>13</th>\n",
       "      <td>S67491</td>\n",
       "      <td>0.103601</td>\n",
       "      <td>7.000000</td>\n",
       "      <td>23</td>\n",
       "      <td>15</td>\n",
       "      <td>61</td>\n",
       "      <td>2</td>\n",
       "    </tr>\n",
       "    <tr>\n",
       "      <th>14</th>\n",
       "      <td>S68842</td>\n",
       "      <td>0.103018</td>\n",
       "      <td>8.666667</td>\n",
       "      <td>32</td>\n",
       "      <td>6</td>\n",
       "      <td>57</td>\n",
       "      <td>2</td>\n",
       "    </tr>\n",
       "    <tr>\n",
       "      <th>15</th>\n",
       "      <td>S68851</td>\n",
       "      <td>0.073416</td>\n",
       "      <td>6.000000</td>\n",
       "      <td>8</td>\n",
       "      <td>0</td>\n",
       "      <td>57</td>\n",
       "      <td>1</td>\n",
       "    </tr>\n",
       "    <tr>\n",
       "      <th>16</th>\n",
       "      <td>S70161</td>\n",
       "      <td>0.148349</td>\n",
       "      <td>9.333333</td>\n",
       "      <td>8</td>\n",
       "      <td>2</td>\n",
       "      <td>58</td>\n",
       "      <td>1</td>\n",
       "    </tr>\n",
       "    <tr>\n",
       "      <th>17</th>\n",
       "      <td>S74460</td>\n",
       "      <td>0.177782</td>\n",
       "      <td>9.333333</td>\n",
       "      <td>19</td>\n",
       "      <td>0</td>\n",
       "      <td>51</td>\n",
       "      <td>1</td>\n",
       "    </tr>\n",
       "    <tr>\n",
       "      <th>18</th>\n",
       "      <td>S75098</td>\n",
       "      <td>0.110079</td>\n",
       "      <td>9.333333</td>\n",
       "      <td>55</td>\n",
       "      <td>7</td>\n",
       "      <td>53</td>\n",
       "      <td>2</td>\n",
       "    </tr>\n",
       "    <tr>\n",
       "      <th>19</th>\n",
       "      <td>S75251</td>\n",
       "      <td>0.034330</td>\n",
       "      <td>8.333333</td>\n",
       "      <td>27</td>\n",
       "      <td>0</td>\n",
       "      <td>53</td>\n",
       "      <td>1</td>\n",
       "    </tr>\n",
       "    <tr>\n",
       "      <th>20</th>\n",
       "      <td>S75771</td>\n",
       "      <td>0.102491</td>\n",
       "      <td>6.000000</td>\n",
       "      <td>45</td>\n",
       "      <td>12</td>\n",
       "      <td>52</td>\n",
       "      <td>2</td>\n",
       "    </tr>\n",
       "    <tr>\n",
       "      <th>21</th>\n",
       "      <td>S76574</td>\n",
       "      <td>0.152424</td>\n",
       "      <td>7.000000</td>\n",
       "      <td>27</td>\n",
       "      <td>4</td>\n",
       "      <td>51</td>\n",
       "      <td>1</td>\n",
       "    </tr>\n",
       "    <tr>\n",
       "      <th>22</th>\n",
       "      <td>S76829</td>\n",
       "      <td>0.070699</td>\n",
       "      <td>6.666667</td>\n",
       "      <td>4</td>\n",
       "      <td>0</td>\n",
       "      <td>26</td>\n",
       "      <td>0</td>\n",
       "    </tr>\n",
       "    <tr>\n",
       "      <th>23</th>\n",
       "      <td>S78207</td>\n",
       "      <td>0.163963</td>\n",
       "      <td>7.000000</td>\n",
       "      <td>80</td>\n",
       "      <td>1</td>\n",
       "      <td>49</td>\n",
       "      <td>2</td>\n",
       "    </tr>\n",
       "    <tr>\n",
       "      <th>24</th>\n",
       "      <td>S79069</td>\n",
       "      <td>0.105082</td>\n",
       "      <td>5.333333</td>\n",
       "      <td>31</td>\n",
       "      <td>1</td>\n",
       "      <td>48</td>\n",
       "      <td>1</td>\n",
       "    </tr>\n",
       "    <tr>\n",
       "      <th>25</th>\n",
       "      <td>S79072</td>\n",
       "      <td>0.102454</td>\n",
       "      <td>8.333333</td>\n",
       "      <td>18</td>\n",
       "      <td>0</td>\n",
       "      <td>48</td>\n",
       "      <td>1</td>\n",
       "    </tr>\n",
       "    <tr>\n",
       "      <th>26</th>\n",
       "      <td>S79073</td>\n",
       "      <td>0.153831</td>\n",
       "      <td>6.666667</td>\n",
       "      <td>10</td>\n",
       "      <td>0</td>\n",
       "      <td>48</td>\n",
       "      <td>1</td>\n",
       "    </tr>\n",
       "    <tr>\n",
       "      <th>27</th>\n",
       "      <td>S79075</td>\n",
       "      <td>0.073731</td>\n",
       "      <td>7.000000</td>\n",
       "      <td>6</td>\n",
       "      <td>0</td>\n",
       "      <td>48</td>\n",
       "      <td>1</td>\n",
       "    </tr>\n",
       "    <tr>\n",
       "      <th>28</th>\n",
       "      <td>S79085</td>\n",
       "      <td>0.120118</td>\n",
       "      <td>8.000000</td>\n",
       "      <td>5</td>\n",
       "      <td>0</td>\n",
       "      <td>48</td>\n",
       "      <td>1</td>\n",
       "    </tr>\n",
       "    <tr>\n",
       "      <th>29</th>\n",
       "      <td>S81229</td>\n",
       "      <td>0.100406</td>\n",
       "      <td>8.666667</td>\n",
       "      <td>59</td>\n",
       "      <td>4</td>\n",
       "      <td>45</td>\n",
       "      <td>2</td>\n",
       "    </tr>\n",
       "    <tr>\n",
       "      <th>30</th>\n",
       "      <td>S82232</td>\n",
       "      <td>0.080197</td>\n",
       "      <td>9.333333</td>\n",
       "      <td>7</td>\n",
       "      <td>0</td>\n",
       "      <td>44</td>\n",
       "      <td>1</td>\n",
       "    </tr>\n",
       "    <tr>\n",
       "      <th>31</th>\n",
       "      <td>S82237</td>\n",
       "      <td>0.088729</td>\n",
       "      <td>4.000000</td>\n",
       "      <td>39</td>\n",
       "      <td>11</td>\n",
       "      <td>44</td>\n",
       "      <td>2</td>\n",
       "    </tr>\n",
       "    <tr>\n",
       "      <th>32</th>\n",
       "      <td>S82238</td>\n",
       "      <td>0.164390</td>\n",
       "      <td>7.000000</td>\n",
       "      <td>24</td>\n",
       "      <td>0</td>\n",
       "      <td>44</td>\n",
       "      <td>1</td>\n",
       "    </tr>\n",
       "    <tr>\n",
       "      <th>33</th>\n",
       "      <td>S82239</td>\n",
       "      <td>0.114481</td>\n",
       "      <td>7.333333</td>\n",
       "      <td>8</td>\n",
       "      <td>0</td>\n",
       "      <td>44</td>\n",
       "      <td>1</td>\n",
       "    </tr>\n",
       "    <tr>\n",
       "      <th>34</th>\n",
       "      <td>S82240</td>\n",
       "      <td>0.089868</td>\n",
       "      <td>8.000000</td>\n",
       "      <td>10</td>\n",
       "      <td>0</td>\n",
       "      <td>44</td>\n",
       "      <td>1</td>\n",
       "    </tr>\n",
       "    <tr>\n",
       "      <th>35</th>\n",
       "      <td>S84716</td>\n",
       "      <td>0.117850</td>\n",
       "      <td>6.333333</td>\n",
       "      <td>7</td>\n",
       "      <td>0</td>\n",
       "      <td>41</td>\n",
       "      <td>1</td>\n",
       "    </tr>\n",
       "    <tr>\n",
       "      <th>36</th>\n",
       "      <td>S84717</td>\n",
       "      <td>0.109209</td>\n",
       "      <td>6.000000</td>\n",
       "      <td>7</td>\n",
       "      <td>0</td>\n",
       "      <td>41</td>\n",
       "      <td>1</td>\n",
       "    </tr>\n",
       "    <tr>\n",
       "      <th>37</th>\n",
       "      <td>S87071</td>\n",
       "      <td>0.027219</td>\n",
       "      <td>6.666667</td>\n",
       "      <td>20</td>\n",
       "      <td>5</td>\n",
       "      <td>38</td>\n",
       "      <td>0</td>\n",
       "    </tr>\n",
       "    <tr>\n",
       "      <th>38</th>\n",
       "      <td>S87082</td>\n",
       "      <td>0.142849</td>\n",
       "      <td>6.000000</td>\n",
       "      <td>32</td>\n",
       "      <td>1</td>\n",
       "      <td>38</td>\n",
       "      <td>1</td>\n",
       "    </tr>\n",
       "    <tr>\n",
       "      <th>39</th>\n",
       "      <td>S88529</td>\n",
       "      <td>0.094740</td>\n",
       "      <td>7.333333</td>\n",
       "      <td>15</td>\n",
       "      <td>0</td>\n",
       "      <td>36</td>\n",
       "      <td>1</td>\n",
       "    </tr>\n",
       "    <tr>\n",
       "      <th>40</th>\n",
       "      <td>S89580</td>\n",
       "      <td>0.070412</td>\n",
       "      <td>6.666667</td>\n",
       "      <td>6</td>\n",
       "      <td>0</td>\n",
       "      <td>35</td>\n",
       "      <td>0</td>\n",
       "    </tr>\n",
       "    <tr>\n",
       "      <th>41</th>\n",
       "      <td>S89581</td>\n",
       "      <td>0.085959</td>\n",
       "      <td>6.666667</td>\n",
       "      <td>16</td>\n",
       "      <td>0</td>\n",
       "      <td>35</td>\n",
       "      <td>1</td>\n",
       "    </tr>\n",
       "    <tr>\n",
       "      <th>42</th>\n",
       "      <td>S90510</td>\n",
       "      <td>0.031469</td>\n",
       "      <td>5.000000</td>\n",
       "      <td>13</td>\n",
       "      <td>4</td>\n",
       "      <td>34</td>\n",
       "      <td>0</td>\n",
       "    </tr>\n",
       "    <tr>\n",
       "      <th>43</th>\n",
       "      <td>S90512</td>\n",
       "      <td>0.008186</td>\n",
       "      <td>6.666667</td>\n",
       "      <td>18</td>\n",
       "      <td>0</td>\n",
       "      <td>34</td>\n",
       "      <td>0</td>\n",
       "    </tr>\n",
       "    <tr>\n",
       "      <th>44</th>\n",
       "      <td>S90515</td>\n",
       "      <td>0.205433</td>\n",
       "      <td>7.666667</td>\n",
       "      <td>3</td>\n",
       "      <td>0</td>\n",
       "      <td>34</td>\n",
       "      <td>1</td>\n",
       "    </tr>\n",
       "    <tr>\n",
       "      <th>45</th>\n",
       "      <td>S90518</td>\n",
       "      <td>0.087698</td>\n",
       "      <td>7.000000</td>\n",
       "      <td>53</td>\n",
       "      <td>25</td>\n",
       "      <td>34</td>\n",
       "      <td>2</td>\n",
       "    </tr>\n",
       "    <tr>\n",
       "      <th>46</th>\n",
       "      <td>S90522</td>\n",
       "      <td>0.219596</td>\n",
       "      <td>10.000000</td>\n",
       "      <td>40</td>\n",
       "      <td>1</td>\n",
       "      <td>34</td>\n",
       "      <td>1</td>\n",
       "    </tr>\n",
       "    <tr>\n",
       "      <th>47</th>\n",
       "      <td>S94246</td>\n",
       "      <td>0.000000</td>\n",
       "      <td>7.333333</td>\n",
       "      <td>77</td>\n",
       "      <td>3</td>\n",
       "      <td>30</td>\n",
       "      <td>2</td>\n",
       "    </tr>\n",
       "    <tr>\n",
       "      <th>48</th>\n",
       "      <td>S94247</td>\n",
       "      <td>0.030589</td>\n",
       "      <td>5.666667</td>\n",
       "      <td>7</td>\n",
       "      <td>1</td>\n",
       "      <td>30</td>\n",
       "      <td>0</td>\n",
       "    </tr>\n",
       "    <tr>\n",
       "      <th>49</th>\n",
       "      <td>S94258</td>\n",
       "      <td>0.035386</td>\n",
       "      <td>6.333333</td>\n",
       "      <td>31</td>\n",
       "      <td>1</td>\n",
       "      <td>30</td>\n",
       "      <td>0</td>\n",
       "    </tr>\n",
       "    <tr>\n",
       "      <th>50</th>\n",
       "      <td>S95211</td>\n",
       "      <td>0.087004</td>\n",
       "      <td>5.333333</td>\n",
       "      <td>6</td>\n",
       "      <td>0</td>\n",
       "      <td>29</td>\n",
       "      <td>0</td>\n",
       "    </tr>\n",
       "    <tr>\n",
       "      <th>51</th>\n",
       "      <td>T05289</td>\n",
       "      <td>0.095702</td>\n",
       "      <td>7.666667</td>\n",
       "      <td>16</td>\n",
       "      <td>2</td>\n",
       "      <td>16</td>\n",
       "      <td>1</td>\n",
       "    </tr>\n",
       "    <tr>\n",
       "      <th>52</th>\n",
       "      <td>T14802</td>\n",
       "      <td>0.035305</td>\n",
       "      <td>6.333333</td>\n",
       "      <td>4</td>\n",
       "      <td>0</td>\n",
       "      <td>5</td>\n",
       "      <td>0</td>\n",
       "    </tr>\n",
       "    <tr>\n",
       "      <th>53</th>\n",
       "      <td>T16078</td>\n",
       "      <td>0.053171</td>\n",
       "      <td>7.333333</td>\n",
       "      <td>7</td>\n",
       "      <td>0</td>\n",
       "      <td>4</td>\n",
       "      <td>0</td>\n",
       "    </tr>\n",
       "    <tr>\n",
       "      <th>54</th>\n",
       "      <td>T16417</td>\n",
       "      <td>0.026634</td>\n",
       "      <td>5.333333</td>\n",
       "      <td>5</td>\n",
       "      <td>0</td>\n",
       "      <td>4</td>\n",
       "      <td>0</td>\n",
       "    </tr>\n",
       "    <tr>\n",
       "      <th>55</th>\n",
       "      <td>T16418</td>\n",
       "      <td>0.006778</td>\n",
       "      <td>4.000000</td>\n",
       "      <td>13</td>\n",
       "      <td>4</td>\n",
       "      <td>4</td>\n",
       "      <td>0</td>\n",
       "    </tr>\n",
       "    <tr>\n",
       "      <th>56</th>\n",
       "      <td>T17407</td>\n",
       "      <td>0.025351</td>\n",
       "      <td>3.666667</td>\n",
       "      <td>3</td>\n",
       "      <td>0</td>\n",
       "      <td>3</td>\n",
       "      <td>0</td>\n",
       "    </tr>\n",
       "    <tr>\n",
       "      <th>57</th>\n",
       "      <td>T20035</td>\n",
       "      <td>0.014260</td>\n",
       "      <td>4.000000</td>\n",
       "      <td>10</td>\n",
       "      <td>0</td>\n",
       "      <td>1</td>\n",
       "      <td>0</td>\n",
       "    </tr>\n",
       "    <tr>\n",
       "      <th>58</th>\n",
       "      <td>T20040</td>\n",
       "      <td>0.027332</td>\n",
       "      <td>2.000000</td>\n",
       "      <td>22</td>\n",
       "      <td>3</td>\n",
       "      <td>1</td>\n",
       "      <td>0</td>\n",
       "    </tr>\n",
       "  </tbody>\n",
       "</table>\n",
       "</div>"
      ],
      "text/plain": [
       "   MATRICULA      Mora      Total  Avg_Nro_calls  Avg_Nro_visits  ANT_MONTH  \\\n",
       "0     S23401  0.093104   6.000000             14               0        118   \n",
       "1     S24623  0.044981   7.000000             60              18        117   \n",
       "2     S32188  0.123840   8.333333             34               5        109   \n",
       "3     S40253  0.185812   7.000000              8               0         64   \n",
       "4     S49346  0.132458   7.333333             15               0         84   \n",
       "5     S50887  0.177681   7.666667             15               2         82   \n",
       "6     S52756  0.218688   8.000000             22               2         72   \n",
       "7     S59060  0.000000   0.333333             13               0         72   \n",
       "8     S59063  0.291710   7.666667              6               0         72   \n",
       "9     S60560  0.031052   7.666667             13              18         70   \n",
       "10    S63705  0.063834   0.666667             24              10         66   \n",
       "11    S65160  0.203248   8.666667             41               4         64   \n",
       "12    S66600  0.117406   8.333333              7               0         62   \n",
       "13    S67491  0.103601   7.000000             23              15         61   \n",
       "14    S68842  0.103018   8.666667             32               6         57   \n",
       "15    S68851  0.073416   6.000000              8               0         57   \n",
       "16    S70161  0.148349   9.333333              8               2         58   \n",
       "17    S74460  0.177782   9.333333             19               0         51   \n",
       "18    S75098  0.110079   9.333333             55               7         53   \n",
       "19    S75251  0.034330   8.333333             27               0         53   \n",
       "20    S75771  0.102491   6.000000             45              12         52   \n",
       "21    S76574  0.152424   7.000000             27               4         51   \n",
       "22    S76829  0.070699   6.666667              4               0         26   \n",
       "23    S78207  0.163963   7.000000             80               1         49   \n",
       "24    S79069  0.105082   5.333333             31               1         48   \n",
       "25    S79072  0.102454   8.333333             18               0         48   \n",
       "26    S79073  0.153831   6.666667             10               0         48   \n",
       "27    S79075  0.073731   7.000000              6               0         48   \n",
       "28    S79085  0.120118   8.000000              5               0         48   \n",
       "29    S81229  0.100406   8.666667             59               4         45   \n",
       "30    S82232  0.080197   9.333333              7               0         44   \n",
       "31    S82237  0.088729   4.000000             39              11         44   \n",
       "32    S82238  0.164390   7.000000             24               0         44   \n",
       "33    S82239  0.114481   7.333333              8               0         44   \n",
       "34    S82240  0.089868   8.000000             10               0         44   \n",
       "35    S84716  0.117850   6.333333              7               0         41   \n",
       "36    S84717  0.109209   6.000000              7               0         41   \n",
       "37    S87071  0.027219   6.666667             20               5         38   \n",
       "38    S87082  0.142849   6.000000             32               1         38   \n",
       "39    S88529  0.094740   7.333333             15               0         36   \n",
       "40    S89580  0.070412   6.666667              6               0         35   \n",
       "41    S89581  0.085959   6.666667             16               0         35   \n",
       "42    S90510  0.031469   5.000000             13               4         34   \n",
       "43    S90512  0.008186   6.666667             18               0         34   \n",
       "44    S90515  0.205433   7.666667              3               0         34   \n",
       "45    S90518  0.087698   7.000000             53              25         34   \n",
       "46    S90522  0.219596  10.000000             40               1         34   \n",
       "47    S94246  0.000000   7.333333             77               3         30   \n",
       "48    S94247  0.030589   5.666667              7               1         30   \n",
       "49    S94258  0.035386   6.333333             31               1         30   \n",
       "50    S95211  0.087004   5.333333              6               0         29   \n",
       "51    T05289  0.095702   7.666667             16               2         16   \n",
       "52    T14802  0.035305   6.333333              4               0          5   \n",
       "53    T16078  0.053171   7.333333              7               0          4   \n",
       "54    T16417  0.026634   5.333333              5               0          4   \n",
       "55    T16418  0.006778   4.000000             13               4          4   \n",
       "56    T17407  0.025351   3.666667              3               0          3   \n",
       "57    T20035  0.014260   4.000000             10               0          1   \n",
       "58    T20040  0.027332   2.000000             22               3          1   \n",
       "\n",
       "    CLUS  \n",
       "0      1  \n",
       "1      2  \n",
       "2      2  \n",
       "3      1  \n",
       "4      1  \n",
       "5      1  \n",
       "6      1  \n",
       "7      0  \n",
       "8      1  \n",
       "9      2  \n",
       "10     0  \n",
       "11     1  \n",
       "12     1  \n",
       "13     2  \n",
       "14     2  \n",
       "15     1  \n",
       "16     1  \n",
       "17     1  \n",
       "18     2  \n",
       "19     1  \n",
       "20     2  \n",
       "21     1  \n",
       "22     0  \n",
       "23     2  \n",
       "24     1  \n",
       "25     1  \n",
       "26     1  \n",
       "27     1  \n",
       "28     1  \n",
       "29     2  \n",
       "30     1  \n",
       "31     2  \n",
       "32     1  \n",
       "33     1  \n",
       "34     1  \n",
       "35     1  \n",
       "36     1  \n",
       "37     0  \n",
       "38     1  \n",
       "39     1  \n",
       "40     0  \n",
       "41     1  \n",
       "42     0  \n",
       "43     0  \n",
       "44     1  \n",
       "45     2  \n",
       "46     1  \n",
       "47     2  \n",
       "48     0  \n",
       "49     0  \n",
       "50     0  \n",
       "51     1  \n",
       "52     0  \n",
       "53     0  \n",
       "54     0  \n",
       "55     0  \n",
       "56     0  \n",
       "57     0  \n",
       "58     0  "
      ]
     },
     "execution_count": 74,
     "metadata": {},
     "output_type": "execute_result"
    }
   ],
   "source": [
    "clus = pd.read_csv(\"CLUS_FUNC.csv\")\n",
    "clus "
   ]
  },
  {
   "cell_type": "code",
   "execution_count": 76,
   "id": "f9bba4ab",
   "metadata": {
    "ExecuteTime": {
     "end_time": "2022-05-13T17:35:02.622586Z",
     "start_time": "2022-05-13T17:35:02.617607Z"
    }
   },
   "outputs": [
    {
     "data": {
      "text/plain": [
       "Index(['MATRICULA', 'Mora', 'Total', 'Avg_Nro_calls', 'Avg_Nro_visits',\n",
       "       'ANT_MONTH', 'CLUS'],\n",
       "      dtype='object')"
      ]
     },
     "execution_count": 76,
     "metadata": {},
     "output_type": "execute_result"
    }
   ],
   "source": [
    "RENDIMIENTO_FFNN_2.columns\n"
   ]
  },
  {
   "cell_type": "code",
   "execution_count": 77,
   "id": "252d58aa",
   "metadata": {
    "ExecuteTime": {
     "end_time": "2022-05-13T17:35:04.574552Z",
     "start_time": "2022-05-13T17:35:04.569545Z"
    }
   },
   "outputs": [
    {
     "data": {
      "text/plain": [
       "Index(['MATRICULA', 'Mora', 'Total', 'Avg_Nro_calls', 'Avg_Nro_visits',\n",
       "       'ANT_MONTH', 'CLUS'],\n",
       "      dtype='object')"
      ]
     },
     "execution_count": 77,
     "metadata": {},
     "output_type": "execute_result"
    }
   ],
   "source": [
    "clus.columns"
   ]
  },
  {
   "cell_type": "code",
   "execution_count": 82,
   "id": "1be82ef9",
   "metadata": {
    "ExecuteTime": {
     "end_time": "2022-05-13T17:37:05.618473Z",
     "start_time": "2022-05-13T17:37:05.600557Z"
    }
   },
   "outputs": [
    {
     "data": {
      "text/html": [
       "<div>\n",
       "<style scoped>\n",
       "    .dataframe tbody tr th:only-of-type {\n",
       "        vertical-align: middle;\n",
       "    }\n",
       "\n",
       "    .dataframe tbody tr th {\n",
       "        vertical-align: top;\n",
       "    }\n",
       "\n",
       "    .dataframe thead th {\n",
       "        text-align: right;\n",
       "    }\n",
       "</style>\n",
       "<table border=\"1\" class=\"dataframe\">\n",
       "  <thead>\n",
       "    <tr style=\"text-align: right;\">\n",
       "      <th></th>\n",
       "      <th>MATRICULA</th>\n",
       "      <th>Mora</th>\n",
       "      <th>Total</th>\n",
       "      <th>Avg_Nro_calls</th>\n",
       "      <th>Avg_Nro_visits</th>\n",
       "      <th>ANT_MONTH</th>\n",
       "      <th>CLUS</th>\n",
       "    </tr>\n",
       "  </thead>\n",
       "  <tbody>\n",
       "    <tr>\n",
       "      <th>0</th>\n",
       "      <td>T18952</td>\n",
       "      <td>0.016043</td>\n",
       "      <td>1.500000</td>\n",
       "      <td>14.0</td>\n",
       "      <td>1.0</td>\n",
       "      <td>2</td>\n",
       "      <td>0</td>\n",
       "    </tr>\n",
       "    <tr>\n",
       "      <th>1</th>\n",
       "      <td>T18953</td>\n",
       "      <td>0.051445</td>\n",
       "      <td>4.500000</td>\n",
       "      <td>NaN</td>\n",
       "      <td>NaN</td>\n",
       "      <td>2</td>\n",
       "      <td>0</td>\n",
       "    </tr>\n",
       "    <tr>\n",
       "      <th>2</th>\n",
       "      <td>T20043</td>\n",
       "      <td>0.012147</td>\n",
       "      <td>4.000000</td>\n",
       "      <td>9.0</td>\n",
       "      <td>2.0</td>\n",
       "      <td>1</td>\n",
       "      <td>0</td>\n",
       "    </tr>\n",
       "    <tr>\n",
       "      <th>0</th>\n",
       "      <td>S23401</td>\n",
       "      <td>0.093104</td>\n",
       "      <td>6.000000</td>\n",
       "      <td>14.0</td>\n",
       "      <td>0.0</td>\n",
       "      <td>118</td>\n",
       "      <td>1</td>\n",
       "    </tr>\n",
       "    <tr>\n",
       "      <th>1</th>\n",
       "      <td>S24623</td>\n",
       "      <td>0.044981</td>\n",
       "      <td>7.000000</td>\n",
       "      <td>60.0</td>\n",
       "      <td>18.0</td>\n",
       "      <td>117</td>\n",
       "      <td>2</td>\n",
       "    </tr>\n",
       "    <tr>\n",
       "      <th>...</th>\n",
       "      <td>...</td>\n",
       "      <td>...</td>\n",
       "      <td>...</td>\n",
       "      <td>...</td>\n",
       "      <td>...</td>\n",
       "      <td>...</td>\n",
       "      <td>...</td>\n",
       "    </tr>\n",
       "    <tr>\n",
       "      <th>54</th>\n",
       "      <td>T16417</td>\n",
       "      <td>0.026634</td>\n",
       "      <td>5.333333</td>\n",
       "      <td>5.0</td>\n",
       "      <td>0.0</td>\n",
       "      <td>4</td>\n",
       "      <td>0</td>\n",
       "    </tr>\n",
       "    <tr>\n",
       "      <th>55</th>\n",
       "      <td>T16418</td>\n",
       "      <td>0.006778</td>\n",
       "      <td>4.000000</td>\n",
       "      <td>13.0</td>\n",
       "      <td>4.0</td>\n",
       "      <td>4</td>\n",
       "      <td>0</td>\n",
       "    </tr>\n",
       "    <tr>\n",
       "      <th>56</th>\n",
       "      <td>T17407</td>\n",
       "      <td>0.025351</td>\n",
       "      <td>3.666667</td>\n",
       "      <td>3.0</td>\n",
       "      <td>0.0</td>\n",
       "      <td>3</td>\n",
       "      <td>0</td>\n",
       "    </tr>\n",
       "    <tr>\n",
       "      <th>57</th>\n",
       "      <td>T20035</td>\n",
       "      <td>0.014260</td>\n",
       "      <td>4.000000</td>\n",
       "      <td>10.0</td>\n",
       "      <td>0.0</td>\n",
       "      <td>1</td>\n",
       "      <td>0</td>\n",
       "    </tr>\n",
       "    <tr>\n",
       "      <th>58</th>\n",
       "      <td>T20040</td>\n",
       "      <td>0.027332</td>\n",
       "      <td>2.000000</td>\n",
       "      <td>22.0</td>\n",
       "      <td>3.0</td>\n",
       "      <td>1</td>\n",
       "      <td>0</td>\n",
       "    </tr>\n",
       "  </tbody>\n",
       "</table>\n",
       "<p>62 rows × 7 columns</p>\n",
       "</div>"
      ],
      "text/plain": [
       "   MATRICULA      Mora     Total  Avg_Nro_calls  Avg_Nro_visits  ANT_MONTH  \\\n",
       "0     T18952  0.016043  1.500000           14.0             1.0          2   \n",
       "1     T18953  0.051445  4.500000            NaN             NaN          2   \n",
       "2     T20043  0.012147  4.000000            9.0             2.0          1   \n",
       "0     S23401  0.093104  6.000000           14.0             0.0        118   \n",
       "1     S24623  0.044981  7.000000           60.0            18.0        117   \n",
       "..       ...       ...       ...            ...             ...        ...   \n",
       "54    T16417  0.026634  5.333333            5.0             0.0          4   \n",
       "55    T16418  0.006778  4.000000           13.0             4.0          4   \n",
       "56    T17407  0.025351  3.666667            3.0             0.0          3   \n",
       "57    T20035  0.014260  4.000000           10.0             0.0          1   \n",
       "58    T20040  0.027332  2.000000           22.0             3.0          1   \n",
       "\n",
       "    CLUS  \n",
       "0      0  \n",
       "1      0  \n",
       "2      0  \n",
       "0      1  \n",
       "1      2  \n",
       "..   ...  \n",
       "54     0  \n",
       "55     0  \n",
       "56     0  \n",
       "57     0  \n",
       "58     0  \n",
       "\n",
       "[62 rows x 7 columns]"
      ]
     },
     "execution_count": 82,
     "metadata": {},
     "output_type": "execute_result"
    }
   ],
   "source": [
    "CLUS_FINAL_62FUNC = pd.concat([RENDIMIENTO_FFNN_2,clus])\n",
    "CLUS_FINAL_62FUNC"
   ]
  },
  {
   "cell_type": "code",
   "execution_count": 83,
   "id": "9b4ab478",
   "metadata": {
    "ExecuteTime": {
     "end_time": "2022-05-13T17:37:19.240969Z",
     "start_time": "2022-05-13T17:37:19.209054Z"
    }
   },
   "outputs": [],
   "source": [
    "CLUS_FINAL_62FUNC.to_csv(\"CLUS_FINAL_62FUNC.csv\")"
   ]
  },
  {
   "cell_type": "markdown",
   "id": "01df8e5e",
   "metadata": {},
   "source": [
    "### INTERPRETACIÓN DE CLUSTERIZACION"
   ]
  },
  {
   "cell_type": "code",
   "execution_count": null,
   "id": "4c08b8d6",
   "metadata": {
    "ExecuteTime": {
     "end_time": "2022-05-13T15:49:26.893750Z",
     "start_time": "2022-05-13T15:49:26.893750Z"
    }
   },
   "outputs": [],
   "source": [
    "cluster_0 = RENDIMIENTO_FFNN_4[RENDIMIENTO_FFNN_4['CLUS'] == 0]\n",
    "cluster_1 = RENDIMIENTO_FFNN_4[RENDIMIENTO_FFNN_4['CLUS'] == 1]\n",
    "cluster_2 = RENDIMIENTO_FFNN_4[RENDIMIENTO_FFNN_4['CLUS'] == 2]\n",
    "#cluster_3 = RENDIMIENTO_FFNN_4[RENDIMIENTO_FFNN_4['CLUS'] == 3]"
   ]
  },
  {
   "cell_type": "code",
   "execution_count": null,
   "id": "b586b249",
   "metadata": {
    "ExecuteTime": {
     "end_time": "2022-05-13T15:49:26.895745Z",
     "start_time": "2022-05-13T15:49:26.895745Z"
    }
   },
   "outputs": [],
   "source": [
    "plt.subplots(figsize = (15,5))\n",
    "sns.countplot(x=RENDIMIENTO_FFNN_4['Total'],order=RENDIMIENTO_FFNN_4['Total'].value_counts().index,hue=RENDIMIENTO_FFNN_4['CLUS'])\n",
    "plt.show()"
   ]
  },
  {
   "cell_type": "code",
   "execution_count": null,
   "id": "7ce70330",
   "metadata": {
    "ExecuteTime": {
     "end_time": "2022-05-13T15:49:26.897739Z",
     "start_time": "2022-05-13T15:49:26.896743Z"
    }
   },
   "outputs": [],
   "source": [
    "RENDIMIENTO_FFNN_4.columns"
   ]
  },
  {
   "cell_type": "code",
   "execution_count": null,
   "id": "d87fd6ab",
   "metadata": {
    "ExecuteTime": {
     "end_time": "2022-05-13T15:49:26.899747Z",
     "start_time": "2022-05-13T15:49:26.898737Z"
    }
   },
   "outputs": [],
   "source": [
    "plt.subplots(figsize = (15,5))\n",
    "sns.countplot(x=RENDIMIENTO_FFNN_4['Total'],order=RENDIMIENTO_FFNN_4['Total'].value_counts().index,hue=RENDIMIENTO_FFNN_4['CLUS'])\n",
    "plt.show()"
   ]
  },
  {
   "cell_type": "code",
   "execution_count": null,
   "id": "9dc020a9",
   "metadata": {
    "ExecuteTime": {
     "end_time": "2022-05-13T15:49:26.900731Z",
     "start_time": "2022-05-13T15:49:26.900731Z"
    }
   },
   "outputs": [],
   "source": [
    "cluster_1['Total'].value_counts(normalize=True)*100"
   ]
  },
  {
   "cell_type": "code",
   "execution_count": null,
   "id": "dc2cb905",
   "metadata": {
    "ExecuteTime": {
     "end_time": "2022-05-13T15:49:26.902726Z",
     "start_time": "2022-05-13T15:49:26.902726Z"
    }
   },
   "outputs": [],
   "source": [
    "plt.subplots(figsize = (15,5))\n",
    "sns.countplot(x=RENDIMIENTO_FFNN_4['CLUS'],hue=RENDIMIENTO_FFNN_4['Total'])\n",
    "plt.show()"
   ]
  },
  {
   "cell_type": "code",
   "execution_count": null,
   "id": "be9d8583",
   "metadata": {
    "ExecuteTime": {
     "end_time": "2022-05-13T15:49:26.903723Z",
     "start_time": "2022-05-13T15:49:26.903723Z"
    }
   },
   "outputs": [],
   "source": [
    "df1.columns"
   ]
  },
  {
   "cell_type": "markdown",
   "id": "9f804f2f",
   "metadata": {},
   "source": [
    "#### nuevos desembolsos"
   ]
  },
  {
   "cell_type": "code",
   "execution_count": null,
   "id": "bf87b593",
   "metadata": {
    "ExecuteTime": {
     "end_time": "2022-05-13T15:49:26.905718Z",
     "start_time": "2022-05-13T15:49:26.905718Z"
    }
   },
   "outputs": [],
   "source": [
    "plt.subplots(figsize = (15,5))\n",
    "sns.countplot(x=cluster_0['Total'])\n",
    "plt.show()"
   ]
  },
  {
   "cell_type": "code",
   "execution_count": null,
   "id": "b613079c",
   "metadata": {
    "ExecuteTime": {
     "end_time": "2022-05-13T15:49:26.906715Z",
     "start_time": "2022-05-13T15:49:26.906715Z"
    }
   },
   "outputs": [],
   "source": [
    "plt.subplots(figsize = (15,5))\n",
    "sns.countplot(x=cluster_1['Total'])\n",
    "plt.show()"
   ]
  },
  {
   "cell_type": "code",
   "execution_count": null,
   "id": "9e1c6e2f",
   "metadata": {
    "ExecuteTime": {
     "end_time": "2022-05-13T15:49:26.908710Z",
     "start_time": "2022-05-13T15:49:26.908710Z"
    }
   },
   "outputs": [],
   "source": [
    "plt.subplots(figsize = (15,5))\n",
    "sns.countplot(x=cluster_2['Total'])\n",
    "plt.show()"
   ]
  },
  {
   "cell_type": "markdown",
   "id": "ef7c1b03",
   "metadata": {},
   "source": [
    "#### llamadas"
   ]
  },
  {
   "cell_type": "code",
   "execution_count": null,
   "id": "d6e82e4e",
   "metadata": {
    "ExecuteTime": {
     "end_time": "2022-05-13T15:49:26.909707Z",
     "start_time": "2022-05-13T15:49:26.909707Z"
    }
   },
   "outputs": [],
   "source": [
    "cluster_0.columns"
   ]
  },
  {
   "cell_type": "code",
   "execution_count": null,
   "id": "e9099de4",
   "metadata": {
    "ExecuteTime": {
     "end_time": "2022-05-13T15:49:26.910704Z",
     "start_time": "2022-05-13T15:49:26.910704Z"
    }
   },
   "outputs": [],
   "source": [
    "plt.subplots(figsize = (15,5))\n",
    "sns.countplot(x=cluster_0['Avg_Nro_calls'])\n",
    "plt.show()"
   ]
  },
  {
   "cell_type": "code",
   "execution_count": null,
   "id": "21ba0103",
   "metadata": {
    "ExecuteTime": {
     "end_time": "2022-05-13T15:49:26.912699Z",
     "start_time": "2022-05-13T15:49:26.911701Z"
    }
   },
   "outputs": [],
   "source": [
    "plt.subplots(figsize = (15,5))\n",
    "sns.countplot(x=cluster_1['Avg_Nro_calls'])\n",
    "plt.show()"
   ]
  },
  {
   "cell_type": "code",
   "execution_count": null,
   "id": "df0d80a8",
   "metadata": {
    "ExecuteTime": {
     "end_time": "2022-05-13T15:49:26.913697Z",
     "start_time": "2022-05-13T15:49:26.913697Z"
    }
   },
   "outputs": [],
   "source": [
    "plt.subplots(figsize = (15,5))\n",
    "sns.countplot(x=cluster_2['Avg_Nro_calls'])\n",
    "plt.show()"
   ]
  },
  {
   "cell_type": "markdown",
   "id": "aada3e93",
   "metadata": {},
   "source": [
    "#### Visitas"
   ]
  },
  {
   "cell_type": "code",
   "execution_count": null,
   "id": "2ed3296c",
   "metadata": {
    "ExecuteTime": {
     "end_time": "2022-05-13T15:49:26.914693Z",
     "start_time": "2022-05-13T15:49:26.914693Z"
    }
   },
   "outputs": [],
   "source": [
    "plt.subplots(figsize = (15,5))\n",
    "sns.countplot(x=cluster_0['Avg_Nro_visits'])\n",
    "plt.show()"
   ]
  },
  {
   "cell_type": "code",
   "execution_count": null,
   "id": "6886f003",
   "metadata": {
    "ExecuteTime": {
     "end_time": "2022-05-13T15:49:26.916689Z",
     "start_time": "2022-05-13T15:49:26.916689Z"
    }
   },
   "outputs": [],
   "source": [
    "plt.subplots(figsize = (15,5))\n",
    "sns.countplot(x=cluster_1['Avg_Nro_visits'])\n",
    "plt.show()"
   ]
  },
  {
   "cell_type": "code",
   "execution_count": null,
   "id": "1c6a443d",
   "metadata": {
    "ExecuteTime": {
     "end_time": "2022-05-13T15:49:26.918690Z",
     "start_time": "2022-05-13T15:49:26.918690Z"
    }
   },
   "outputs": [],
   "source": [
    "plt.subplots(figsize = (15,5))\n",
    "sns.countplot(x=cluster_2['Avg_Nro_visits'])\n",
    "plt.show()"
   ]
  },
  {
   "cell_type": "code",
   "execution_count": null,
   "id": "ab8f83e8",
   "metadata": {
    "ExecuteTime": {
     "end_time": "2022-05-13T15:49:26.919680Z",
     "start_time": "2022-05-13T15:49:26.919680Z"
    }
   },
   "outputs": [],
   "source": [
    "61/12"
   ]
  },
  {
   "cell_type": "markdown",
   "id": "8ec43311",
   "metadata": {},
   "source": [
    "#### Antiguedad"
   ]
  },
  {
   "cell_type": "code",
   "execution_count": null,
   "id": "2822a583",
   "metadata": {
    "ExecuteTime": {
     "end_time": "2022-05-13T15:49:26.921676Z",
     "start_time": "2022-05-13T15:49:26.921676Z"
    }
   },
   "outputs": [],
   "source": [
    "plt.subplots(figsize = (15,5))\n",
    "sns.countplot(x=cluster_0['ANT_MONTH'])\n",
    "plt.show()"
   ]
  },
  {
   "cell_type": "raw",
   "id": "43df9b9c",
   "metadata": {},
   "source": [
    "# "
   ]
  },
  {
   "cell_type": "code",
   "execution_count": null,
   "id": "6dcf545c",
   "metadata": {
    "ExecuteTime": {
     "end_time": "2022-05-13T15:49:26.923670Z",
     "start_time": "2022-05-13T15:49:26.923670Z"
    }
   },
   "outputs": [],
   "source": [
    "plt.subplots(figsize = (15,5))\n",
    "sns.countplot(x=cluster_1['ANT_MONTH'])\n",
    "plt.show()"
   ]
  },
  {
   "cell_type": "code",
   "execution_count": null,
   "id": "7645c50a",
   "metadata": {
    "ExecuteTime": {
     "end_time": "2022-05-13T15:49:26.926662Z",
     "start_time": "2022-05-13T15:49:26.926662Z"
    }
   },
   "outputs": [],
   "source": [
    "plt.subplots(figsize = (15,5))\n",
    "sns.countplot(x=cluster_2['ANT_MONTH'])\n",
    "plt.show()"
   ]
  },
  {
   "cell_type": "markdown",
   "id": "3e77ef84",
   "metadata": {},
   "source": [
    "### Análisis Cluster - Best Funcionarios"
   ]
  },
  {
   "cell_type": "markdown",
   "id": "ad502fb2",
   "metadata": {},
   "source": [
    "#### Cluster 0"
   ]
  },
  {
   "cell_type": "code",
   "execution_count": null,
   "id": "7a88fe9f",
   "metadata": {
    "ExecuteTime": {
     "end_time": "2022-05-13T15:49:26.928657Z",
     "start_time": "2022-05-13T15:49:26.928657Z"
    }
   },
   "outputs": [],
   "source": [
    "cluster_0.head(2)"
   ]
  },
  {
   "cell_type": "code",
   "execution_count": null,
   "id": "beefc8b4",
   "metadata": {
    "ExecuteTime": {
     "end_time": "2022-05-13T15:49:26.931650Z",
     "start_time": "2022-05-13T15:49:26.931650Z"
    }
   },
   "outputs": [],
   "source": [
    "cluster_0.columns"
   ]
  },
  {
   "cell_type": "code",
   "execution_count": null,
   "id": "85ff2be9",
   "metadata": {
    "ExecuteTime": {
     "end_time": "2022-05-13T15:49:26.933645Z",
     "start_time": "2022-05-13T15:49:26.933645Z"
    },
    "scrolled": true
   },
   "outputs": [],
   "source": [
    "cluster_0[[\"Total\"]].describe()"
   ]
  },
  {
   "cell_type": "code",
   "execution_count": null,
   "id": "a572f6c0",
   "metadata": {
    "ExecuteTime": {
     "end_time": "2022-05-13T15:49:26.935638Z",
     "start_time": "2022-05-13T15:49:26.935638Z"
    }
   },
   "outputs": [],
   "source": [
    "#cluster_0[[\"MATRICULA\",\"Total\",'Avg_Nro_calls', 'Avg_Nro_visits']].sort_values(['Total'], ascending=[False])"
   ]
  },
  {
   "cell_type": "code",
   "execution_count": null,
   "id": "1a039351",
   "metadata": {
    "ExecuteTime": {
     "end_time": "2022-05-13T15:49:26.937633Z",
     "start_time": "2022-05-13T15:49:26.937633Z"
    }
   },
   "outputs": [],
   "source": [
    "cluster_02 =cluster_0[[\"Total\",'Avg_Nro_calls', 'Avg_Nro_visits']]\n",
    "cluster_12 =cluster_1[[\"Total\",'Avg_Nro_calls', 'Avg_Nro_visits']]\n",
    "cluster_22 =cluster_2[[\"Total\",'Avg_Nro_calls', 'Avg_Nro_visits']]"
   ]
  },
  {
   "cell_type": "code",
   "execution_count": null,
   "id": "1ddb9282",
   "metadata": {},
   "outputs": [],
   "source": []
  },
  {
   "cell_type": "code",
   "execution_count": null,
   "id": "1cc02404",
   "metadata": {
    "ExecuteTime": {
     "end_time": "2022-05-13T15:49:26.939628Z",
     "start_time": "2022-05-13T15:49:26.939628Z"
    }
   },
   "outputs": [],
   "source": [
    "display(pg.corr(cluster_02['Avg_Nro_calls'], cluster_02['Total'], method='pearson'))\n",
    "\n",
    "display(pg.corr(cluster_02['Avg_Nro_visits'], cluster_02['Total'], method='pearson'))"
   ]
  },
  {
   "cell_type": "code",
   "execution_count": null,
   "id": "149b9afe",
   "metadata": {
    "ExecuteTime": {
     "end_time": "2022-05-13T15:49:26.941622Z",
     "start_time": "2022-05-13T15:49:26.941622Z"
    }
   },
   "outputs": [],
   "source": [
    "#cluster_02[\"DR\"] = np.where((cluster_02['Total']>=6)&(cluster_02['Nro_Gest']<=33), 'TOP', 'BOT') \n",
    "#cluster_02.sort_values(['Total'], ascending=[False]).head(30)"
   ]
  },
  {
   "cell_type": "code",
   "execution_count": null,
   "id": "6c8fb11e",
   "metadata": {
    "ExecuteTime": {
     "end_time": "2022-05-13T15:49:26.943617Z",
     "start_time": "2022-05-13T15:49:26.943617Z"
    }
   },
   "outputs": [],
   "source": [
    "cluster_02[\"DR\"] = np.where((cluster_02['Total']>=7), 'TOP', 'BOT') \n",
    "cluster_02.sort_values(['Total'], ascending=[False]).head(30)"
   ]
  },
  {
   "cell_type": "code",
   "execution_count": null,
   "id": "5852b6c4",
   "metadata": {
    "ExecuteTime": {
     "end_time": "2022-05-13T15:49:26.944614Z",
     "start_time": "2022-05-13T15:49:26.944614Z"
    }
   },
   "outputs": [],
   "source": [
    "# Import libraries\n",
    "import matplotlib.pyplot as plt\n",
    "import numpy as np\n",
    " \n"
   ]
  },
  {
   "cell_type": "code",
   "execution_count": null,
   "id": "3c596e6b",
   "metadata": {
    "ExecuteTime": {
     "end_time": "2022-05-13T15:49:26.946609Z",
     "start_time": "2022-05-13T15:49:26.946609Z"
    }
   },
   "outputs": [],
   "source": [
    "boxplot = cluster_02.boxplot(grid=False, rot=45, fontsize=15)  "
   ]
  },
  {
   "cell_type": "code",
   "execution_count": null,
   "id": "efcce26e",
   "metadata": {
    "ExecuteTime": {
     "end_time": "2022-05-13T15:49:26.947608Z",
     "start_time": "2022-05-13T15:49:26.947608Z"
    }
   },
   "outputs": [],
   "source": [
    "cluster_02.columns"
   ]
  },
  {
   "cell_type": "code",
   "execution_count": null,
   "id": "e0aa6025",
   "metadata": {
    "ExecuteTime": {
     "end_time": "2022-05-13T15:49:26.949602Z",
     "start_time": "2022-05-13T15:49:26.949602Z"
    }
   },
   "outputs": [],
   "source": [
    "cluster_02[['Avg_Nro_calls', 'Avg_Nro_visits', 'DR']].boxplot(by='DR', figsize=(10, 6))"
   ]
  },
  {
   "cell_type": "code",
   "execution_count": null,
   "id": "1dfc4236",
   "metadata": {
    "ExecuteTime": {
     "end_time": "2022-05-13T15:49:26.951596Z",
     "start_time": "2022-05-13T15:49:26.951596Z"
    }
   },
   "outputs": [],
   "source": [
    "cluster_02[['Total', 'DR']].boxplot(by='DR', figsize=(8, 6))"
   ]
  },
  {
   "cell_type": "code",
   "execution_count": null,
   "id": "41a9f0af",
   "metadata": {
    "ExecuteTime": {
     "end_time": "2022-05-13T15:49:26.953604Z",
     "start_time": "2022-05-13T15:49:26.953604Z"
    }
   },
   "outputs": [],
   "source": [
    "print('TOP' , cluster_02[cluster_02[\"DR\"] == \"TOP\"][[\"Total\"]].median())\n",
    "\n",
    "print('BOT' , cluster_02[cluster_02[\"DR\"] == \"BOT\"][[\"Total\"]].median())\n",
    "\n",
    "print('TOP' , cluster_02[cluster_02[\"DR\"] == \"TOP\"][[\"Avg_Nro_Gest\"]].median())\n",
    "\n",
    "print('BOT' , cluster_02[cluster_02[\"DR\"] == \"BOT\"][[\"Avg_Nro_Gest\"]].median())"
   ]
  },
  {
   "cell_type": "code",
   "execution_count": null,
   "id": "56e33e6b",
   "metadata": {
    "ExecuteTime": {
     "end_time": "2022-05-13T15:49:26.954588Z",
     "start_time": "2022-05-13T15:49:26.954588Z"
    }
   },
   "outputs": [],
   "source": [
    "cluster_02[[\"Avg_Nro_Gest\",\"Total\"]].corr(method = 'spearman')"
   ]
  },
  {
   "cell_type": "code",
   "execution_count": null,
   "id": "a56e1269",
   "metadata": {},
   "outputs": [],
   "source": []
  },
  {
   "cell_type": "markdown",
   "id": "01138a24",
   "metadata": {},
   "source": [
    "#### Cluster 1"
   ]
  },
  {
   "cell_type": "code",
   "execution_count": null,
   "id": "5cf07f3a",
   "metadata": {
    "ExecuteTime": {
     "end_time": "2022-05-13T15:49:26.956582Z",
     "start_time": "2022-05-13T15:49:26.956582Z"
    }
   },
   "outputs": [],
   "source": [
    "from scipy import stats\n",
    "import numpy as np\n",
    "\n",
    "#percentile=stats.scoreatpercentile(cluster_1[[\"Avg_Nro_Gest\"]], 60)\n",
    "#percentile"
   ]
  },
  {
   "cell_type": "code",
   "execution_count": null,
   "id": "36ca5113",
   "metadata": {
    "ExecuteTime": {
     "end_time": "2022-05-13T15:49:26.958590Z",
     "start_time": "2022-05-13T15:49:26.958590Z"
    }
   },
   "outputs": [],
   "source": [
    "percentile=stats.scoreatpercentile(cluster_1[[\"Total\"]], 74)\n",
    "percentile"
   ]
  },
  {
   "cell_type": "code",
   "execution_count": null,
   "id": "e4e86f62",
   "metadata": {
    "ExecuteTime": {
     "end_time": "2022-05-13T15:49:26.960580Z",
     "start_time": "2022-05-13T15:49:26.960580Z"
    }
   },
   "outputs": [],
   "source": [
    "#cluster_1[[\"Matricula\",\"Total\",\"Avg_Nro_Gest\",'Avg_Nro_calls', 'Avg_Nro_visits']].sort_values(['Total'], ascending=[False])"
   ]
  },
  {
   "cell_type": "code",
   "execution_count": null,
   "id": "c2d7ff71",
   "metadata": {
    "ExecuteTime": {
     "end_time": "2022-05-13T15:49:26.962579Z",
     "start_time": "2022-05-13T15:49:26.961577Z"
    }
   },
   "outputs": [],
   "source": [
    "#cluster_1[[\"Matricula\",\"Total\",'Avg_Nro_calls', 'Avg_Nro_visits']].corr()"
   ]
  },
  {
   "cell_type": "code",
   "execution_count": null,
   "id": "56a8e020",
   "metadata": {
    "ExecuteTime": {
     "end_time": "2022-05-13T15:49:26.963564Z",
     "start_time": "2022-05-13T15:49:26.963564Z"
    },
    "scrolled": true
   },
   "outputs": [],
   "source": [
    "#cluster_1[[\"Matricula\",\"Total\",\"Avg_Nro_calls\"]]"
   ]
  },
  {
   "cell_type": "code",
   "execution_count": null,
   "id": "4f8033de",
   "metadata": {
    "ExecuteTime": {
     "end_time": "2022-05-13T15:49:26.965559Z",
     "start_time": "2022-05-13T15:49:26.965559Z"
    }
   },
   "outputs": [],
   "source": [
    "cluster_1.columns"
   ]
  },
  {
   "cell_type": "code",
   "execution_count": null,
   "id": "011fb490",
   "metadata": {
    "ExecuteTime": {
     "end_time": "2022-05-13T15:49:26.967554Z",
     "start_time": "2022-05-13T15:49:26.967554Z"
    }
   },
   "outputs": [],
   "source": [
    "cluster_12 =cluster_1[['Mora',\"Total\",\"Avg_Nro_calls\",'Avg_Nro_visits']]"
   ]
  },
  {
   "cell_type": "code",
   "execution_count": null,
   "id": "31b2d93c",
   "metadata": {
    "ExecuteTime": {
     "end_time": "2022-05-13T15:49:26.968551Z",
     "start_time": "2022-05-13T15:49:26.968551Z"
    }
   },
   "outputs": [],
   "source": [
    "cluster_1[\"Total\"].describe()"
   ]
  },
  {
   "cell_type": "code",
   "execution_count": null,
   "id": "738616de",
   "metadata": {
    "ExecuteTime": {
     "end_time": "2022-05-13T15:49:26.970545Z",
     "start_time": "2022-05-13T15:49:26.970545Z"
    }
   },
   "outputs": [],
   "source": [
    "#cluster_12[\"DR\"] = np.where((cluster_12['Total']>=6)&(cluster_12['Avg_Nro_Gest']<=37), 'TOP', 'BOT') \n",
    "#cluster_12.sort_values(['Total'], ascending=[False]).head(30)"
   ]
  },
  {
   "cell_type": "code",
   "execution_count": null,
   "id": "1581a6c7",
   "metadata": {
    "ExecuteTime": {
     "end_time": "2022-05-13T15:49:26.971543Z",
     "start_time": "2022-05-13T15:49:26.971543Z"
    },
    "scrolled": true
   },
   "outputs": [],
   "source": [
    "cluster_12[\"DR\"] = np.where((cluster_12['Total']>=9), 'TOP', 'BOT') \n",
    "#cluster_12.sort_values(['Total'], ascending=[False]).head(30)"
   ]
  },
  {
   "cell_type": "code",
   "execution_count": null,
   "id": "07a9beac",
   "metadata": {
    "ExecuteTime": {
     "end_time": "2022-05-13T15:49:26.973538Z",
     "start_time": "2022-05-13T15:49:26.973538Z"
    }
   },
   "outputs": [],
   "source": [
    "#cluster_12 =cluster_1[[\"Matricula\",\"Total\",\"Avg_Nro_Gest\"]]"
   ]
  },
  {
   "cell_type": "code",
   "execution_count": null,
   "id": "d0df3eea",
   "metadata": {
    "ExecuteTime": {
     "end_time": "2022-05-13T15:49:26.974534Z",
     "start_time": "2022-05-13T15:49:26.974534Z"
    }
   },
   "outputs": [],
   "source": [
    "cluster_12.boxplot(by='DR', figsize=(10, 7))"
   ]
  },
  {
   "cell_type": "code",
   "execution_count": null,
   "id": "c6111d0c",
   "metadata": {
    "ExecuteTime": {
     "end_time": "2022-05-13T15:49:26.977529Z",
     "start_time": "2022-05-13T15:49:26.977529Z"
    }
   },
   "outputs": [],
   "source": [
    "print('TOP' , cluster_12[cluster_12[\"DR\"] == \"TOP\"][[\"Total\"]].median())\n",
    "\n",
    "print('BOT' , cluster_12[cluster_12[\"DR\"] == \"BOT\"][[\"Total\"]].median())\n",
    "\n",
    "print('TOP' , cluster_12[cluster_12[\"DR\"] == \"TOP\"][[\"Avg_Nro_Gest\"]].median())\n",
    "\n",
    "print('BOT' , cluster_12[cluster_12[\"DR\"] == \"BOT\"][[\"Avg_Nro_Gest\"]].median())"
   ]
  },
  {
   "cell_type": "code",
   "execution_count": null,
   "id": "ce906dab",
   "metadata": {
    "ExecuteTime": {
     "end_time": "2022-05-13T15:49:26.978525Z",
     "start_time": "2022-05-13T15:49:26.978525Z"
    }
   },
   "outputs": [],
   "source": [
    "1/12"
   ]
  },
  {
   "cell_type": "code",
   "execution_count": null,
   "id": "b717409d",
   "metadata": {
    "ExecuteTime": {
     "end_time": "2022-05-13T15:49:26.980519Z",
     "start_time": "2022-05-13T15:49:26.980519Z"
    }
   },
   "outputs": [],
   "source": [
    "cluster_02[[\"Avg_Nro_Gest\",\"Total\"]].corr(method = 'spearman')"
   ]
  },
  {
   "cell_type": "code",
   "execution_count": null,
   "id": "7f7a2cf6",
   "metadata": {
    "ExecuteTime": {
     "end_time": "2022-05-13T15:49:26.982527Z",
     "start_time": "2022-05-13T15:49:26.982527Z"
    }
   },
   "outputs": [],
   "source": [
    "cluster_12[[\"Avg_Nro_Gest\",\"Total\"]].corr(method = 'spearman')"
   ]
  },
  {
   "cell_type": "code",
   "execution_count": null,
   "id": "ecef3eef",
   "metadata": {
    "ExecuteTime": {
     "end_time": "2022-05-13T15:49:26.983512Z",
     "start_time": "2022-05-13T15:49:26.983512Z"
    }
   },
   "outputs": [],
   "source": [
    "#cluster_22[[\"Avg_Nro_Gest\",\"Total\"]].corr(method = 'spearman')"
   ]
  },
  {
   "cell_type": "code",
   "execution_count": null,
   "id": "be033e84",
   "metadata": {
    "ExecuteTime": {
     "end_time": "2022-05-13T15:49:26.985517Z",
     "start_time": "2022-05-13T15:49:26.985517Z"
    }
   },
   "outputs": [],
   "source": [
    "#plt.matshow(cluster_22[[\"Avg_Nro_Gest\",\"Total\"]].corr())"
   ]
  },
  {
   "cell_type": "code",
   "execution_count": null,
   "id": "037a964d",
   "metadata": {
    "ExecuteTime": {
     "end_time": "2022-05-13T15:49:26.986504Z",
     "start_time": "2022-05-13T15:49:26.986504Z"
    }
   },
   "outputs": [],
   "source": [
    "#cluster_02 = cluster_02.fillna(0)\n",
    "#cluster_12 = cluster_12.fillna(0)\n",
    "#cluster_22 = cluster_22.fillna(0)"
   ]
  },
  {
   "cell_type": "code",
   "execution_count": null,
   "id": "cf9fe9a7",
   "metadata": {},
   "outputs": [],
   "source": []
  },
  {
   "cell_type": "code",
   "execution_count": null,
   "id": "b0f234bd",
   "metadata": {},
   "outputs": [],
   "source": []
  },
  {
   "cell_type": "markdown",
   "id": "dddf7fc8",
   "metadata": {},
   "source": [
    "#### Cluster 2"
   ]
  },
  {
   "cell_type": "code",
   "execution_count": null,
   "id": "66ff1e77",
   "metadata": {
    "ExecuteTime": {
     "end_time": "2022-05-13T15:49:26.988499Z",
     "start_time": "2022-05-13T15:49:26.988499Z"
    }
   },
   "outputs": [],
   "source": [
    "cluster_2[[\"Total\"]].describe()"
   ]
  },
  {
   "cell_type": "code",
   "execution_count": null,
   "id": "b6decde1",
   "metadata": {
    "ExecuteTime": {
     "end_time": "2022-05-13T15:49:26.989495Z",
     "start_time": "2022-05-13T15:49:26.989495Z"
    }
   },
   "outputs": [],
   "source": [
    "#cluster_2[[\"Matricula\",\"Total\",'Avg_Nro_calls', 'Avg_Nro_visits']].sort_values(['Total'], ascending=[False])"
   ]
  },
  {
   "cell_type": "code",
   "execution_count": null,
   "id": "6af57be2",
   "metadata": {
    "ExecuteTime": {
     "end_time": "2022-05-13T15:49:26.991491Z",
     "start_time": "2022-05-13T15:49:26.991491Z"
    }
   },
   "outputs": [],
   "source": [
    "#cluster_2[[\"Matricula\",\"Total\",'Avg_Nro_calls', 'Avg_Nro_visits']].corr()"
   ]
  },
  {
   "cell_type": "code",
   "execution_count": null,
   "id": "ec29106b",
   "metadata": {
    "ExecuteTime": {
     "end_time": "2022-05-13T15:49:26.992487Z",
     "start_time": "2022-05-13T15:49:26.992487Z"
    }
   },
   "outputs": [],
   "source": [
    "#cluster_2[[\"Matricula\",\"Total\",\"Avg_Nro_calls\"]]"
   ]
  },
  {
   "cell_type": "code",
   "execution_count": null,
   "id": "52302866",
   "metadata": {
    "ExecuteTime": {
     "end_time": "2022-05-13T15:49:26.994482Z",
     "start_time": "2022-05-13T15:49:26.994482Z"
    }
   },
   "outputs": [],
   "source": [
    "cluster_2.columns"
   ]
  },
  {
   "cell_type": "code",
   "execution_count": null,
   "id": "5d399634",
   "metadata": {
    "ExecuteTime": {
     "end_time": "2022-05-13T15:49:26.995480Z",
     "start_time": "2022-05-13T15:49:26.995480Z"
    }
   },
   "outputs": [],
   "source": [
    "cluster_22 =cluster_2[[\"Total\",'Avg_Nro_calls','Avg_Nro_visits', 'Mora']]"
   ]
  },
  {
   "cell_type": "code",
   "execution_count": null,
   "id": "2ceb09e1",
   "metadata": {
    "ExecuteTime": {
     "end_time": "2022-05-13T15:49:26.997475Z",
     "start_time": "2022-05-13T15:49:26.997475Z"
    }
   },
   "outputs": [],
   "source": [
    "#cluster_22[\"DR\"] = np.where((cluster_22['Total']>=3)&(cluster_22['Avg_Nro_Gest']<=17), 'TOP', 'BOT') \n",
    "cluster_22[\"DR\"] = np.where((cluster_22['Total']>=8), 'TOP', 'BOT') \n",
    "#cluster_22[\"DR\"] = np.where((cluster_22['Avg_Nro_Gest']<=17), 'TOP', 'BOT') \n",
    "cluster_22.sort_values(['Total'], ascending=[False]).head(30)"
   ]
  },
  {
   "cell_type": "code",
   "execution_count": null,
   "id": "c16ae2f4",
   "metadata": {
    "ExecuteTime": {
     "end_time": "2022-05-13T15:49:26.998485Z",
     "start_time": "2022-05-13T15:49:26.998485Z"
    }
   },
   "outputs": [],
   "source": [
    "cluster_22.boxplot(by='DR', figsize=(10, 7))"
   ]
  },
  {
   "cell_type": "markdown",
   "id": "d6088d8e",
   "metadata": {},
   "source": [
    "#### PARA PRESENTACION "
   ]
  },
  {
   "cell_type": "code",
   "execution_count": null,
   "id": "75426768",
   "metadata": {
    "ExecuteTime": {
     "end_time": "2022-05-13T15:49:27.000467Z",
     "start_time": "2022-05-13T15:49:27.000467Z"
    }
   },
   "outputs": [],
   "source": [
    "cluster_02[['DR', 'Total']].boxplot(by='DR', figsize=(6, 7),\n",
    "                  ## positions=[1,4], \n",
    "                  ## notch=True, \n",
    "                   widths=0.35, \n",
    "                   patch_artist=True, \n",
    "                   boxprops=dict(facecolor=\"C2\"))"
   ]
  },
  {
   "cell_type": "code",
   "execution_count": null,
   "id": "238b61ae",
   "metadata": {
    "ExecuteTime": {
     "end_time": "2022-05-13T15:49:27.001463Z",
     "start_time": "2022-05-13T15:49:27.001463Z"
    }
   },
   "outputs": [],
   "source": [
    "cluster_22.columns"
   ]
  },
  {
   "cell_type": "code",
   "execution_count": null,
   "id": "1b590147",
   "metadata": {
    "ExecuteTime": {
     "end_time": "2022-05-13T15:49:27.003458Z",
     "start_time": "2022-05-13T15:49:27.002460Z"
    }
   },
   "outputs": [],
   "source": [
    "cluster_02[['DR', 'Avg_Nro_calls']].boxplot(by='DR', figsize=(6, 7),\n",
    "                  ## positions=[1,4], \n",
    "                  ## notch=True, \n",
    "                   widths=0.55, \n",
    "                   patch_artist=True, \n",
    "                   boxprops=dict(facecolor=\"C1\"))"
   ]
  },
  {
   "cell_type": "code",
   "execution_count": null,
   "id": "d39d363b",
   "metadata": {
    "ExecuteTime": {
     "end_time": "2022-05-13T15:49:27.004455Z",
     "start_time": "2022-05-13T15:49:27.004455Z"
    }
   },
   "outputs": [],
   "source": [
    "cluster_02[['DR', 'Avg_Nro_visits']].boxplot(by='DR', figsize=(6, 7),\n",
    "                  ## positions=[1,4], \n",
    "                  ## notch=True, \n",
    "                   widths=0.35, \n",
    "                   patch_artist=True, \n",
    "                   boxprops=dict(facecolor=\"C3\"))"
   ]
  },
  {
   "cell_type": "code",
   "execution_count": null,
   "id": "68b9c3b2",
   "metadata": {
    "ExecuteTime": {
     "end_time": "2022-05-13T15:49:27.006451Z",
     "start_time": "2022-05-13T15:49:27.006451Z"
    }
   },
   "outputs": [],
   "source": [
    "cluster_12[['DR', 'Total']].boxplot(by='DR', figsize=(6, 7),\n",
    "                  ## positions=[1,4], \n",
    "                  ## notch=True, \n",
    "                   widths=0.35, \n",
    "                   patch_artist=True, \n",
    "                   boxprops=dict(facecolor=\"C2\"))"
   ]
  },
  {
   "cell_type": "code",
   "execution_count": null,
   "id": "cead0037",
   "metadata": {
    "ExecuteTime": {
     "end_time": "2022-05-13T15:49:27.007447Z",
     "start_time": "2022-05-13T15:49:27.007447Z"
    }
   },
   "outputs": [],
   "source": [
    "cluster_22.columns"
   ]
  },
  {
   "cell_type": "code",
   "execution_count": null,
   "id": "3f776e99",
   "metadata": {
    "ExecuteTime": {
     "end_time": "2022-05-13T15:49:27.008445Z",
     "start_time": "2022-05-13T15:49:27.008445Z"
    }
   },
   "outputs": [],
   "source": [
    "cluster_12[['DR', 'Avg_Nro_calls']].boxplot(by='DR', figsize=(6, 7),\n",
    "                  ## positions=[1,4], \n",
    "                  ## notch=True, \n",
    "                   widths=0.55, \n",
    "                   patch_artist=True, \n",
    "                   boxprops=dict(facecolor=\"C1\"))"
   ]
  },
  {
   "cell_type": "code",
   "execution_count": null,
   "id": "daddf6dd",
   "metadata": {
    "ExecuteTime": {
     "end_time": "2022-05-13T15:49:27.010440Z",
     "start_time": "2022-05-13T15:49:27.010440Z"
    }
   },
   "outputs": [],
   "source": [
    "cluster_12[['DR', 'Avg_Nro_visits']].boxplot(by='DR', figsize=(6, 7),\n",
    "                  ## positions=[1,4], \n",
    "                  ## notch=True, \n",
    "                   widths=0.35, \n",
    "                   patch_artist=True, \n",
    "                   boxprops=dict(facecolor=\"C3\"))"
   ]
  },
  {
   "cell_type": "code",
   "execution_count": null,
   "id": "bc274e76",
   "metadata": {
    "ExecuteTime": {
     "end_time": "2022-05-13T15:49:27.012435Z",
     "start_time": "2022-05-13T15:49:27.012435Z"
    }
   },
   "outputs": [],
   "source": [
    "cluster_22[['DR', 'Total']].boxplot(by='DR', figsize=(6, 7),\n",
    "                  ## positions=[1,4], \n",
    "                  ## notch=True, \n",
    "                   widths=0.35, \n",
    "                   patch_artist=True, \n",
    "                   boxprops=dict(facecolor=\"C2\"))"
   ]
  },
  {
   "cell_type": "code",
   "execution_count": null,
   "id": "439e4045",
   "metadata": {
    "ExecuteTime": {
     "end_time": "2022-05-13T15:49:27.013434Z",
     "start_time": "2022-05-13T15:49:27.013434Z"
    }
   },
   "outputs": [],
   "source": [
    "cluster_22.columns"
   ]
  },
  {
   "cell_type": "code",
   "execution_count": null,
   "id": "f80bf1d1",
   "metadata": {
    "ExecuteTime": {
     "end_time": "2022-05-13T15:49:27.015427Z",
     "start_time": "2022-05-13T15:49:27.015427Z"
    }
   },
   "outputs": [],
   "source": [
    "cluster_22[['DR', 'Avg_Nro_calls']].boxplot(by='DR', figsize=(6, 7),\n",
    "                  ## positions=[1,4], \n",
    "                  ## notch=True, \n",
    "                   widths=0.55, \n",
    "                   patch_artist=True, \n",
    "                   boxprops=dict(facecolor=\"C1\"))"
   ]
  },
  {
   "cell_type": "code",
   "execution_count": null,
   "id": "2a23ec27",
   "metadata": {
    "ExecuteTime": {
     "end_time": "2022-05-13T15:49:27.016423Z",
     "start_time": "2022-05-13T15:49:27.016423Z"
    }
   },
   "outputs": [],
   "source": [
    "cluster_22[['DR', 'Avg_Nro_visits']].boxplot(by='DR', figsize=(6, 7),\n",
    "                  ## positions=[1,4], \n",
    "                  ## notch=True, \n",
    "                   widths=0.35, \n",
    "                   patch_artist=True, \n",
    "                   boxprops=dict(facecolor=\"C3\"))"
   ]
  },
  {
   "cell_type": "code",
   "execution_count": null,
   "id": "4b46bcfb",
   "metadata": {},
   "outputs": [],
   "source": []
  },
  {
   "cell_type": "code",
   "execution_count": null,
   "id": "4dd52fc3",
   "metadata": {},
   "outputs": [],
   "source": []
  },
  {
   "cell_type": "code",
   "execution_count": null,
   "id": "c5c11113",
   "metadata": {},
   "outputs": [],
   "source": []
  },
  {
   "cell_type": "code",
   "execution_count": null,
   "id": "7b5d6e86",
   "metadata": {},
   "outputs": [],
   "source": []
  },
  {
   "cell_type": "code",
   "execution_count": null,
   "id": "d04191aa",
   "metadata": {},
   "outputs": [],
   "source": []
  },
  {
   "cell_type": "code",
   "execution_count": null,
   "id": "012b0607",
   "metadata": {},
   "outputs": [],
   "source": []
  },
  {
   "cell_type": "code",
   "execution_count": null,
   "id": "4f893e4d",
   "metadata": {},
   "outputs": [],
   "source": []
  },
  {
   "cell_type": "code",
   "execution_count": null,
   "id": "26ae4df2",
   "metadata": {},
   "outputs": [],
   "source": []
  },
  {
   "cell_type": "code",
   "execution_count": null,
   "id": "9062bb16",
   "metadata": {},
   "outputs": [],
   "source": []
  },
  {
   "cell_type": "code",
   "execution_count": null,
   "id": "17411057",
   "metadata": {
    "ExecuteTime": {
     "end_time": "2022-05-13T15:49:27.017421Z",
     "start_time": "2022-05-13T15:49:27.017421Z"
    }
   },
   "outputs": [],
   "source": [
    "cluster_22.boxplot(by='DR', figsize=(10, 7),\n",
    "                   positions=[1,4], \n",
    "                  ## notch=True, \n",
    "                   widths=0.35, \n",
    "                   patch_artist=True, \n",
    "                   boxprops=dict(facecolor=\"C1\"))\n"
   ]
  },
  {
   "cell_type": "code",
   "execution_count": null,
   "id": "ed82de4e",
   "metadata": {
    "ExecuteTime": {
     "end_time": "2022-05-13T15:49:27.019415Z",
     "start_time": "2022-05-13T15:49:27.019415Z"
    }
   },
   "outputs": [],
   "source": [
    "cluster_22.columns"
   ]
  },
  {
   "cell_type": "code",
   "execution_count": null,
   "id": "c28ae4c1",
   "metadata": {
    "ExecuteTime": {
     "end_time": "2022-05-13T15:49:27.020413Z",
     "start_time": "2022-05-13T15:49:27.020413Z"
    }
   },
   "outputs": [],
   "source": [
    "display(pg.corr(cluster_22['Avg_Nro_Gest'], cluster_22['Total'], method='pearson'))\n",
    "\n",
    "display(pg.corr(cluster_22['Avg_Nro_calls'], cluster_22['Total'], method='pearson'))\n",
    "\n",
    "display(pg.corr(cluster_22['Avg_Nro_visits'], cluster_22['Total'], method='pearson'))"
   ]
  },
  {
   "cell_type": "code",
   "execution_count": null,
   "id": "30799afb",
   "metadata": {
    "ExecuteTime": {
     "end_time": "2022-05-13T15:49:27.022408Z",
     "start_time": "2022-05-13T15:49:27.022408Z"
    }
   },
   "outputs": [],
   "source": [
    "print('TOP' , cluster_22[cluster_22[\"DR\"] == \"TOP\"][[\"Total\"]].median())\n",
    "\n",
    "print('BOT' , cluster_22[cluster_22[\"DR\"] == \"BOT\"][[\"Total\"]].median())\n",
    "\n",
    "print('TOP' , cluster_22[cluster_22[\"DR\"] == \"TOP\"][[\"Avg_Nro_Gest\"]].median())\n",
    "\n",
    "print('BOT' , cluster_22[cluster_22[\"DR\"] == \"BOT\"][[\"Avg_Nro_Gest\"]].median())"
   ]
  },
  {
   "cell_type": "code",
   "execution_count": null,
   "id": "a670db59",
   "metadata": {
    "ExecuteTime": {
     "end_time": "2022-05-13T15:49:27.023404Z",
     "start_time": "2022-05-13T15:49:27.023404Z"
    }
   },
   "outputs": [],
   "source": [
    "r, p = stats.pearsonr(cluster_02['Avg_Nro_Gest'], cluster_02['Total'])\n",
    "print(f\"Correlación Pearson: r={r}, p-value={p}\")"
   ]
  },
  {
   "cell_type": "code",
   "execution_count": null,
   "id": "1fb8e96c",
   "metadata": {
    "ExecuteTime": {
     "end_time": "2022-05-13T15:49:27.025401Z",
     "start_time": "2022-05-13T15:49:27.025401Z"
    }
   },
   "outputs": [],
   "source": [
    "r, p = stats.pearsonr(cluster_12['Avg_Nro_Gest'], cluster_12['Total'])\n",
    "print(f\"Correlación Pearson: r={r}, p-value={p}\")"
   ]
  },
  {
   "cell_type": "code",
   "execution_count": null,
   "id": "894f4b31",
   "metadata": {
    "ExecuteTime": {
     "end_time": "2022-05-13T15:49:27.026398Z",
     "start_time": "2022-05-13T15:49:27.026398Z"
    }
   },
   "outputs": [],
   "source": [
    "#pip install pingouin"
   ]
  },
  {
   "cell_type": "code",
   "execution_count": null,
   "id": "3b2a083f",
   "metadata": {
    "ExecuteTime": {
     "end_time": "2022-05-13T15:49:27.028394Z",
     "start_time": "2022-05-13T15:49:27.028394Z"
    }
   },
   "outputs": [],
   "source": [
    "import pingouin as pg"
   ]
  },
  {
   "cell_type": "code",
   "execution_count": null,
   "id": "e39d4b14",
   "metadata": {},
   "outputs": [],
   "source": []
  },
  {
   "cell_type": "code",
   "execution_count": null,
   "id": "dcd962aa",
   "metadata": {
    "ExecuteTime": {
     "end_time": "2022-05-13T15:49:27.029389Z",
     "start_time": "2022-05-13T15:49:27.029389Z"
    }
   },
   "outputs": [],
   "source": [
    "pd.concat([cluster_22, cluster_02])[[\"Avg_Nro_Gest\",\"Total\"]].corr(method = 'spearman')"
   ]
  },
  {
   "cell_type": "markdown",
   "id": "e53f04d4",
   "metadata": {},
   "source": [
    "### CORR  CLUSTERS"
   ]
  },
  {
   "cell_type": "code",
   "execution_count": null,
   "id": "c053cc64",
   "metadata": {
    "ExecuteTime": {
     "end_time": "2022-05-13T15:49:27.030387Z",
     "start_time": "2022-05-13T15:49:27.030387Z"
    }
   },
   "outputs": [],
   "source": [
    "cluster_0.columns"
   ]
  },
  {
   "cell_type": "code",
   "execution_count": null,
   "id": "4ad9155c",
   "metadata": {
    "ExecuteTime": {
     "end_time": "2022-05-13T15:49:27.032382Z",
     "start_time": "2022-05-13T15:49:27.032382Z"
    }
   },
   "outputs": [],
   "source": [
    "display(pg.corr(cluster_02['Avg_Nro_calls'], cluster_02['Total'], method='pearson'))\n",
    "\n",
    "display(pg.corr(cluster_02['Avg_Nro_visits'], cluster_02['Total'], method='pearson'))"
   ]
  },
  {
   "cell_type": "code",
   "execution_count": null,
   "id": "5955f1b3",
   "metadata": {
    "ExecuteTime": {
     "end_time": "2022-05-13T15:49:27.033378Z",
     "start_time": "2022-05-13T15:49:27.033378Z"
    }
   },
   "outputs": [],
   "source": [
    "display(pg.corr(cluster_12['Avg_Nro_calls'], cluster_12['Total'], method='pearson'))\n",
    "\n",
    "display(pg.corr(cluster_12['Avg_Nro_visits'], cluster_12['Total'], method='pearson'))"
   ]
  },
  {
   "cell_type": "code",
   "execution_count": null,
   "id": "788eb64c",
   "metadata": {
    "ExecuteTime": {
     "end_time": "2022-05-13T15:49:27.035373Z",
     "start_time": "2022-05-13T15:49:27.035373Z"
    }
   },
   "outputs": [],
   "source": [
    "display(pg.corr(cluster_22['Avg_Nro_calls'], cluster_22['Total'], method='pearson'))\n",
    "\n",
    "display(pg.corr(cluster_22['Avg_Nro_visits'], cluster_22['Total'], method='pearson'))"
   ]
  },
  {
   "cell_type": "markdown",
   "id": "468f7a3e",
   "metadata": {},
   "source": [
    "### CORRELATION X3 MONTHS"
   ]
  },
  {
   "cell_type": "code",
   "execution_count": null,
   "id": "c407d91d",
   "metadata": {
    "ExecuteTime": {
     "end_time": "2022-05-13T15:49:27.036370Z",
     "start_time": "2022-05-13T15:49:27.036370Z"
    }
   },
   "outputs": [],
   "source": [
    "RENDIMIENTO_FFNN_4.shape"
   ]
  },
  {
   "cell_type": "code",
   "execution_count": null,
   "id": "42282312",
   "metadata": {
    "ExecuteTime": {
     "end_time": "2022-05-13T15:49:27.038366Z",
     "start_time": "2022-05-13T15:49:27.038366Z"
    }
   },
   "outputs": [],
   "source": [
    "RENDIMIENTO_FFNN_3.shape"
   ]
  },
  {
   "cell_type": "code",
   "execution_count": null,
   "id": "c865c6a5",
   "metadata": {
    "ExecuteTime": {
     "end_time": "2022-05-13T15:49:27.039364Z",
     "start_time": "2022-05-13T15:49:27.039364Z"
    }
   },
   "outputs": [],
   "source": [
    "RENDIMIENTO_FFNN_3['CLUS'] = pred_y"
   ]
  },
  {
   "cell_type": "code",
   "execution_count": null,
   "id": "593f3be0",
   "metadata": {
    "ExecuteTime": {
     "end_time": "2022-05-13T15:49:27.040359Z",
     "start_time": "2022-05-13T15:49:27.040359Z"
    }
   },
   "outputs": [],
   "source": [
    "pred_y.shape"
   ]
  },
  {
   "cell_type": "code",
   "execution_count": null,
   "id": "56300c69",
   "metadata": {
    "ExecuteTime": {
     "end_time": "2022-05-13T15:49:27.042355Z",
     "start_time": "2022-05-13T15:49:27.042355Z"
    }
   },
   "outputs": [],
   "source": [
    "RENDIMIENTO_FFNN_3.to_csv(\"CLUS_FUNC.csv\")"
   ]
  },
  {
   "cell_type": "code",
   "execution_count": null,
   "id": "14a3bfd1",
   "metadata": {},
   "outputs": [],
   "source": []
  },
  {
   "cell_type": "code",
   "execution_count": null,
   "id": "0f7cef14",
   "metadata": {},
   "outputs": [],
   "source": []
  },
  {
   "cell_type": "code",
   "execution_count": null,
   "id": "f66c87c8",
   "metadata": {},
   "outputs": [],
   "source": []
  },
  {
   "cell_type": "code",
   "execution_count": null,
   "id": "47473566",
   "metadata": {},
   "outputs": [],
   "source": []
  },
  {
   "cell_type": "code",
   "execution_count": null,
   "id": "98a34df2",
   "metadata": {},
   "outputs": [],
   "source": []
  },
  {
   "cell_type": "code",
   "execution_count": null,
   "id": "23644248",
   "metadata": {},
   "outputs": [],
   "source": []
  },
  {
   "cell_type": "code",
   "execution_count": null,
   "id": "f99111de",
   "metadata": {
    "ExecuteTime": {
     "end_time": "2022-05-13T15:49:27.043352Z",
     "start_time": "2022-05-13T15:49:27.043352Z"
    }
   },
   "outputs": [],
   "source": [
    "display(pg.corr(cluster_0['Avg_Nro_calls'], cluster_0['Total'], method='pearson'))\n",
    "\n",
    "display(pg.corr(cluster_0['Avg_Nro_visits'], cluster_0['Total'], method='pearson'))"
   ]
  },
  {
   "cell_type": "code",
   "execution_count": null,
   "id": "37bb6e34",
   "metadata": {
    "ExecuteTime": {
     "end_time": "2022-05-13T15:49:27.045346Z",
     "start_time": "2022-05-13T15:49:27.045346Z"
    }
   },
   "outputs": [],
   "source": [
    "display(pg.corr(cluster_02['Avg_Nro_Gest'], cluster_02['Total'], method='pearson'))\n",
    "\n",
    "display(pg.corr(cluster_02['Avg_Nro_calls'], cluster_02['Total'], method='pearson'))\n",
    "\n",
    "display(pg.corr(cluster_02['Avg_Nro_visits'], cluster_02['Total'], method='pearson'))\n",
    "\n",
    "#display(pg.corr(cluster_02['Avg_Nro_Gest'], cluster_02['Total'], method='spearman'))\n",
    "\n",
    "#display(pg.corr(cluster_02['Avg_Nro_calls'], cluster_02['Total'], method='spearman'))\n",
    "\n",
    "#display(pg.corr(cluster_02['Avg_Nro_visits'], cluster_02['Total'], method='spearman'))"
   ]
  },
  {
   "cell_type": "code",
   "execution_count": null,
   "id": "208ad02c",
   "metadata": {
    "ExecuteTime": {
     "end_time": "2022-05-13T15:49:27.046344Z",
     "start_time": "2022-05-13T15:49:27.046344Z"
    }
   },
   "outputs": [],
   "source": [
    "#plt.plot(cluster_02['Avg_Nro_visits'], cluster_02['Total'], 'o', color='blue')\n",
    "\n",
    "#plt.plot(cluster_02['Avg_Nro_calls'], cluster_02['Total'], 'o', color='blue')\n",
    "\n",
    "plt.plot(cluster_02['Avg_Nro_Gest'], cluster_02['Total'], 'o', color='blue')"
   ]
  },
  {
   "cell_type": "code",
   "execution_count": null,
   "id": "38a34ec8",
   "metadata": {
    "ExecuteTime": {
     "end_time": "2022-05-13T15:49:27.048338Z",
     "start_time": "2022-05-13T15:49:27.048338Z"
    }
   },
   "outputs": [],
   "source": [
    "display(pg.corr(cluster_12['Avg_Nro_Gest'], cluster_12['Total'], method='pearson'))\n",
    "\n",
    "display(pg.corr(cluster_12['Avg_Nro_calls'], cluster_12['Total'], method='pearson'))\n",
    "\n",
    "display(pg.corr(cluster_12['Avg_Nro_visits'], cluster_12['Total'], method='pearson'))\n",
    "\n",
    "display(pg.corr(cluster_12['Avg_Nro_Gest'], cluster_12['Total'], method='spearman'))\n",
    "\n",
    "display(pg.corr(cluster_12['Avg_Nro_calls'], cluster_12['Total'], method='spearman'))\n",
    "\n",
    "display(pg.corr(cluster_12['Avg_Nro_visits'], cluster_12['Total'], method='spearman'))"
   ]
  },
  {
   "cell_type": "code",
   "execution_count": null,
   "id": "147f6b1c",
   "metadata": {
    "ExecuteTime": {
     "end_time": "2022-05-13T15:49:27.049337Z",
     "start_time": "2022-05-13T15:49:27.049337Z"
    }
   },
   "outputs": [],
   "source": [
    "#plt.plot(cluster_12['Avg_Nro_visits'], cluster_12['Total'], 'o', color='blue')\n",
    "\n",
    "#plt.plot(cluster_12['Avg_Nro_calls'], cluster_12['Total'], 'o', color='blue')\n",
    "\n",
    "plt.plot(cluster_12['Avg_Nro_Gest'], cluster_12['Total'], 'o', color='blue')"
   ]
  },
  {
   "cell_type": "code",
   "execution_count": null,
   "id": "69498b9f",
   "metadata": {
    "ExecuteTime": {
     "end_time": "2022-05-13T15:49:27.050334Z",
     "start_time": "2022-05-13T15:49:27.050334Z"
    }
   },
   "outputs": [],
   "source": [
    "display(pg.corr(cluster_22['Avg_Nro_Gest'], cluster_22['Total'], method='pearson'))\n",
    "\n",
    "display(pg.corr(cluster_22['Avg_Nro_calls'], cluster_22['Total'], method='pearson'))\n",
    "\n",
    "display(pg.corr(cluster_22['Avg_Nro_visits'], cluster_22['Total'], method='pearson'))"
   ]
  },
  {
   "cell_type": "code",
   "execution_count": null,
   "id": "ba694e31",
   "metadata": {
    "ExecuteTime": {
     "end_time": "2022-05-13T15:49:27.052327Z",
     "start_time": "2022-05-13T15:49:27.052327Z"
    }
   },
   "outputs": [],
   "source": [
    "#plt.plot(cluster_22['Avg_Nro_visits'], cluster_22['Total'], 'o', color='blue')\n",
    "#plt.plot(cluster_22['Avg_Nro_calls'], cluster_22['Total'], 'o', color='blue')\n",
    "plt.plot(cluster_22['Avg_Nro_Gest'], cluster_22['Total'], 'o', color='blue')"
   ]
  },
  {
   "cell_type": "markdown",
   "id": "5b0f8876",
   "metadata": {},
   "source": [
    "### General"
   ]
  },
  {
   "cell_type": "code",
   "execution_count": null,
   "id": "dd2c6a77",
   "metadata": {
    "ExecuteTime": {
     "end_time": "2022-05-13T15:49:27.053325Z",
     "start_time": "2022-05-13T15:49:27.053325Z"
    }
   },
   "outputs": [],
   "source": [
    "RENDIMIENTO_FFNN_4[[\"Total\"]].describe()"
   ]
  },
  {
   "cell_type": "code",
   "execution_count": null,
   "id": "8fda389e",
   "metadata": {
    "ExecuteTime": {
     "end_time": "2022-05-13T15:49:27.055320Z",
     "start_time": "2022-05-13T15:49:27.055320Z"
    }
   },
   "outputs": [],
   "source": [
    "RENDIMIENTO_FFNN_4[[\"Avg_Nro_Gest\"]].describe()"
   ]
  },
  {
   "cell_type": "code",
   "execution_count": null,
   "id": "547a83cc",
   "metadata": {
    "ExecuteTime": {
     "end_time": "2022-05-13T15:49:27.056317Z",
     "start_time": "2022-05-13T15:49:27.056317Z"
    },
    "scrolled": true
   },
   "outputs": [],
   "source": [
    "RENDIMIENTO_FFNN_4[[\"Matricula\",\"Total\",\"Avg_Nro_Gest\",'Avg_Nro_calls', 'Avg_Nro_visits']].sort_values(['Total'], ascending=[False])"
   ]
  },
  {
   "cell_type": "code",
   "execution_count": null,
   "id": "13dfa1e9",
   "metadata": {
    "ExecuteTime": {
     "end_time": "2022-05-13T15:49:27.058312Z",
     "start_time": "2022-05-13T15:49:27.058312Z"
    }
   },
   "outputs": [],
   "source": [
    "RENDIMIENTO_FFNN_42 = RENDIMIENTO_FFNN_4[[\"Matricula\",\"Total\",\"Avg_Nro_Gest\",'Avg_Nro_calls', 'Avg_Nro_visits']]"
   ]
  },
  {
   "cell_type": "code",
   "execution_count": null,
   "id": "c1500e19",
   "metadata": {
    "ExecuteTime": {
     "end_time": "2022-05-13T15:49:27.059309Z",
     "start_time": "2022-05-13T15:49:27.059309Z"
    }
   },
   "outputs": [],
   "source": [
    "RENDIMIENTO_FFNN_42.columns"
   ]
  },
  {
   "cell_type": "code",
   "execution_count": null,
   "id": "f5208266",
   "metadata": {
    "ExecuteTime": {
     "end_time": "2022-05-13T15:49:27.060307Z",
     "start_time": "2022-05-13T15:49:27.060307Z"
    }
   },
   "outputs": [],
   "source": [
    "RENDIMIENTO_FFNN_42[\"DR\"] = np.where((RENDIMIENTO_FFNN_4['Total']>=5)&(RENDIMIENTO_FFNN_4['Avg_Nro_Gest']<=33), 'TOP', 'BOT') \n",
    "RENDIMIENTO_FFNN_42.sort_values(['Total'], ascending=[False]).head(35)"
   ]
  },
  {
   "cell_type": "code",
   "execution_count": null,
   "id": "59f9a4b4",
   "metadata": {
    "ExecuteTime": {
     "end_time": "2022-05-13T15:49:27.062301Z",
     "start_time": "2022-05-13T15:49:27.062301Z"
    },
    "scrolled": true
   },
   "outputs": [],
   "source": [
    "RENDIMIENTO_FFNN_42[\"DR\"] = np.where((RENDIMIENTO_FFNN_4['Total']>=5), 'TOP', 'BOT') \n",
    "RENDIMIENTO_FFNN_42.sort_values(['Total'], ascending=[False]).head(35)"
   ]
  },
  {
   "cell_type": "code",
   "execution_count": null,
   "id": "0a8f53d9",
   "metadata": {
    "ExecuteTime": {
     "end_time": "2022-05-13T15:49:27.064296Z",
     "start_time": "2022-05-13T15:49:27.064296Z"
    }
   },
   "outputs": [],
   "source": [
    "RENDIMIENTO_FFNN_42[[\"Total\",\"Avg_Nro_Gest\",\"DR\"]].boxplot(by='DR', figsize=(10, 7))"
   ]
  },
  {
   "cell_type": "code",
   "execution_count": null,
   "id": "5d0b255f",
   "metadata": {
    "ExecuteTime": {
     "end_time": "2022-05-13T15:49:27.065294Z",
     "start_time": "2022-05-13T15:49:27.065294Z"
    }
   },
   "outputs": [],
   "source": [
    "display(pg.corr(RENDIMIENTO_FFNN_42['Avg_Nro_Gest'], RENDIMIENTO_FFNN_42['Total'], method='pearson'))"
   ]
  },
  {
   "cell_type": "code",
   "execution_count": null,
   "id": "1bf56399",
   "metadata": {
    "ExecuteTime": {
     "end_time": "2022-05-13T15:49:27.066290Z",
     "start_time": "2022-05-13T15:49:27.066290Z"
    }
   },
   "outputs": [],
   "source": [
    "display(pg.corr(RENDIMIENTO_FFNN_42['Avg_Nro_calls'], RENDIMIENTO_FFNN_42['Total'], method='pearson'))"
   ]
  },
  {
   "cell_type": "code",
   "execution_count": null,
   "id": "e3e48489",
   "metadata": {
    "ExecuteTime": {
     "end_time": "2022-05-13T15:49:27.068286Z",
     "start_time": "2022-05-13T15:49:27.068286Z"
    }
   },
   "outputs": [],
   "source": [
    "display(pg.corr(RENDIMIENTO_FFNN_42['Avg_Nro_visits'], RENDIMIENTO_FFNN_42['Total'], method='pearson'))"
   ]
  },
  {
   "cell_type": "code",
   "execution_count": null,
   "id": "8796a201",
   "metadata": {
    "ExecuteTime": {
     "end_time": "2022-05-13T15:49:27.069283Z",
     "start_time": "2022-05-13T15:49:27.069283Z"
    }
   },
   "outputs": [],
   "source": [
    "print('TOP' , RENDIMIENTO_FFNN_42[RENDIMIENTO_FFNN_42[\"DR\"] == \"TOP\"][[\"Total\"]].median())\n",
    "\n",
    "print('BOT' , RENDIMIENTO_FFNN_42[RENDIMIENTO_FFNN_42[\"DR\"] == \"BOT\"][[\"Total\"]].median())\n",
    "\n",
    "print('TOP' , RENDIMIENTO_FFNN_42[RENDIMIENTO_FFNN_42[\"DR\"] == \"TOP\"][[\"Avg_Nro_Gest\"]].median())\n",
    "\n",
    "print('BOT' , RENDIMIENTO_FFNN_42[RENDIMIENTO_FFNN_42[\"DR\"] == \"BOT\"][[\"Avg_Nro_Gest\"]].median())"
   ]
  },
  {
   "cell_type": "code",
   "execution_count": null,
   "id": "dca1b9e1",
   "metadata": {},
   "outputs": [],
   "source": []
  }
 ],
 "metadata": {
  "kernelspec": {
   "display_name": "Python 3 (ipykernel)",
   "language": "python",
   "name": "python3"
  },
  "language_info": {
   "codemirror_mode": {
    "name": "ipython",
    "version": 3
   },
   "file_extension": ".py",
   "mimetype": "text/x-python",
   "name": "python",
   "nbconvert_exporter": "python",
   "pygments_lexer": "ipython3",
   "version": "3.7.12"
  },
  "toc": {
   "base_numbering": 1,
   "nav_menu": {
    "height": "328px",
    "width": "350px"
   },
   "number_sections": true,
   "sideBar": true,
   "skip_h1_title": false,
   "title_cell": "Table of Contents",
   "title_sidebar": "Contents",
   "toc_cell": false,
   "toc_position": {
    "height": "calc(100% - 180px)",
    "left": "10px",
    "top": "150px",
    "width": "165px"
   },
   "toc_section_display": true,
   "toc_window_display": true
  },
  "varInspector": {
   "cols": {
    "lenName": 16,
    "lenType": 16,
    "lenVar": 40
   },
   "kernels_config": {
    "python": {
     "delete_cmd_postfix": "",
     "delete_cmd_prefix": "del ",
     "library": "var_list.py",
     "varRefreshCmd": "print(var_dic_list())"
    },
    "r": {
     "delete_cmd_postfix": ") ",
     "delete_cmd_prefix": "rm(",
     "library": "var_list.r",
     "varRefreshCmd": "cat(var_dic_list()) "
    }
   },
   "oldHeight": 122.85,
   "position": {
    "height": "144.85px",
    "left": "782px",
    "right": "20px",
    "top": "120px",
    "width": "350px"
   },
   "types_to_exclude": [
    "module",
    "function",
    "builtin_function_or_method",
    "instance",
    "_Feature"
   ],
   "varInspector_section_display": "block",
   "window_display": false
  },
  "vscode": {
   "interpreter": {
    "hash": "f4e9cda46bb2d9d7fe6ecdff0f8336a934348bf06cb492f2f42f60739b3403b4"
   }
  }
 },
 "nbformat": 4,
 "nbformat_minor": 5
}
